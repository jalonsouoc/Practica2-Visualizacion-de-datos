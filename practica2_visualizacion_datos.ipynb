{
 "cells": [
  {
   "cell_type": "markdown",
   "id": "4174c847",
   "metadata": {},
   "source": [
    "<div style=\"width: 100%; clear: both;\">\n",
    "<div style=\"float: left; width: 50%;\">\n",
    "<img src=\"http://www.uoc.edu/portal/_resources/common/imatges/marca_UOC/UOC_Masterbrand.jpg\", align=\"left\">\n",
    "</div>\n",
    "<div style=\"float: right; width: 50%;\">\n",
    "<p style=\"margin: 0; padding-top: 22px; text-align:right;\">Visualización de Datos</p>\n",
    "<p style=\"margin: 0; text-align:right;\">Máster Universitario de Ciencia de datos </p>\n",
    "<p style=\"margin: 0; text-align:right;\">Universitat Oberta de Catalunya</p>\n",
    "    <p style=\"margin: 0; text-align:right; padding-button: 100px;\">Autor: Jorge Alonso Hernández</p>\n",
    "</div>\n",
    "</div>\n",
    "<div style=\"width:100%;\">&nbsp;</div>\n",
    "\n",
    "\n",
    "# Práctica 2: Creación de la visualización y entrega del proyecto"
   ]
  },
  {
   "cell_type": "code",
   "execution_count": 1,
   "id": "8b1da6f9",
   "metadata": {},
   "outputs": [],
   "source": [
    "#Carga de librerías\n",
    "import pandas as pd\n",
    "import numpy as np \n",
    "import itertools\n",
    "\n",
    "from datetime import datetime"
   ]
  },
  {
   "cell_type": "code",
   "execution_count": 2,
   "id": "49ce3938",
   "metadata": {},
   "outputs": [],
   "source": [
    "data_covid = pd.read_csv(\"datasets/covid_canarias.csv\")\n",
    "municipios = pd.read_csv(\"datasets/municipios.csv\")\n",
    "islas = pd.read_csv(\"datasets/islas.csv\")"
   ]
  },
  {
   "cell_type": "code",
   "execution_count": 3,
   "id": "5ef02609",
   "metadata": {},
   "outputs": [
    {
     "data": {
      "text/html": [
       "<div>\n",
       "<style scoped>\n",
       "    .dataframe tbody tr th:only-of-type {\n",
       "        vertical-align: middle;\n",
       "    }\n",
       "\n",
       "    .dataframe tbody tr th {\n",
       "        vertical-align: top;\n",
       "    }\n",
       "\n",
       "    .dataframe thead th {\n",
       "        text-align: right;\n",
       "    }\n",
       "</style>\n",
       "<table border=\"1\" class=\"dataframe\">\n",
       "  <thead>\n",
       "    <tr style=\"text-align: right;\">\n",
       "      <th></th>\n",
       "      <th>fecha_datos</th>\n",
       "      <th>isla</th>\n",
       "      <th>municipio</th>\n",
       "      <th>sexo</th>\n",
       "      <th>grupo_edad</th>\n",
       "      <th>fecha_caso</th>\n",
       "      <th>fecha_fallecido</th>\n",
       "      <th>fecha_curado</th>\n",
       "      <th>estado_caso</th>\n",
       "      <th>identificacion_caso</th>\n",
       "      <th>fallecido</th>\n",
       "      <th>curado</th>\n",
       "      <th>continua_enfermo</th>\n",
       "      <th>provincia</th>\n",
       "    </tr>\n",
       "  </thead>\n",
       "  <tbody>\n",
       "    <tr>\n",
       "      <th>0</th>\n",
       "      <td>14/03/2022</td>\n",
       "      <td>TENERIFE</td>\n",
       "      <td>Adeje</td>\n",
       "      <td>Hombre</td>\n",
       "      <td>30 - 39</td>\n",
       "      <td>02/01/2022</td>\n",
       "      <td>NaN</td>\n",
       "      <td>13/01/2022</td>\n",
       "      <td>Cerrado por alta médica</td>\n",
       "      <td>Asignación</td>\n",
       "      <td>No</td>\n",
       "      <td>Sí</td>\n",
       "      <td>No</td>\n",
       "      <td>Santa Cruz de Tenerife</td>\n",
       "    </tr>\n",
       "    <tr>\n",
       "      <th>1</th>\n",
       "      <td>14/03/2022</td>\n",
       "      <td>TENERIFE</td>\n",
       "      <td>Adeje</td>\n",
       "      <td>Hombre</td>\n",
       "      <td>30 - 39</td>\n",
       "      <td>08/01/2022</td>\n",
       "      <td>NaN</td>\n",
       "      <td>19/01/2022</td>\n",
       "      <td>Cerrado por alta médica</td>\n",
       "      <td>Asignación</td>\n",
       "      <td>No</td>\n",
       "      <td>Sí</td>\n",
       "      <td>No</td>\n",
       "      <td>Santa Cruz de Tenerife</td>\n",
       "    </tr>\n",
       "    <tr>\n",
       "      <th>2</th>\n",
       "      <td>14/03/2022</td>\n",
       "      <td>TENERIFE</td>\n",
       "      <td>Adeje</td>\n",
       "      <td>Hombre</td>\n",
       "      <td>40 - 49</td>\n",
       "      <td>06/01/2022</td>\n",
       "      <td>NaN</td>\n",
       "      <td>17/01/2022</td>\n",
       "      <td>Cerrado por alta médica</td>\n",
       "      <td>Asignación</td>\n",
       "      <td>No</td>\n",
       "      <td>Sí</td>\n",
       "      <td>No</td>\n",
       "      <td>Santa Cruz de Tenerife</td>\n",
       "    </tr>\n",
       "    <tr>\n",
       "      <th>3</th>\n",
       "      <td>14/03/2022</td>\n",
       "      <td>TENERIFE</td>\n",
       "      <td>Adeje</td>\n",
       "      <td>Hombre</td>\n",
       "      <td>50 - 59</td>\n",
       "      <td>02/01/2022</td>\n",
       "      <td>NaN</td>\n",
       "      <td>13/01/2022</td>\n",
       "      <td>Cerrado por alta médica</td>\n",
       "      <td>Asignación</td>\n",
       "      <td>No</td>\n",
       "      <td>Sí</td>\n",
       "      <td>No</td>\n",
       "      <td>Santa Cruz de Tenerife</td>\n",
       "    </tr>\n",
       "    <tr>\n",
       "      <th>4</th>\n",
       "      <td>14/03/2022</td>\n",
       "      <td>TENERIFE</td>\n",
       "      <td>Adeje</td>\n",
       "      <td>Hombre</td>\n",
       "      <td>40 - 49</td>\n",
       "      <td>08/01/2022</td>\n",
       "      <td>NaN</td>\n",
       "      <td>19/01/2022</td>\n",
       "      <td>Cerrado por alta médica</td>\n",
       "      <td>Asignación</td>\n",
       "      <td>No</td>\n",
       "      <td>Sí</td>\n",
       "      <td>No</td>\n",
       "      <td>Santa Cruz de Tenerife</td>\n",
       "    </tr>\n",
       "  </tbody>\n",
       "</table>\n",
       "</div>"
      ],
      "text/plain": [
       "  fecha_datos      isla municipio    sexo grupo_edad  fecha_caso  \\\n",
       "0  14/03/2022  TENERIFE     Adeje  Hombre    30 - 39  02/01/2022   \n",
       "1  14/03/2022  TENERIFE     Adeje  Hombre    30 - 39  08/01/2022   \n",
       "2  14/03/2022  TENERIFE     Adeje  Hombre    40 - 49  06/01/2022   \n",
       "3  14/03/2022  TENERIFE     Adeje  Hombre    50 - 59  02/01/2022   \n",
       "4  14/03/2022  TENERIFE     Adeje  Hombre    40 - 49  08/01/2022   \n",
       "\n",
       "  fecha_fallecido fecha_curado              estado_caso identificacion_caso  \\\n",
       "0             NaN   13/01/2022  Cerrado por alta médica          Asignación   \n",
       "1             NaN   19/01/2022  Cerrado por alta médica          Asignación   \n",
       "2             NaN   17/01/2022  Cerrado por alta médica          Asignación   \n",
       "3             NaN   13/01/2022  Cerrado por alta médica          Asignación   \n",
       "4             NaN   19/01/2022  Cerrado por alta médica          Asignación   \n",
       "\n",
       "  fallecido curado continua_enfermo               provincia  \n",
       "0        No     Sí               No  Santa Cruz de Tenerife  \n",
       "1        No     Sí               No  Santa Cruz de Tenerife  \n",
       "2        No     Sí               No  Santa Cruz de Tenerife  \n",
       "3        No     Sí               No  Santa Cruz de Tenerife  \n",
       "4        No     Sí               No  Santa Cruz de Tenerife  "
      ]
     },
     "execution_count": 3,
     "metadata": {},
     "output_type": "execute_result"
    }
   ],
   "source": [
    "data_covid.head()"
   ]
  },
  {
   "cell_type": "code",
   "execution_count": 8,
   "id": "ac450bbe",
   "metadata": {},
   "outputs": [],
   "source": [
    "#Obtenenmos los nombres de los municipios en el documento de casos de covid\n",
    "municipios_ori = pd.DataFrame(pd.unique(data_covid['municipio']))\n",
    "municipios_ori.columns = ['municipio']\n",
    "\n",
    "#Comprobamos los nombres de los municipios\n",
    "df_destino = municipios.loc[~municipios['municipio'].isin(pd.unique(data_covid['municipio']))]\n",
    "df_destino = pd.DataFrame(df_destino['municipio'])\n",
    "df_origen = municipios_ori.loc[~municipios_ori['municipio'].isin(municipios['municipio'])]\n",
    "\n",
    "df_origen = df_origen.sort_values(by='municipio')\n",
    "df_destino = df_destino.sort_values(by='municipio')\n",
    "\n",
    "df_origen = df_origen.reset_index()\n",
    "df_destino = df_destino.reset_index()"
   ]
  },
  {
   "cell_type": "code",
   "execution_count": 9,
   "id": "88676307",
   "metadata": {},
   "outputs": [
    {
     "name": "stdout",
     "output_type": "stream",
     "text": [
      "   index              municipio\n",
      "0     45               El Pinar\n",
      "1     81           Fuencaliente\n",
      "2     70      Icod de Los Vinos\n",
      "3      5              La Laguna\n",
      "4     24      Puerto de La Cruz\n",
      "5     87        SIN ESPECIFICAR\n",
      "6     32  San juan de La Rambla\n",
      "7     29    Santa María de Guía\n",
      "8     67            Valsequillo\n",
      "9     69               Vilaflor\n"
     ]
    }
   ],
   "source": [
    "print(df_origen)"
   ]
  },
  {
   "cell_type": "code",
   "execution_count": 10,
   "id": "569e6274",
   "metadata": {},
   "outputs": [
    {
     "name": "stdout",
     "output_type": "stream",
     "text": [
      "   index                            municipio\n",
      "0     87                El Pinar de El Hierro\n",
      "1     47             Fuencaliente de La Palma\n",
      "2     55                    Icod de los Vinos\n",
      "3     61                    Puerto de la Cruz\n",
      "4     56           San Cristóbal de La Laguna\n",
      "5     67                San Juan de la Rambla\n",
      "6     22  Santa María de Guía de Gran Canaria\n",
      "7     30          Valsequillo de Gran Canaria\n",
      "8     85                   Vilaflor de Chasna\n"
     ]
    }
   ],
   "source": [
    "print(df_destino)"
   ]
  },
  {
   "cell_type": "code",
   "execution_count": 11,
   "id": "c12a03dc",
   "metadata": {},
   "outputs": [],
   "source": [
    "#Eliminamos el valor SIN ESPECIFICAR pues es correcto que estos valores no se visualicen en el mapa \n",
    "df_origen = df_origen.drop(5).reset_index()"
   ]
  },
  {
   "cell_type": "code",
   "execution_count": 12,
   "id": "3c6e888d",
   "metadata": {},
   "outputs": [
    {
     "name": "stdout",
     "output_type": "stream",
     "text": [
      "   level_0  index              municipio\n",
      "0        0     45               El Pinar\n",
      "1        1     81           Fuencaliente\n",
      "2        2     70      Icod de Los Vinos\n",
      "3        3      5              La Laguna\n",
      "4        4     24      Puerto de La Cruz\n",
      "5        6     32  San juan de La Rambla\n",
      "6        7     29    Santa María de Guía\n",
      "7        8     67            Valsequillo\n",
      "8        9     69               Vilaflor\n"
     ]
    }
   ],
   "source": [
    "print(df_origen)"
   ]
  },
  {
   "cell_type": "code",
   "execution_count": 13,
   "id": "864d1d2c",
   "metadata": {},
   "outputs": [],
   "source": [
    "for i in range(0,len(df_origen)):\n",
    "    data_covid = data_covid.replace(df_origen['municipio'][i], df_destino['municipio'][i])\n"
   ]
  },
  {
   "cell_type": "code",
   "execution_count": 14,
   "id": "a0fe855e",
   "metadata": {},
   "outputs": [
    {
     "name": "stdout",
     "output_type": "stream",
     "text": [
      "       fecha_datos       isla                   municipio    sexo grupo_edad  \\\n",
      "361     14/03/2022   TENERIFE  San Cristóbal de La Laguna  Hombre    30 - 39   \n",
      "1099    14/03/2022   TENERIFE  San Cristóbal de La Laguna  Hombre    30 - 39   \n",
      "1100    14/03/2022   TENERIFE  San Cristóbal de La Laguna  Hombre    40 - 49   \n",
      "1101    14/03/2022   TENERIFE  San Cristóbal de La Laguna  Hombre      0 - 9   \n",
      "1102    14/03/2022   TENERIFE  San Cristóbal de La Laguna  Hombre    50 - 59   \n",
      "...            ...        ...                         ...     ...        ...   \n",
      "563957  14/03/2022   TENERIFE  San Cristóbal de La Laguna   Mujer    50 - 59   \n",
      "563959  14/03/2022   TENERIFE  San Cristóbal de La Laguna  Hombre    40 - 49   \n",
      "565059  14/03/2022   TENERIFE  San Cristóbal de La Laguna   Mujer    30 - 39   \n",
      "565390  14/03/2022  EL HIERRO  San Cristóbal de La Laguna  Hombre    30 - 39   \n",
      "565767  14/03/2022  LANZAROTE  San Cristóbal de La Laguna  Hombre    60 - 69   \n",
      "\n",
      "        fecha_caso fecha_fallecido fecha_curado              estado_caso  \\\n",
      "361     27/04/2021             NaN   07/05/2021  Cerrado por alta médica   \n",
      "1099    12/01/2022             NaN   21/01/2022  Cerrado por alta médica   \n",
      "1100    17/01/2022             NaN   28/01/2022  Cerrado por alta médica   \n",
      "1101    12/01/2022             NaN   17/01/2022  Cerrado por alta médica   \n",
      "1102    12/01/2022             NaN   23/01/2022  Cerrado por alta médica   \n",
      "...            ...             ...          ...                      ...   \n",
      "563957  01/05/2021             NaN   15/05/2021  Cerrado por alta médica   \n",
      "563959  29/04/2021             NaN   06/05/2021  Cerrado por alta médica   \n",
      "565059  10/01/2022             NaN   21/01/2022  Cerrado por alta médica   \n",
      "565390  10/01/2022             NaN   17/01/2022  Cerrado por alta médica   \n",
      "565767  06/01/2022             NaN   13/01/2022  Cerrado por alta médica   \n",
      "\n",
      "       identificacion_caso fallecido curado continua_enfermo  \\\n",
      "361             Asignación        No     Sí               No   \n",
      "1099            Asignación        No     Sí               No   \n",
      "1100            Asignación        No     Sí               No   \n",
      "1101            Asignación        No     Sí               No   \n",
      "1102            Asignación        No     Sí               No   \n",
      "...                    ...       ...    ...              ...   \n",
      "563957          Residencia        No     Sí               No   \n",
      "563959          Residencia        No     Sí               No   \n",
      "565059          Residencia        No     Sí               No   \n",
      "565390          Residencia        No     Sí               No   \n",
      "565767          Residencia        No     Sí               No   \n",
      "\n",
      "                     provincia  \n",
      "361     Santa Cruz de Tenerife  \n",
      "1099    Santa Cruz de Tenerife  \n",
      "1100    Santa Cruz de Tenerife  \n",
      "1101    Santa Cruz de Tenerife  \n",
      "1102    Santa Cruz de Tenerife  \n",
      "...                        ...  \n",
      "563957  Santa Cruz de Tenerife  \n",
      "563959  Santa Cruz de Tenerife  \n",
      "565059  Santa Cruz de Tenerife  \n",
      "565390  Santa Cruz de Tenerife  \n",
      "565767              Las Palmas  \n",
      "\n",
      "[7355 rows x 14 columns]\n"
     ]
    }
   ],
   "source": [
    "print(data_covid[data_covid['municipio'] == 'San Cristóbal de La Laguna'])"
   ]
  },
  {
   "cell_type": "code",
   "execution_count": 15,
   "id": "ba5d30f4",
   "metadata": {},
   "outputs": [],
   "source": [
    "asignacion = data_covid[data_covid['identificacion_caso'] == 'Asignación']\n",
    "residencia = data_covid[data_covid['identificacion_caso'] == 'Residencia']"
   ]
  },
  {
   "cell_type": "code",
   "execution_count": 16,
   "id": "0c802558",
   "metadata": {},
   "outputs": [],
   "source": [
    "df_municipios = pd.DataFrame(municipios['municipio'])\n",
    "df_islas = pd.DataFrame(islas['isla'])\n",
    "df_provincias = pd.DataFrame(pd.unique(islas['provincia']))\n",
    "df_provincias.columns = ['provincia']"
   ]
  },
  {
   "cell_type": "code",
   "execution_count": 17,
   "id": "048bdaa0",
   "metadata": {},
   "outputs": [
    {
     "name": "stdout",
     "output_type": "stream",
     "text": [
      "    geocode geocode_provincia geocode_isla                   municipio  \\\n",
      "3     35004             ES701        ES708                    Arrecife   \n",
      "15    35016             ES701        ES705  Las Palmas de Gran Canaria   \n",
      "16    35017             ES701        ES704          Puerto del Rosario   \n",
      "69    38036             ES702        ES706  San Sebastián de La Gomera   \n",
      "70    38037             ES702        ES707      Santa Cruz de La Palma   \n",
      "71    38038             ES702        ES709      Santa Cruz de Tenerife   \n",
      "81    38048             ES702        ES703                    Valverde   \n",
      "\n",
      "    sueprficie  perimetro   longitud    latitud  longitud_capital  \\\n",
      "3      2427.54      36641 -13.551117  28.978878        -13.546719   \n",
      "15    10331.60     108650 -15.458582  28.102743        -15.428533   \n",
      "16    29077.10      92564 -13.971636  28.499263        -13.859694   \n",
      "69    11313.40      59100 -17.167078  28.094869        -17.109706   \n",
      "70     4341.21      31883 -17.798783  28.705235        -17.764744   \n",
      "71    15044.00     123587 -16.232866  28.499242        -16.254634   \n",
      "81    10368.50      79624 -17.948833  27.770721        -17.914964   \n",
      "\n",
      "    latitud_capital  \n",
      "3         28.959235  \n",
      "15        28.125058  \n",
      "16        28.498774  \n",
      "69        28.090378  \n",
      "70        28.683243  \n",
      "71        28.469805  \n",
      "81        27.806884  \n"
     ]
    }
   ],
   "source": [
    "capitales = ['Santa Cruz de Tenerife', 'Santa Cruz de La Palma', 'San Sebastián de La Gomera', 'Valverde', 'Las Palmas de Gran Canaria', 'Puerto del Rosario', 'Arrecife']\n",
    "df_capitales = municipios.loc[municipios['municipio'].isin(capitales)]\n",
    "print(df_capitales)"
   ]
  },
  {
   "cell_type": "code",
   "execution_count": 18,
   "id": "78f0fc8e",
   "metadata": {},
   "outputs": [],
   "source": [
    "df_capitales = df_capitales[['municipio', 'longitud_capital','latitud_capital']]"
   ]
  },
  {
   "cell_type": "code",
   "execution_count": 19,
   "id": "f4ebe2df",
   "metadata": {},
   "outputs": [],
   "source": [
    "def conversion(df, tipo_agrupamiento):\n",
    "    df_result = pd.DataFrame()\n",
    "    df_result_accumul = pd.DataFrame()\n",
    "        \n",
    "    if tipo_agrupamiento == 'municipios':\n",
    "        df_agrupamientos = df_municipios\n",
    "        label = 'municipio'\n",
    "    elif tipo_agrupamiento == 'islas':\n",
    "        df_agrupamientos = df_islas\n",
    "        label = 'isla'\n",
    "    elif tipo_agrupamiento == 'provincias':\n",
    "        df_agrupamientos = df_provincias\n",
    "        label = 'provincia'\n",
    "    else:\n",
    "        return None\n",
    "    \n",
    "    for index, row in df_agrupamientos.iterrows():\n",
    "        aux = df[df[label] == row[label]]\n",
    "        aux = aux.groupby(['fecha_caso',label]).size().reset_index()\n",
    "        aux.columns=['fecha', label, row[label]]\n",
    "        aux = aux[['fecha', row[label]]]\n",
    "        aux['fecha'] = pd.to_datetime(aux['fecha'], dayfirst=True,format='%d/%m/%Y', exact=True)\n",
    "        aux['fecha'] = aux['fecha'].dt.strftime('%Y/%m/%d')\n",
    "        \n",
    "        aux = aux.sort_values(by='fecha')\n",
    "        aux = aux.set_index('fecha')\n",
    "        aux_acc = aux.cumsum()\n",
    "        aux = aux.transpose()\n",
    "        aux_acc = aux_acc.transpose()\n",
    "        \n",
    "        df_result = pd.concat([df_result, aux], axis = 0)\n",
    "        df_result_accumul = pd.concat([df_result_accumul, aux_acc], axis = 0)\n",
    "    \n",
    "    \n",
    "    ## Ordenamos por fecha y cumplimentamos los NaN con el valor anterior\n",
    "    df_result_accumul = df_result_accumul.transpose()\n",
    "    df_result_accumul = df_result_accumul.sort_values(by=['fecha'])\n",
    "    df_result_accumul[0:1] = df_result_accumul[0:1].fillna(0)   \n",
    "    df_result_accumul = df_result_accumul.fillna(method=\"pad\")\n",
    "    df_result_accumul = df_result_accumul.transpose()\n",
    "    \n",
    "    #Ordenamos por fecha y cumplimentamos los NaN por 0\n",
    "    df_result = df_result.replace(np.nan, 0)\n",
    "    df_result = df_result.transpose()\n",
    "    df_result = df_result.sort_values(by=['fecha'])\n",
    "    df_result = df_result.transpose()\n",
    "    \n",
    "    df_result = df_result.reset_index()\n",
    "    df_result_accumul = df_result_accumul.reset_index()\n",
    "    \n",
    "    return df_result, df_result_accumul"
   ]
  },
  {
   "cell_type": "code",
   "execution_count": 20,
   "id": "3c4c691a",
   "metadata": {},
   "outputs": [],
   "source": [
    "data_municipios, data_municipios_accumul =  conversion(asignacion, 'municipios')\n",
    "data_islas, data_islas_accumul = conversion(asignacion, 'islas')\n",
    "data_provincias, data_provincias_accumul = conversion(asignacion, 'provincias')"
   ]
  },
  {
   "cell_type": "code",
   "execution_count": 21,
   "id": "1abeda7b",
   "metadata": {},
   "outputs": [],
   "source": [
    "data_municipios_residencia, data_municipios_residencia_accumul =  conversion(residencia, 'municipios')\n",
    "data_islas_residencia, data_islas_residencia_accumul = conversion(residencia, 'islas')\n",
    "data_provincias_residencia, data_provincias_residencia_accumul = conversion(residencia, 'provincias')"
   ]
  },
  {
   "cell_type": "code",
   "execution_count": 22,
   "id": "8cad3fe3",
   "metadata": {},
   "outputs": [
    {
     "name": "stdout",
     "output_type": "stream",
     "text": [
      "fecha          index  2021/01/01  2021/01/02  2021/01/03  2021/01/04  \\\n",
      "0          EL HIERRO         0.0         0.0         1.0        14.0   \n",
      "1      FUERTEVENTURA         1.0         5.0        17.0        21.0   \n",
      "2       GRAN CANARIA        62.0       125.0       208.0       280.0   \n",
      "3          LA GOMERA         0.0         1.0         1.0         5.0   \n",
      "4           LA PALMA         0.0         3.0         6.0         7.0   \n",
      "5          LANZAROTE        14.0        46.0        66.0        87.0   \n",
      "6           TENERIFE        67.0       150.0       199.0       315.0   \n",
      "\n",
      "fecha  2021/01/05  2021/01/06  2021/01/07  2021/01/08  2021/01/09  ...  \\\n",
      "0            15.0        15.0        16.0        18.0        18.0  ...   \n",
      "1            47.0        63.0        78.0       107.0       137.0  ...   \n",
      "2           379.0       458.0       533.0       681.0       790.0  ...   \n",
      "3             5.0         5.0         5.0         8.0        13.0  ...   \n",
      "4            11.0        11.0        13.0        22.0        26.0  ...   \n",
      "5           108.0       157.0       218.0       243.0       305.0  ...   \n",
      "6           414.0       520.0       610.0       702.0       775.0  ...   \n",
      "\n",
      "fecha  2022/03/04  2022/03/05  2022/03/06  2022/03/07  2022/03/08  2022/03/09  \\\n",
      "0          1746.0      1755.0      1756.0      1774.0      1801.0      1818.0   \n",
      "1         13926.0     13940.0     13959.0     13978.0     13990.0     14008.0   \n",
      "2        103485.0    103721.0    103893.0    104327.0    104785.0    105241.0   \n",
      "3          1682.0      1698.0      1700.0      1742.0      1759.0      1788.0   \n",
      "4          9786.0      9810.0      9819.0      9922.0     10020.0     10120.0   \n",
      "5         18854.0     18895.0     18949.0     19079.0     19208.0     19234.0   \n",
      "6        123420.0    123715.0    124001.0    124801.0    125712.0    126598.0   \n",
      "\n",
      "fecha  2022/03/10  2022/03/11  2022/03/12  2022/03/13  \n",
      "0          1833.0      1856.0      1859.0      1867.0  \n",
      "1         14033.0     14061.0     14081.0     14085.0  \n",
      "2        105721.0    106157.0    106400.0    106648.0  \n",
      "3          1824.0      1846.0      1867.0      1880.0  \n",
      "4         10202.0     10289.0     10333.0     10348.0  \n",
      "5         19255.0     19278.0     19292.0     19307.0  \n",
      "6        127393.0    128244.0    128600.0    128854.0  \n",
      "\n",
      "[7 rows x 438 columns]\n"
     ]
    }
   ],
   "source": [
    "print(data_islas_accumul)"
   ]
  },
  {
   "cell_type": "code",
   "execution_count": 23,
   "id": "eea0b56d",
   "metadata": {},
   "outputs": [],
   "source": [
    "data_provincias.to_excel('data/provincias_asignacion.xlsx', index=False, encoding=\"utf8\")\n",
    "data_provincias_accumul.to_excel('data/provincias_asignacion_acc.xlsx', index=False, encoding=\"utf8\")\n",
    "data_islas.to_excel('data/islas_asignacion.xlsx', index=False, encoding=\"utf8\")\n",
    "data_islas_accumul.to_excel('data/islas_asignacion_acc.xlsx', index=False, encoding=\"utf8\")\n",
    "data_municipios.to_excel('data/municipios_asignacion.xlsx', index=False, encoding=\"utf8\")\n",
    "data_municipios_accumul.to_excel('data/municipios_asignacion_acc.xlsx', index=False, encoding=\"utf8\")"
   ]
  },
  {
   "cell_type": "code",
   "execution_count": 24,
   "id": "1fe9631f",
   "metadata": {},
   "outputs": [],
   "source": [
    "data_provincias_residencia.to_excel('data/provincias_residencia.xlsx', index=False, encoding=\"utf8\")\n",
    "data_provincias_residencia_accumul.to_excel('data/provincias_residencia_acc.xlsx', index=False, encoding=\"utf8\")\n",
    "data_islas_residencia.to_excel('data/islas_residencia.xlsx', index=False, encoding=\"utf8\")\n",
    "data_islas_residencia_accumul.to_excel('data/islas_residencia_acc.xlsx', index=False, encoding=\"utf8\")\n",
    "data_municipios_residencia.to_excel('data/municipios_residencia.xlsx', index=False, encoding=\"utf8\")\n",
    "data_municipios_residencia_accumul.to_excel('data/municipios_residencia_acc.xlsx', index=False, encoding=\"utf8\")"
   ]
  },
  {
   "cell_type": "code",
   "execution_count": 25,
   "id": "42d2a237",
   "metadata": {},
   "outputs": [],
   "source": [
    "df_capitales.to_csv('mapas/capitales.csv', index=False, sep=\",\")"
   ]
  },
  {
   "cell_type": "code",
   "execution_count": null,
   "id": "6fb77f0a",
   "metadata": {},
   "outputs": [],
   "source": []
  }
 ],
 "metadata": {
  "kernelspec": {
   "display_name": "Python 3 (ipykernel)",
   "language": "python",
   "name": "python3"
  },
  "language_info": {
   "codemirror_mode": {
    "name": "ipython",
    "version": 3
   },
   "file_extension": ".py",
   "mimetype": "text/x-python",
   "name": "python",
   "nbconvert_exporter": "python",
   "pygments_lexer": "ipython3",
   "version": "3.9.12"
  }
 },
 "nbformat": 4,
 "nbformat_minor": 5
}
