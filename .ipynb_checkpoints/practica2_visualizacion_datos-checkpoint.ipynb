{
 "cells": [
  {
   "cell_type": "markdown",
   "id": "4174c847",
   "metadata": {},
   "source": [
    "<div style=\"width: 100%; clear: both;\">\n",
    "<div style=\"float: left; width: 50%;\">\n",
    "<img src=\"http://www.uoc.edu/portal/_resources/common/imatges/marca_UOC/UOC_Masterbrand.jpg\", align=\"left\">\n",
    "</div>\n",
    "<div style=\"float: right; width: 50%;\">\n",
    "<p style=\"margin: 0; padding-top: 22px; text-align:right;\">Visualización de Datos</p>\n",
    "<p style=\"margin: 0; text-align:right;\">Máster Universitario de Ciencia de datos </p>\n",
    "<p style=\"margin: 0; text-align:right;\">Universitat Oberta de Catalunya</p>\n",
    "    <p style=\"margin: 0; text-align:right; padding-button: 100px;\">Autor: Jorge Alonso Hernández</p>\n",
    "</div>\n",
    "</div>\n",
    "<div style=\"width:100%;\">&nbsp;</div>\n",
    "\n",
    "\n",
    "# Práctica 2: Creación de la visualización y entrega del proyecto"
   ]
  },
  {
   "cell_type": "code",
   "execution_count": 1,
   "id": "8b1da6f9",
   "metadata": {},
   "outputs": [],
   "source": [
    "#Carga de librerías\n",
    "import pandas as pd\n",
    "import numpy as np \n",
    "import itertools\n",
    "\n",
    "from datetime import datetime"
   ]
  },
  {
   "cell_type": "code",
   "execution_count": 2,
   "id": "49ce3938",
   "metadata": {},
   "outputs": [],
   "source": [
    "data_covid = pd.read_csv(\"datasets/covid_canarias.csv\")\n",
    "municipios = pd.read_csv(\"datasets/municipios.csv\")\n",
    "islas = pd.read_csv(\"datasets/islas.csv\")"
   ]
  },
  {
   "cell_type": "code",
   "execution_count": 3,
   "id": "5ef02609",
   "metadata": {},
   "outputs": [
    {
     "data": {
      "text/html": [
       "<div>\n",
       "<style scoped>\n",
       "    .dataframe tbody tr th:only-of-type {\n",
       "        vertical-align: middle;\n",
       "    }\n",
       "\n",
       "    .dataframe tbody tr th {\n",
       "        vertical-align: top;\n",
       "    }\n",
       "\n",
       "    .dataframe thead th {\n",
       "        text-align: right;\n",
       "    }\n",
       "</style>\n",
       "<table border=\"1\" class=\"dataframe\">\n",
       "  <thead>\n",
       "    <tr style=\"text-align: right;\">\n",
       "      <th></th>\n",
       "      <th>fecha_datos</th>\n",
       "      <th>isla</th>\n",
       "      <th>municipio</th>\n",
       "      <th>sexo</th>\n",
       "      <th>grupo_edad</th>\n",
       "      <th>fecha_caso</th>\n",
       "      <th>fecha_fallecido</th>\n",
       "      <th>fecha_curado</th>\n",
       "      <th>estado_caso</th>\n",
       "      <th>identificacion_caso</th>\n",
       "      <th>fallecido</th>\n",
       "      <th>curado</th>\n",
       "      <th>continua_enfermo</th>\n",
       "      <th>provincia</th>\n",
       "    </tr>\n",
       "  </thead>\n",
       "  <tbody>\n",
       "    <tr>\n",
       "      <th>0</th>\n",
       "      <td>14/03/2022</td>\n",
       "      <td>TENERIFE</td>\n",
       "      <td>Adeje</td>\n",
       "      <td>Hombre</td>\n",
       "      <td>30 - 39</td>\n",
       "      <td>02/01/2022</td>\n",
       "      <td>NaN</td>\n",
       "      <td>13/01/2022</td>\n",
       "      <td>Cerrado por alta médica</td>\n",
       "      <td>Asignación</td>\n",
       "      <td>No</td>\n",
       "      <td>Sí</td>\n",
       "      <td>No</td>\n",
       "      <td>Santa Cruz de Tenerife</td>\n",
       "    </tr>\n",
       "    <tr>\n",
       "      <th>1</th>\n",
       "      <td>14/03/2022</td>\n",
       "      <td>TENERIFE</td>\n",
       "      <td>Adeje</td>\n",
       "      <td>Hombre</td>\n",
       "      <td>30 - 39</td>\n",
       "      <td>08/01/2022</td>\n",
       "      <td>NaN</td>\n",
       "      <td>19/01/2022</td>\n",
       "      <td>Cerrado por alta médica</td>\n",
       "      <td>Asignación</td>\n",
       "      <td>No</td>\n",
       "      <td>Sí</td>\n",
       "      <td>No</td>\n",
       "      <td>Santa Cruz de Tenerife</td>\n",
       "    </tr>\n",
       "    <tr>\n",
       "      <th>2</th>\n",
       "      <td>14/03/2022</td>\n",
       "      <td>TENERIFE</td>\n",
       "      <td>Adeje</td>\n",
       "      <td>Hombre</td>\n",
       "      <td>40 - 49</td>\n",
       "      <td>06/01/2022</td>\n",
       "      <td>NaN</td>\n",
       "      <td>17/01/2022</td>\n",
       "      <td>Cerrado por alta médica</td>\n",
       "      <td>Asignación</td>\n",
       "      <td>No</td>\n",
       "      <td>Sí</td>\n",
       "      <td>No</td>\n",
       "      <td>Santa Cruz de Tenerife</td>\n",
       "    </tr>\n",
       "    <tr>\n",
       "      <th>3</th>\n",
       "      <td>14/03/2022</td>\n",
       "      <td>TENERIFE</td>\n",
       "      <td>Adeje</td>\n",
       "      <td>Hombre</td>\n",
       "      <td>50 - 59</td>\n",
       "      <td>02/01/2022</td>\n",
       "      <td>NaN</td>\n",
       "      <td>13/01/2022</td>\n",
       "      <td>Cerrado por alta médica</td>\n",
       "      <td>Asignación</td>\n",
       "      <td>No</td>\n",
       "      <td>Sí</td>\n",
       "      <td>No</td>\n",
       "      <td>Santa Cruz de Tenerife</td>\n",
       "    </tr>\n",
       "    <tr>\n",
       "      <th>4</th>\n",
       "      <td>14/03/2022</td>\n",
       "      <td>TENERIFE</td>\n",
       "      <td>Adeje</td>\n",
       "      <td>Hombre</td>\n",
       "      <td>40 - 49</td>\n",
       "      <td>08/01/2022</td>\n",
       "      <td>NaN</td>\n",
       "      <td>19/01/2022</td>\n",
       "      <td>Cerrado por alta médica</td>\n",
       "      <td>Asignación</td>\n",
       "      <td>No</td>\n",
       "      <td>Sí</td>\n",
       "      <td>No</td>\n",
       "      <td>Santa Cruz de Tenerife</td>\n",
       "    </tr>\n",
       "  </tbody>\n",
       "</table>\n",
       "</div>"
      ],
      "text/plain": [
       "  fecha_datos      isla municipio    sexo grupo_edad  fecha_caso  \\\n",
       "0  14/03/2022  TENERIFE     Adeje  Hombre    30 - 39  02/01/2022   \n",
       "1  14/03/2022  TENERIFE     Adeje  Hombre    30 - 39  08/01/2022   \n",
       "2  14/03/2022  TENERIFE     Adeje  Hombre    40 - 49  06/01/2022   \n",
       "3  14/03/2022  TENERIFE     Adeje  Hombre    50 - 59  02/01/2022   \n",
       "4  14/03/2022  TENERIFE     Adeje  Hombre    40 - 49  08/01/2022   \n",
       "\n",
       "  fecha_fallecido fecha_curado              estado_caso identificacion_caso  \\\n",
       "0             NaN   13/01/2022  Cerrado por alta médica          Asignación   \n",
       "1             NaN   19/01/2022  Cerrado por alta médica          Asignación   \n",
       "2             NaN   17/01/2022  Cerrado por alta médica          Asignación   \n",
       "3             NaN   13/01/2022  Cerrado por alta médica          Asignación   \n",
       "4             NaN   19/01/2022  Cerrado por alta médica          Asignación   \n",
       "\n",
       "  fallecido curado continua_enfermo               provincia  \n",
       "0        No     Sí               No  Santa Cruz de Tenerife  \n",
       "1        No     Sí               No  Santa Cruz de Tenerife  \n",
       "2        No     Sí               No  Santa Cruz de Tenerife  \n",
       "3        No     Sí               No  Santa Cruz de Tenerife  \n",
       "4        No     Sí               No  Santa Cruz de Tenerife  "
      ]
     },
     "execution_count": 3,
     "metadata": {},
     "output_type": "execute_result"
    }
   ],
   "source": [
    "data_covid.head()"
   ]
  },
  {
   "cell_type": "code",
   "execution_count": 7,
   "id": "06d98574",
   "metadata": {},
   "outputs": [
    {
     "ename": "AttributeError",
     "evalue": "'Series' object has no attribute 'rest_index'",
     "output_type": "error",
     "traceback": [
      "\u001b[1;31m---------------------------------------------------------------------------\u001b[0m",
      "\u001b[1;31mAttributeError\u001b[0m                            Traceback (most recent call last)",
      "Input \u001b[1;32mIn [7]\u001b[0m, in \u001b[0;36m<cell line: 7>\u001b[1;34m()\u001b[0m\n\u001b[0;32m      5\u001b[0m \u001b[38;5;66;03m#Comprobamos los nombres de los municipios\u001b[39;00m\n\u001b[0;32m      6\u001b[0m df_destino \u001b[38;5;241m=\u001b[39m municipios\u001b[38;5;241m.\u001b[39mloc[\u001b[38;5;241m~\u001b[39mmunicipios[\u001b[38;5;124m'\u001b[39m\u001b[38;5;124mmunicipio\u001b[39m\u001b[38;5;124m'\u001b[39m]\u001b[38;5;241m.\u001b[39misin(pd\u001b[38;5;241m.\u001b[39munique(data_covid[\u001b[38;5;124m'\u001b[39m\u001b[38;5;124mmunicipio\u001b[39m\u001b[38;5;124m'\u001b[39m]))]\n\u001b[1;32m----> 7\u001b[0m df_destino \u001b[38;5;241m=\u001b[39m \u001b[43mdf_destino\u001b[49m\u001b[43m[\u001b[49m\u001b[38;5;124;43m'\u001b[39;49m\u001b[38;5;124;43mmunicipio\u001b[39;49m\u001b[38;5;124;43m'\u001b[39;49m\u001b[43m]\u001b[49m\u001b[38;5;241;43m.\u001b[39;49m\u001b[43mrest_index\u001b[49m()\n\u001b[0;32m      8\u001b[0m df_origen \u001b[38;5;241m=\u001b[39m municipios_ori\u001b[38;5;241m.\u001b[39mloc[\u001b[38;5;241m~\u001b[39mmunicipios_ori[\u001b[38;5;124m'\u001b[39m\u001b[38;5;124mmunicipio\u001b[39m\u001b[38;5;124m'\u001b[39m]\u001b[38;5;241m.\u001b[39misin(municipios[\u001b[38;5;124m'\u001b[39m\u001b[38;5;124mmunicipio\u001b[39m\u001b[38;5;124m'\u001b[39m])]\n\u001b[0;32m     10\u001b[0m df_origen \u001b[38;5;241m=\u001b[39m df_origen\u001b[38;5;241m.\u001b[39msort_values(by\u001b[38;5;241m=\u001b[39m\u001b[38;5;124m'\u001b[39m\u001b[38;5;124mmunicipio\u001b[39m\u001b[38;5;124m'\u001b[39m)\n",
      "File \u001b[1;32m~\\anaconda3\\lib\\site-packages\\pandas\\core\\generic.py:5575\u001b[0m, in \u001b[0;36mNDFrame.__getattr__\u001b[1;34m(self, name)\u001b[0m\n\u001b[0;32m   5568\u001b[0m \u001b[38;5;28;01mif\u001b[39;00m (\n\u001b[0;32m   5569\u001b[0m     name \u001b[38;5;129;01mnot\u001b[39;00m \u001b[38;5;129;01min\u001b[39;00m \u001b[38;5;28mself\u001b[39m\u001b[38;5;241m.\u001b[39m_internal_names_set\n\u001b[0;32m   5570\u001b[0m     \u001b[38;5;129;01mand\u001b[39;00m name \u001b[38;5;129;01mnot\u001b[39;00m \u001b[38;5;129;01min\u001b[39;00m \u001b[38;5;28mself\u001b[39m\u001b[38;5;241m.\u001b[39m_metadata\n\u001b[0;32m   5571\u001b[0m     \u001b[38;5;129;01mand\u001b[39;00m name \u001b[38;5;129;01mnot\u001b[39;00m \u001b[38;5;129;01min\u001b[39;00m \u001b[38;5;28mself\u001b[39m\u001b[38;5;241m.\u001b[39m_accessors\n\u001b[0;32m   5572\u001b[0m     \u001b[38;5;129;01mand\u001b[39;00m \u001b[38;5;28mself\u001b[39m\u001b[38;5;241m.\u001b[39m_info_axis\u001b[38;5;241m.\u001b[39m_can_hold_identifiers_and_holds_name(name)\n\u001b[0;32m   5573\u001b[0m ):\n\u001b[0;32m   5574\u001b[0m     \u001b[38;5;28;01mreturn\u001b[39;00m \u001b[38;5;28mself\u001b[39m[name]\n\u001b[1;32m-> 5575\u001b[0m \u001b[38;5;28;01mreturn\u001b[39;00m \u001b[38;5;28;43mobject\u001b[39;49m\u001b[38;5;241;43m.\u001b[39;49m\u001b[38;5;21;43m__getattribute__\u001b[39;49m\u001b[43m(\u001b[49m\u001b[38;5;28;43mself\u001b[39;49m\u001b[43m,\u001b[49m\u001b[43m \u001b[49m\u001b[43mname\u001b[49m\u001b[43m)\u001b[49m\n",
      "\u001b[1;31mAttributeError\u001b[0m: 'Series' object has no attribute 'rest_index'"
     ]
    }
   ],
   "source": [
    "#Obtenenmos los nombres de los municipios en el documento de casos de covid\n",
    "municipios_ori = pd.DataFrame(pd.unique(data_covid['municipio']))\n",
    "municipios_ori.columns = ['municipio']\n",
    "\n",
    "#Comprobamos los nombres de los municipios\n",
    "df_destino = municipios.loc[~municipios['municipio'].isin(pd.unique(data_covid['municipio']))]\n",
    "df_destino = pd.DataFrame(df_destino['municipio'])\n",
    "df_origen = municipios_ori.loc[~municipios_ori['municipio'].isin(municipios['municipio'])]\n",
    "\n",
    "df_origen = df_origen.sort_values(by='municipio')\n",
    "df_destino = df_destino.sort_values(by='municipio')\n",
    "\n",
    "df_origen = df_origen.reset_index()\n",
    "df_destino = df_destino.reset_index()"
   ]
  },
  {
   "cell_type": "code",
   "execution_count": null,
   "id": "cb815b6f",
   "metadata": {},
   "outputs": [],
   "source": [
    "print(df_origen)"
   ]
  },
  {
   "cell_type": "code",
   "execution_count": null,
   "id": "4e48dc63",
   "metadata": {},
   "outputs": [],
   "source": [
    "print(df_destino)"
   ]
  },
  {
   "cell_type": "code",
   "execution_count": null,
   "id": "a358dffa",
   "metadata": {},
   "outputs": [],
   "source": [
    "#Eliminamos el valor SIN ESPECIFICAR pues es correcto que estos valores no se visualicen en el mapa \n",
    "df_origen = df_origen.drop(5).reset_index()"
   ]
  },
  {
   "cell_type": "code",
   "execution_count": null,
   "id": "90eac73b",
   "metadata": {},
   "outputs": [],
   "source": [
    "print(df_origen)"
   ]
  },
  {
   "cell_type": "code",
   "execution_count": null,
   "id": "dcef82bb",
   "metadata": {},
   "outputs": [],
   "source": [
    "for i in range(0,len(df_origen)):\n",
    "    data_covid = data_covid.replace(df_origen['municipio'][i], df_destino['municipio'][i])\n"
   ]
  },
  {
   "cell_type": "code",
   "execution_count": null,
   "id": "4c92a077",
   "metadata": {},
   "outputs": [],
   "source": [
    "print(data_covid[data_covid['municipio'] == 'San Cristóbal de La Laguna'])"
   ]
  },
  {
   "cell_type": "code",
   "execution_count": null,
   "id": "ba5d30f4",
   "metadata": {},
   "outputs": [],
   "source": [
    "asignacion = data_covid[data_covid['identificacion_caso'] == 'Asignación']\n",
    "residencia = data_covid[data_covid['identificacion_caso'] == 'Residencia']"
   ]
  },
  {
   "cell_type": "code",
   "execution_count": null,
   "id": "0c802558",
   "metadata": {},
   "outputs": [],
   "source": [
    "df_municipios = pd.DataFrame(municipios['municipio'])\n",
    "df_islas = pd.DataFrame(islas['isla'])\n",
    "df_provincias = pd.DataFrame(pd.unique(islas['provincia']))\n",
    "df_provincias.columns = ['provincia']"
   ]
  },
  {
   "cell_type": "code",
   "execution_count": null,
   "id": "048bdaa0",
   "metadata": {},
   "outputs": [],
   "source": [
    "capitales = ['Santa Cruz de Tenerife', 'Santa Cruz de La Palma', 'San Sebastián de La Gomera', 'Valverde', 'Las Palmas de Gran Canaria', 'Puerto del Rosario', 'Arrecife']\n",
    "df_capitales = municipios.loc[municipios['municipio'].isin(capitales)]\n",
    "print(df_capitales)"
   ]
  },
  {
   "cell_type": "code",
   "execution_count": null,
   "id": "78f0fc8e",
   "metadata": {},
   "outputs": [],
   "source": [
    "df_capitales = df_capitales[['municipio', 'longitud_capital','latitud_capital']]"
   ]
  },
  {
   "cell_type": "code",
   "execution_count": null,
   "id": "f4ebe2df",
   "metadata": {},
   "outputs": [],
   "source": [
    "def conversion(df, tipo_agrupamiento):\n",
    "    df_result = pd.DataFrame()\n",
    "    df_result_accumul = pd.DataFrame()\n",
    "        \n",
    "    if tipo_agrupamiento == 'municipios':\n",
    "        df_agrupamientos = df_municipios\n",
    "        label = 'municipio'\n",
    "    elif tipo_agrupamiento == 'islas':\n",
    "        df_agrupamientos = df_islas\n",
    "        label = 'isla'\n",
    "    elif tipo_agrupamiento == 'provincias':\n",
    "        df_agrupamientos = df_provincias\n",
    "        label = 'provincia'\n",
    "    else:\n",
    "        return None\n",
    "    \n",
    "    for index, row in df_agrupamientos.iterrows():\n",
    "        aux = df[df[label] == row[label]]\n",
    "        aux = aux.groupby(['fecha_caso',label]).size().reset_index()\n",
    "        aux.columns=['fecha', label, row[label]]\n",
    "        aux = aux[['fecha', row[label]]]\n",
    "        aux['fecha'] = pd.to_datetime(aux['fecha'], dayfirst=True,format='%d/%m/%Y', exact=True)\n",
    "        aux['fecha'] = aux['fecha'].dt.strftime('%Y/%m/%d')\n",
    "        \n",
    "        aux = aux.sort_values(by='fecha')\n",
    "        aux = aux.set_index('fecha')\n",
    "        aux_acc = aux.cumsum()\n",
    "        aux = aux.transpose()\n",
    "        aux_acc = aux_acc.transpose()\n",
    "        \n",
    "        df_result = pd.concat([df_result, aux], axis = 0)\n",
    "        df_result_accumul = pd.concat([df_result_accumul, aux_acc], axis = 0)\n",
    "    \n",
    "    \n",
    "    ## Ordenamos por fecha y cumplimentamos los NaN con el valor anterior\n",
    "    df_result_accumul = df_result_accumul.transpose()\n",
    "    df_result_accumul = df_result_accumul.sort_values(by=['fecha'])\n",
    "    df_result_accumul[0:1] = df_result_accumul[0:1].fillna(0)   \n",
    "    df_result_accumul = df_result_accumul.fillna(method=\"pad\")\n",
    "    df_result_accumul = df_result_accumul.transpose()\n",
    "    \n",
    "    #Ordenamos por fecha y cumplimentamos los NaN por 0\n",
    "    df_result = df_result.replace(np.nan, 0)\n",
    "    df_result = df_result.transpose()\n",
    "    df_result = df_result.sort_values(by=['fecha'])\n",
    "    df_result = df_result.transpose()\n",
    "    \n",
    "    df_result = df_result.reset_index()\n",
    "    df_result_accumul = df_result_accumul.reset_index()\n",
    "    \n",
    "    return df_result, df_result_accumul"
   ]
  },
  {
   "cell_type": "code",
   "execution_count": null,
   "id": "3c4c691a",
   "metadata": {},
   "outputs": [],
   "source": [
    "data_municipios, data_municipios_accumul =  conversion(asignacion, 'municipios')\n",
    "data_islas, data_islas_accumul = conversion(asignacion, 'islas')\n",
    "data_provincias, data_provincias_accumul = conversion(asignacion, 'provincias')"
   ]
  },
  {
   "cell_type": "code",
   "execution_count": null,
   "id": "1abeda7b",
   "metadata": {},
   "outputs": [],
   "source": [
    "data_municipios_residencia, data_municipios_residencia_accumul =  conversion(residencia, 'municipios')\n",
    "data_islas_residencia, data_islas_residencia_accumul = conversion(residencia, 'islas')\n",
    "data_provincias_residencia, data_provincias_residencia_accumul = conversion(residencia, 'provincias')"
   ]
  },
  {
   "cell_type": "code",
   "execution_count": null,
   "id": "8cad3fe3",
   "metadata": {},
   "outputs": [],
   "source": [
    "print(data_islas_accumul)"
   ]
  },
  {
   "cell_type": "code",
   "execution_count": null,
   "id": "eea0b56d",
   "metadata": {},
   "outputs": [],
   "source": [
    "data_provincias.to_excel('data/provincias_asignacion.xlsx', index=False, encoding=\"utf8\")\n",
    "data_provincias_accumul.to_excel('data/provincias_asignacion_acc.xlsx', index=False, encoding=\"utf8\")\n",
    "data_islas.to_excel('data/islas_asignacion.xlsx', index=False, encoding=\"utf8\")\n",
    "data_islas_accumul.to_excel('data/islas_asignacion_acc.xlsx', index=False, encoding=\"utf8\")\n",
    "data_municipios.to_excel('data/municipios_asignacion.xlsx', index=False, encoding=\"utf8\")\n",
    "data_municipios_accumul.to_excel('data/municipios_asignacion_acc.xlsx', index=False, encoding=\"utf8\")"
   ]
  },
  {
   "cell_type": "code",
   "execution_count": null,
   "id": "1fe9631f",
   "metadata": {},
   "outputs": [],
   "source": [
    "data_provincias_residencia.to_excel('data/provincias_residencia.xlsx', index=False, encoding=\"utf8\")\n",
    "data_provincias_residencia_accumul.to_excel('data/provincias_residencia_acc.xlsx', index=False, encoding=\"utf8\")\n",
    "data_islas_residencia.to_excel('data/islas_residencia.xlsx', index=False, encoding=\"utf8\")\n",
    "data_islas_residencia_accumul.to_excel('data/islas_residencia_acc.xlsx', index=False, encoding=\"utf8\")\n",
    "data_municipios_residencia.to_excel('data/municipios_residencia.xlsx', index=False, encoding=\"utf8\")\n",
    "data_municipios_residencia_accumul.to_excel('data/municipios_residencia_acc.xlsx', index=False, encoding=\"utf8\")"
   ]
  },
  {
   "cell_type": "code",
   "execution_count": null,
   "id": "42d2a237",
   "metadata": {},
   "outputs": [],
   "source": [
    "df_capitales.to_csv('mapas/capitales.csv', index=False, sep=\",\")"
   ]
  },
  {
   "cell_type": "code",
   "execution_count": null,
   "id": "37700b0f",
   "metadata": {},
   "outputs": [],
   "source": [
    "cambio = pd.DataFrame(pd.unique(data_covid['municipio']))\n",
    "cambio.columns = ['municipio']"
   ]
  },
  {
   "cell_type": "code",
   "execution_count": null,
   "id": "8190e16d",
   "metadata": {},
   "outputs": [],
   "source": [
    "print(df_destino)"
   ]
  },
  {
   "cell_type": "code",
   "execution_count": null,
   "id": "036497f4",
   "metadata": {},
   "outputs": [],
   "source": [
    "df_destino = df_municipios.loc[~df_municipios['municipio'].isin(pd.unique(data_covid['municipio']))]\n",
    "df_origen = cambio.loc[~cambio['municipio'].isin(df_municipios['municipio'])]"
   ]
  }
 ],
 "metadata": {
  "kernelspec": {
   "display_name": "Python 3 (ipykernel)",
   "language": "python",
   "name": "python3"
  },
  "language_info": {
   "codemirror_mode": {
    "name": "ipython",
    "version": 3
   },
   "file_extension": ".py",
   "mimetype": "text/x-python",
   "name": "python",
   "nbconvert_exporter": "python",
   "pygments_lexer": "ipython3",
   "version": "3.9.12"
  }
 },
 "nbformat": 4,
 "nbformat_minor": 5
}
