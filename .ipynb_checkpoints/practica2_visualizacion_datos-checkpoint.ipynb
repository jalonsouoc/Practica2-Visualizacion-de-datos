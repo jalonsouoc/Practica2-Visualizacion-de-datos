{
 "cells": [
  {
   "cell_type": "code",
   "execution_count": 98,
   "id": "8b1da6f9",
   "metadata": {},
   "outputs": [],
   "source": [
    "import pandas as pd\n",
    "import numpy as np "
   ]
  },
  {
   "cell_type": "code",
   "execution_count": 42,
   "id": "44f25b2b",
   "metadata": {},
   "outputs": [],
   "source": [
    "covid = pd.read_csv(\"data/covid_canarias.csv\")\n",
    "municipios = pd.read_csv(\"data/municipios.csv\")"
   ]
  },
  {
   "cell_type": "code",
   "execution_count": 4,
   "id": "ef630782",
   "metadata": {},
   "outputs": [
    {
     "data": {
      "text/html": [
       "<div>\n",
       "<style scoped>\n",
       "    .dataframe tbody tr th:only-of-type {\n",
       "        vertical-align: middle;\n",
       "    }\n",
       "\n",
       "    .dataframe tbody tr th {\n",
       "        vertical-align: top;\n",
       "    }\n",
       "\n",
       "    .dataframe thead th {\n",
       "        text-align: right;\n",
       "    }\n",
       "</style>\n",
       "<table border=\"1\" class=\"dataframe\">\n",
       "  <thead>\n",
       "    <tr style=\"text-align: right;\">\n",
       "      <th></th>\n",
       "      <th>fecha_datos</th>\n",
       "      <th>isla</th>\n",
       "      <th>municipio</th>\n",
       "      <th>sexo</th>\n",
       "      <th>grupo_edad</th>\n",
       "      <th>fecha_caso</th>\n",
       "      <th>fecha_fallecido</th>\n",
       "      <th>fecha_curado</th>\n",
       "      <th>estado_caso</th>\n",
       "      <th>identificacion_caso</th>\n",
       "      <th>fallecido</th>\n",
       "      <th>curado</th>\n",
       "      <th>continua_enfermo</th>\n",
       "      <th>provincia</th>\n",
       "    </tr>\n",
       "  </thead>\n",
       "  <tbody>\n",
       "    <tr>\n",
       "      <th>0</th>\n",
       "      <td>14/03/2022</td>\n",
       "      <td>TENERIFE</td>\n",
       "      <td>Adeje</td>\n",
       "      <td>Hombre</td>\n",
       "      <td>30 - 39</td>\n",
       "      <td>02/01/2022</td>\n",
       "      <td>NaN</td>\n",
       "      <td>13/01/2022</td>\n",
       "      <td>Cerrado por alta médica</td>\n",
       "      <td>Asignación</td>\n",
       "      <td>No</td>\n",
       "      <td>Sí</td>\n",
       "      <td>No</td>\n",
       "      <td>Santa Cruz de Tenerife</td>\n",
       "    </tr>\n",
       "    <tr>\n",
       "      <th>1</th>\n",
       "      <td>14/03/2022</td>\n",
       "      <td>TENERIFE</td>\n",
       "      <td>Adeje</td>\n",
       "      <td>Hombre</td>\n",
       "      <td>30 - 39</td>\n",
       "      <td>08/01/2022</td>\n",
       "      <td>NaN</td>\n",
       "      <td>19/01/2022</td>\n",
       "      <td>Cerrado por alta médica</td>\n",
       "      <td>Asignación</td>\n",
       "      <td>No</td>\n",
       "      <td>Sí</td>\n",
       "      <td>No</td>\n",
       "      <td>Santa Cruz de Tenerife</td>\n",
       "    </tr>\n",
       "    <tr>\n",
       "      <th>2</th>\n",
       "      <td>14/03/2022</td>\n",
       "      <td>TENERIFE</td>\n",
       "      <td>Adeje</td>\n",
       "      <td>Hombre</td>\n",
       "      <td>40 - 49</td>\n",
       "      <td>06/01/2022</td>\n",
       "      <td>NaN</td>\n",
       "      <td>17/01/2022</td>\n",
       "      <td>Cerrado por alta médica</td>\n",
       "      <td>Asignación</td>\n",
       "      <td>No</td>\n",
       "      <td>Sí</td>\n",
       "      <td>No</td>\n",
       "      <td>Santa Cruz de Tenerife</td>\n",
       "    </tr>\n",
       "    <tr>\n",
       "      <th>3</th>\n",
       "      <td>14/03/2022</td>\n",
       "      <td>TENERIFE</td>\n",
       "      <td>Adeje</td>\n",
       "      <td>Hombre</td>\n",
       "      <td>50 - 59</td>\n",
       "      <td>02/01/2022</td>\n",
       "      <td>NaN</td>\n",
       "      <td>13/01/2022</td>\n",
       "      <td>Cerrado por alta médica</td>\n",
       "      <td>Asignación</td>\n",
       "      <td>No</td>\n",
       "      <td>Sí</td>\n",
       "      <td>No</td>\n",
       "      <td>Santa Cruz de Tenerife</td>\n",
       "    </tr>\n",
       "    <tr>\n",
       "      <th>4</th>\n",
       "      <td>14/03/2022</td>\n",
       "      <td>TENERIFE</td>\n",
       "      <td>Adeje</td>\n",
       "      <td>Hombre</td>\n",
       "      <td>40 - 49</td>\n",
       "      <td>08/01/2022</td>\n",
       "      <td>NaN</td>\n",
       "      <td>19/01/2022</td>\n",
       "      <td>Cerrado por alta médica</td>\n",
       "      <td>Asignación</td>\n",
       "      <td>No</td>\n",
       "      <td>Sí</td>\n",
       "      <td>No</td>\n",
       "      <td>Santa Cruz de Tenerife</td>\n",
       "    </tr>\n",
       "  </tbody>\n",
       "</table>\n",
       "</div>"
      ],
      "text/plain": [
       "  fecha_datos      isla municipio    sexo grupo_edad  fecha_caso  \\\n",
       "0  14/03/2022  TENERIFE     Adeje  Hombre    30 - 39  02/01/2022   \n",
       "1  14/03/2022  TENERIFE     Adeje  Hombre    30 - 39  08/01/2022   \n",
       "2  14/03/2022  TENERIFE     Adeje  Hombre    40 - 49  06/01/2022   \n",
       "3  14/03/2022  TENERIFE     Adeje  Hombre    50 - 59  02/01/2022   \n",
       "4  14/03/2022  TENERIFE     Adeje  Hombre    40 - 49  08/01/2022   \n",
       "\n",
       "  fecha_fallecido fecha_curado              estado_caso identificacion_caso  \\\n",
       "0             NaN   13/01/2022  Cerrado por alta médica          Asignación   \n",
       "1             NaN   19/01/2022  Cerrado por alta médica          Asignación   \n",
       "2             NaN   17/01/2022  Cerrado por alta médica          Asignación   \n",
       "3             NaN   13/01/2022  Cerrado por alta médica          Asignación   \n",
       "4             NaN   19/01/2022  Cerrado por alta médica          Asignación   \n",
       "\n",
       "  fallecido curado continua_enfermo               provincia  \n",
       "0        No     Sí               No  Santa Cruz de Tenerife  \n",
       "1        No     Sí               No  Santa Cruz de Tenerife  \n",
       "2        No     Sí               No  Santa Cruz de Tenerife  \n",
       "3        No     Sí               No  Santa Cruz de Tenerife  \n",
       "4        No     Sí               No  Santa Cruz de Tenerife  "
      ]
     },
     "execution_count": 4,
     "metadata": {},
     "output_type": "execute_result"
    }
   ],
   "source": [
    "covid.head()"
   ]
  },
  {
   "cell_type": "code",
   "execution_count": 30,
   "id": "1f2fb247",
   "metadata": {},
   "outputs": [],
   "source": [
    "asignacion = covid[covid['identificacion_caso'] == \"Asignación\"]"
   ]
  },
  {
   "cell_type": "code",
   "execution_count": 40,
   "id": "3c36d9b8",
   "metadata": {},
   "outputs": [],
   "source": [
    "asignacion_count = asignacion.groupby(['fecha_caso','municipio']).size().reset_index()"
   ]
  },
  {
   "cell_type": "code",
   "execution_count": 48,
   "id": "77f0eb8d",
   "metadata": {},
   "outputs": [
    {
     "name": "stdout",
     "output_type": "stream",
     "text": [
      "<pandas.core.groupby.generic.DataFrameGroupBy object at 0x000001E06622B790>\n"
     ]
    }
   ],
   "source": [
    "print(asignacion_count.groupby('fecha_caso'))"
   ]
  },
  {
   "cell_type": "code",
   "execution_count": 45,
   "id": "bc053dd7",
   "metadata": {},
   "outputs": [],
   "source": [
    "df_municipios = pd.DataFrame(municipios['municipio'])"
   ]
  },
  {
   "cell_type": "code",
   "execution_count": 111,
   "id": "76a5beb0",
   "metadata": {},
   "outputs": [
    {
     "name": "stdout",
     "output_type": "stream",
     "text": [
      "       fecha_caso            municipio   0\n",
      "0      01/01/2021                Adeje   1\n",
      "1      01/01/2021             Arrecife  11\n",
      "2      01/01/2021           El Rosario   2\n",
      "3      01/01/2021  Granadilla de Abona   3\n",
      "4      01/01/2021            La Laguna  21\n",
      "...           ...                  ...  ..\n",
      "13778  31/12/2021             Valverde  19\n",
      "13779  31/12/2021    Vega de San Mateo  13\n",
      "13780  31/12/2021             Vilaflor   1\n",
      "13781  31/12/2021        Villa de Mazo   3\n",
      "13782  31/12/2021                Yaiza  29\n",
      "\n",
      "[13783 rows x 3 columns]\n"
     ]
    }
   ],
   "source": [
    "print(asignacion_count)"
   ]
  },
  {
   "cell_type": "code",
   "execution_count": 34,
   "id": "e2c97f55",
   "metadata": {},
   "outputs": [],
   "source": [
    "asignacion_count.to_excel('covid_fin.xlsx', index=False, encoding=\"utf8\")"
   ]
  },
  {
   "cell_type": "code",
   "execution_count": 110,
   "id": "a00eb1a7",
   "metadata": {},
   "outputs": [
    {
     "name": "stdout",
     "output_type": "stream",
     "text": [
      "(2, 97)\n",
      "(2, 189)\n",
      "(2, 31)\n",
      "(2, 434)\n",
      "(2, 32)\n",
      "(2, 161)\n",
      "(2, 0)\n",
      "(2, 85)\n",
      "(2, 158)\n",
      "(2, 55)\n",
      "(2, 222)\n",
      "(2, 199)\n",
      "(2, 104)\n",
      "(2, 350)\n",
      "(2, 268)\n",
      "(2, 437)\n",
      "(2, 403)\n",
      "(2, 101)\n",
      "(2, 344)\n",
      "(2, 103)\n",
      "(2, 155)\n",
      "(2, 319)\n",
      "(2, 0)\n",
      "(2, 145)\n",
      "(2, 39)\n",
      "(2, 330)\n",
      "(2, 117)\n",
      "(2, 207)\n",
      "(2, 66)\n",
      "(2, 249)\n",
      "(2, 0)\n",
      "(2, 61)\n",
      "(2, 92)\n",
      "(2, 182)\n",
      "(2, 413)\n",
      "(2, 31)\n",
      "(2, 87)\n",
      "(2, 77)\n",
      "(2, 121)\n",
      "(2, 400)\n",
      "(2, 24)\n",
      "(2, 179)\n",
      "(2, 74)\n",
      "(2, 57)\n",
      "(2, 213)\n",
      "(2, 67)\n",
      "(2, 79)\n",
      "(2, 0)\n",
      "(2, 45)\n",
      "(2, 18)\n",
      "(2, 372)\n",
      "(2, 117)\n",
      "(2, 254)\n",
      "(2, 217)\n",
      "(2, 65)\n",
      "(2, 0)\n",
      "(2, 0)\n",
      "(2, 182)\n",
      "(2, 109)\n",
      "(2, 278)\n",
      "(2, 72)\n",
      "(2, 0)\n",
      "(2, 24)\n",
      "(2, 23)\n",
      "(2, 283)\n",
      "(2, 178)\n",
      "(2, 64)\n",
      "(2, 0)\n",
      "(2, 182)\n",
      "(2, 165)\n",
      "(2, 145)\n",
      "(2, 437)\n",
      "(2, 135)\n",
      "(2, 146)\n",
      "(2, 112)\n",
      "(2, 99)\n",
      "(2, 225)\n",
      "(2, 65)\n",
      "(2, 77)\n",
      "(2, 125)\n",
      "(2, 43)\n",
      "(2, 191)\n",
      "(2, 80)\n",
      "(2, 59)\n",
      "(2, 173)\n",
      "(2, 0)\n",
      "(2, 72)\n",
      "(2, 0)\n"
     ]
    }
   ],
   "source": [
    "pru = pd.DataFrame()\n",
    "for index, row in df_municipios.iterrows():\n",
    "    aux = asignacion_count[asignacion_count['municipio'] == row['municipio']]\n",
    "    #aux = aux[['fecha_caso','0']]\n",
    "    #aux.set_index('fecha_caso')\n",
    "    aux.columns=['fecha','municipio',row['municipio']]\n",
    "    aux = aux[['fecha', row['municipio']]]\n",
    "    aux = aux.transpose()\n",
    "    print(aux.shape)\n",
    "    pru = pd.concat([pru, aux])\n",
    "    print(\"Suma columnas: \",pru.shape)"
   ]
  },
  {
   "cell_type": "code",
   "execution_count": 109,
   "id": "c4a85999",
   "metadata": {},
   "outputs": [
    {
     "name": "stdout",
     "output_type": "stream",
     "text": [
      "(176, 12389)\n"
     ]
    }
   ],
   "source": [
    "pru = pru.replace(np.nan, 0)\n",
    "print(pru.shape)"
   ]
  },
  {
   "cell_type": "code",
   "execution_count": 103,
   "id": "b27abb48",
   "metadata": {},
   "outputs": [],
   "source": [
    "pru.to_excel('covid_fin.xlsx', index=False, encoding=\"utf8\")"
   ]
  },
  {
   "cell_type": "code",
   "execution_count": null,
   "id": "616e2a8b",
   "metadata": {},
   "outputs": [],
   "source": []
  }
 ],
 "metadata": {
  "kernelspec": {
   "display_name": "Python 3 (ipykernel)",
   "language": "python",
   "name": "python3"
  },
  "language_info": {
   "codemirror_mode": {
    "name": "ipython",
    "version": 3
   },
   "file_extension": ".py",
   "mimetype": "text/x-python",
   "name": "python",
   "nbconvert_exporter": "python",
   "pygments_lexer": "ipython3",
   "version": "3.9.12"
  }
 },
 "nbformat": 4,
 "nbformat_minor": 5
}
