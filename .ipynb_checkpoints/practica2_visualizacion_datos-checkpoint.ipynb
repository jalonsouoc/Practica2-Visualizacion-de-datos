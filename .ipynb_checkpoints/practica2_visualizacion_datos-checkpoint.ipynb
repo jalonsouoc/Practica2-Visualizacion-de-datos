{
 "cells": [
  {
   "cell_type": "code",
   "execution_count": 148,
   "id": "8b1da6f9",
   "metadata": {},
   "outputs": [],
   "source": [
    "import pandas as pd\n",
    "import numpy as np \n",
    "\n",
    "from datetime import datetime"
   ]
  },
  {
   "cell_type": "code",
   "execution_count": 68,
   "id": "49ce3938",
   "metadata": {},
   "outputs": [],
   "source": [
    "covid = pd.read_csv(\"data/covid_canarias.csv\")\n",
    "municipios = pd.read_csv(\"data/municipios.csv\")"
   ]
  },
  {
   "cell_type": "code",
   "execution_count": 69,
   "id": "5ef02609",
   "metadata": {},
   "outputs": [
    {
     "data": {
      "text/html": [
       "<div>\n",
       "<style scoped>\n",
       "    .dataframe tbody tr th:only-of-type {\n",
       "        vertical-align: middle;\n",
       "    }\n",
       "\n",
       "    .dataframe tbody tr th {\n",
       "        vertical-align: top;\n",
       "    }\n",
       "\n",
       "    .dataframe thead th {\n",
       "        text-align: right;\n",
       "    }\n",
       "</style>\n",
       "<table border=\"1\" class=\"dataframe\">\n",
       "  <thead>\n",
       "    <tr style=\"text-align: right;\">\n",
       "      <th></th>\n",
       "      <th>fecha_datos</th>\n",
       "      <th>isla</th>\n",
       "      <th>municipio</th>\n",
       "      <th>sexo</th>\n",
       "      <th>grupo_edad</th>\n",
       "      <th>fecha_caso</th>\n",
       "      <th>fecha_fallecido</th>\n",
       "      <th>fecha_curado</th>\n",
       "      <th>estado_caso</th>\n",
       "      <th>identificacion_caso</th>\n",
       "      <th>fallecido</th>\n",
       "      <th>curado</th>\n",
       "      <th>continua_enfermo</th>\n",
       "      <th>provincia</th>\n",
       "    </tr>\n",
       "  </thead>\n",
       "  <tbody>\n",
       "    <tr>\n",
       "      <th>0</th>\n",
       "      <td>14/03/2022</td>\n",
       "      <td>TENERIFE</td>\n",
       "      <td>Adeje</td>\n",
       "      <td>Hombre</td>\n",
       "      <td>30 - 39</td>\n",
       "      <td>02/01/2022</td>\n",
       "      <td>NaN</td>\n",
       "      <td>13/01/2022</td>\n",
       "      <td>Cerrado por alta médica</td>\n",
       "      <td>Asignación</td>\n",
       "      <td>No</td>\n",
       "      <td>Sí</td>\n",
       "      <td>No</td>\n",
       "      <td>Santa Cruz de Tenerife</td>\n",
       "    </tr>\n",
       "    <tr>\n",
       "      <th>1</th>\n",
       "      <td>14/03/2022</td>\n",
       "      <td>TENERIFE</td>\n",
       "      <td>Adeje</td>\n",
       "      <td>Hombre</td>\n",
       "      <td>30 - 39</td>\n",
       "      <td>08/01/2022</td>\n",
       "      <td>NaN</td>\n",
       "      <td>19/01/2022</td>\n",
       "      <td>Cerrado por alta médica</td>\n",
       "      <td>Asignación</td>\n",
       "      <td>No</td>\n",
       "      <td>Sí</td>\n",
       "      <td>No</td>\n",
       "      <td>Santa Cruz de Tenerife</td>\n",
       "    </tr>\n",
       "    <tr>\n",
       "      <th>2</th>\n",
       "      <td>14/03/2022</td>\n",
       "      <td>TENERIFE</td>\n",
       "      <td>Adeje</td>\n",
       "      <td>Hombre</td>\n",
       "      <td>40 - 49</td>\n",
       "      <td>06/01/2022</td>\n",
       "      <td>NaN</td>\n",
       "      <td>17/01/2022</td>\n",
       "      <td>Cerrado por alta médica</td>\n",
       "      <td>Asignación</td>\n",
       "      <td>No</td>\n",
       "      <td>Sí</td>\n",
       "      <td>No</td>\n",
       "      <td>Santa Cruz de Tenerife</td>\n",
       "    </tr>\n",
       "    <tr>\n",
       "      <th>3</th>\n",
       "      <td>14/03/2022</td>\n",
       "      <td>TENERIFE</td>\n",
       "      <td>Adeje</td>\n",
       "      <td>Hombre</td>\n",
       "      <td>50 - 59</td>\n",
       "      <td>02/01/2022</td>\n",
       "      <td>NaN</td>\n",
       "      <td>13/01/2022</td>\n",
       "      <td>Cerrado por alta médica</td>\n",
       "      <td>Asignación</td>\n",
       "      <td>No</td>\n",
       "      <td>Sí</td>\n",
       "      <td>No</td>\n",
       "      <td>Santa Cruz de Tenerife</td>\n",
       "    </tr>\n",
       "    <tr>\n",
       "      <th>4</th>\n",
       "      <td>14/03/2022</td>\n",
       "      <td>TENERIFE</td>\n",
       "      <td>Adeje</td>\n",
       "      <td>Hombre</td>\n",
       "      <td>40 - 49</td>\n",
       "      <td>08/01/2022</td>\n",
       "      <td>NaN</td>\n",
       "      <td>19/01/2022</td>\n",
       "      <td>Cerrado por alta médica</td>\n",
       "      <td>Asignación</td>\n",
       "      <td>No</td>\n",
       "      <td>Sí</td>\n",
       "      <td>No</td>\n",
       "      <td>Santa Cruz de Tenerife</td>\n",
       "    </tr>\n",
       "  </tbody>\n",
       "</table>\n",
       "</div>"
      ],
      "text/plain": [
       "  fecha_datos      isla municipio    sexo grupo_edad  fecha_caso  \\\n",
       "0  14/03/2022  TENERIFE     Adeje  Hombre    30 - 39  02/01/2022   \n",
       "1  14/03/2022  TENERIFE     Adeje  Hombre    30 - 39  08/01/2022   \n",
       "2  14/03/2022  TENERIFE     Adeje  Hombre    40 - 49  06/01/2022   \n",
       "3  14/03/2022  TENERIFE     Adeje  Hombre    50 - 59  02/01/2022   \n",
       "4  14/03/2022  TENERIFE     Adeje  Hombre    40 - 49  08/01/2022   \n",
       "\n",
       "  fecha_fallecido fecha_curado              estado_caso identificacion_caso  \\\n",
       "0             NaN   13/01/2022  Cerrado por alta médica          Asignación   \n",
       "1             NaN   19/01/2022  Cerrado por alta médica          Asignación   \n",
       "2             NaN   17/01/2022  Cerrado por alta médica          Asignación   \n",
       "3             NaN   13/01/2022  Cerrado por alta médica          Asignación   \n",
       "4             NaN   19/01/2022  Cerrado por alta médica          Asignación   \n",
       "\n",
       "  fallecido curado continua_enfermo               provincia  \n",
       "0        No     Sí               No  Santa Cruz de Tenerife  \n",
       "1        No     Sí               No  Santa Cruz de Tenerife  \n",
       "2        No     Sí               No  Santa Cruz de Tenerife  \n",
       "3        No     Sí               No  Santa Cruz de Tenerife  \n",
       "4        No     Sí               No  Santa Cruz de Tenerife  "
      ]
     },
     "execution_count": 69,
     "metadata": {},
     "output_type": "execute_result"
    }
   ],
   "source": [
    "covid.head()"
   ]
  },
  {
   "cell_type": "code",
   "execution_count": 72,
   "id": "ba5d30f4",
   "metadata": {},
   "outputs": [],
   "source": [
    "asignacion = covid[covid['identificacion_caso'] == \"Asignación\"]"
   ]
  },
  {
   "cell_type": "code",
   "execution_count": 124,
   "id": "2dbc02f4",
   "metadata": {},
   "outputs": [],
   "source": [
    "asignacion_count = asignacion.groupby(['fecha_caso','municipio']).size().reset_index()"
   ]
  },
  {
   "cell_type": "code",
   "execution_count": 105,
   "id": "c335b6be",
   "metadata": {},
   "outputs": [],
   "source": [
    "asignacion_count.columns = ['fecha', 'municipio', 'prueba']"
   ]
  },
  {
   "cell_type": "code",
   "execution_count": 95,
   "id": "7de0c8d8",
   "metadata": {},
   "outputs": [],
   "source": [
    "asignacion_count = asignacion_count.set_index('fecha')"
   ]
  },
  {
   "cell_type": "code",
   "execution_count": 125,
   "id": "2d5dec4e",
   "metadata": {},
   "outputs": [],
   "source": [
    "z = asignacion_count[asignacion_count['municipio'] == 'Agaete']"
   ]
  },
  {
   "cell_type": "code",
   "execution_count": 133,
   "id": "5a2a6643",
   "metadata": {},
   "outputs": [],
   "source": [
    "z = pd.DataFrame(asignacion_count)"
   ]
  },
  {
   "cell_type": "code",
   "execution_count": 134,
   "id": "56ecab1f",
   "metadata": {},
   "outputs": [
    {
     "name": "stdout",
     "output_type": "stream",
     "text": [
      "       fecha_caso            municipio   0\n",
      "0      01/01/2021                Adeje   1\n",
      "1      01/01/2021             Arrecife  11\n",
      "2      01/01/2021           El Rosario   2\n",
      "3      01/01/2021  Granadilla de Abona   3\n",
      "4      01/01/2021            La Laguna  21\n",
      "...           ...                  ...  ..\n",
      "13778  31/12/2021             Valverde  19\n",
      "13779  31/12/2021    Vega de San Mateo  13\n",
      "13780  31/12/2021             Vilaflor   1\n",
      "13781  31/12/2021        Villa de Mazo   3\n",
      "13782  31/12/2021                Yaiza  29\n",
      "\n",
      "[13783 rows x 3 columns]\n"
     ]
    }
   ],
   "source": [
    "print(z)"
   ]
  },
  {
   "cell_type": "code",
   "execution_count": 135,
   "id": "614e803a",
   "metadata": {},
   "outputs": [],
   "source": [
    "fechas = asignacion_count['fecha_caso'].unique().tolist()"
   ]
  },
  {
   "cell_type": "code",
   "execution_count": 145,
   "id": "9de36242",
   "metadata": {},
   "outputs": [
    {
     "ename": "ValueError",
     "evalue": "time data '01/01/2021' does not match format '%d-%m-%y' (match)",
     "output_type": "error",
     "traceback": [
      "\u001b[1;31m---------------------------------------------------------------------------\u001b[0m",
      "\u001b[1;31mTypeError\u001b[0m                                 Traceback (most recent call last)",
      "File \u001b[1;32m~\\anaconda3\\lib\\site-packages\\pandas\\core\\tools\\datetimes.py:510\u001b[0m, in \u001b[0;36m_to_datetime_with_format\u001b[1;34m(arg, orig_arg, name, tz, fmt, exact, errors, infer_datetime_format)\u001b[0m\n\u001b[0;32m    509\u001b[0m \u001b[38;5;28;01mtry\u001b[39;00m:\n\u001b[1;32m--> 510\u001b[0m     values, tz \u001b[38;5;241m=\u001b[39m \u001b[43mconversion\u001b[49m\u001b[38;5;241;43m.\u001b[39;49m\u001b[43mdatetime_to_datetime64\u001b[49m\u001b[43m(\u001b[49m\u001b[43marg\u001b[49m\u001b[43m)\u001b[49m\n\u001b[0;32m    511\u001b[0m     dta \u001b[38;5;241m=\u001b[39m DatetimeArray(values, dtype\u001b[38;5;241m=\u001b[39mtz_to_dtype(tz))\n",
      "File \u001b[1;32m~\\anaconda3\\lib\\site-packages\\pandas\\_libs\\tslibs\\conversion.pyx:360\u001b[0m, in \u001b[0;36mpandas._libs.tslibs.conversion.datetime_to_datetime64\u001b[1;34m()\u001b[0m\n",
      "\u001b[1;31mTypeError\u001b[0m: Unrecognized value type: <class 'str'>",
      "\nDuring handling of the above exception, another exception occurred:\n",
      "\u001b[1;31mValueError\u001b[0m                                Traceback (most recent call last)",
      "Input \u001b[1;32mIn [145]\u001b[0m, in \u001b[0;36m<cell line: 1>\u001b[1;34m()\u001b[0m\n\u001b[1;32m----> 1\u001b[0m asignacion_count[\u001b[38;5;124m'\u001b[39m\u001b[38;5;124mfecha_caso\u001b[39m\u001b[38;5;124m'\u001b[39m] \u001b[38;5;241m=\u001b[39m \u001b[43mpd\u001b[49m\u001b[38;5;241;43m.\u001b[39;49m\u001b[43mto_datetime\u001b[49m\u001b[43m(\u001b[49m\u001b[43masignacion_count\u001b[49m\u001b[43m[\u001b[49m\u001b[38;5;124;43m'\u001b[39;49m\u001b[38;5;124;43mfecha_caso\u001b[39;49m\u001b[38;5;124;43m'\u001b[39;49m\u001b[43m]\u001b[49m\u001b[43m,\u001b[49m\u001b[43m \u001b[49m\u001b[38;5;28;43mformat\u001b[39;49m\u001b[38;5;241;43m=\u001b[39;49m\u001b[38;5;124;43m\"\u001b[39;49m\u001b[38;5;132;43;01m%d\u001b[39;49;00m\u001b[38;5;124;43m-\u001b[39;49m\u001b[38;5;124;43m%\u001b[39;49m\u001b[38;5;124;43mm-\u001b[39;49m\u001b[38;5;124;43m%\u001b[39;49m\u001b[38;5;124;43my\u001b[39;49m\u001b[38;5;124;43m\"\u001b[39;49m\u001b[43m)\u001b[49m\n",
      "File \u001b[1;32m~\\anaconda3\\lib\\site-packages\\pandas\\core\\tools\\datetimes.py:1047\u001b[0m, in \u001b[0;36mto_datetime\u001b[1;34m(arg, errors, dayfirst, yearfirst, utc, format, exact, unit, infer_datetime_format, origin, cache)\u001b[0m\n\u001b[0;32m   1045\u001b[0m             result \u001b[38;5;241m=\u001b[39m arg\u001b[38;5;241m.\u001b[39mtz_localize(tz)\n\u001b[0;32m   1046\u001b[0m \u001b[38;5;28;01melif\u001b[39;00m \u001b[38;5;28misinstance\u001b[39m(arg, ABCSeries):\n\u001b[1;32m-> 1047\u001b[0m     cache_array \u001b[38;5;241m=\u001b[39m \u001b[43m_maybe_cache\u001b[49m\u001b[43m(\u001b[49m\u001b[43marg\u001b[49m\u001b[43m,\u001b[49m\u001b[43m \u001b[49m\u001b[38;5;28;43mformat\u001b[39;49m\u001b[43m,\u001b[49m\u001b[43m \u001b[49m\u001b[43mcache\u001b[49m\u001b[43m,\u001b[49m\u001b[43m \u001b[49m\u001b[43mconvert_listlike\u001b[49m\u001b[43m)\u001b[49m\n\u001b[0;32m   1048\u001b[0m     \u001b[38;5;28;01mif\u001b[39;00m \u001b[38;5;129;01mnot\u001b[39;00m cache_array\u001b[38;5;241m.\u001b[39mempty:\n\u001b[0;32m   1049\u001b[0m         result \u001b[38;5;241m=\u001b[39m arg\u001b[38;5;241m.\u001b[39mmap(cache_array)\n",
      "File \u001b[1;32m~\\anaconda3\\lib\\site-packages\\pandas\\core\\tools\\datetimes.py:197\u001b[0m, in \u001b[0;36m_maybe_cache\u001b[1;34m(arg, format, cache, convert_listlike)\u001b[0m\n\u001b[0;32m    195\u001b[0m unique_dates \u001b[38;5;241m=\u001b[39m unique(arg)\n\u001b[0;32m    196\u001b[0m \u001b[38;5;28;01mif\u001b[39;00m \u001b[38;5;28mlen\u001b[39m(unique_dates) \u001b[38;5;241m<\u001b[39m \u001b[38;5;28mlen\u001b[39m(arg):\n\u001b[1;32m--> 197\u001b[0m     cache_dates \u001b[38;5;241m=\u001b[39m \u001b[43mconvert_listlike\u001b[49m\u001b[43m(\u001b[49m\u001b[43munique_dates\u001b[49m\u001b[43m,\u001b[49m\u001b[43m \u001b[49m\u001b[38;5;28;43mformat\u001b[39;49m\u001b[43m)\u001b[49m\n\u001b[0;32m    198\u001b[0m     cache_array \u001b[38;5;241m=\u001b[39m Series(cache_dates, index\u001b[38;5;241m=\u001b[39munique_dates)\n\u001b[0;32m    199\u001b[0m     \u001b[38;5;66;03m# GH#39882 and GH#35888 in case of None and NaT we get duplicates\u001b[39;00m\n",
      "File \u001b[1;32m~\\anaconda3\\lib\\site-packages\\pandas\\core\\tools\\datetimes.py:394\u001b[0m, in \u001b[0;36m_convert_listlike_datetimes\u001b[1;34m(arg, format, name, tz, unit, errors, infer_datetime_format, dayfirst, yearfirst, exact)\u001b[0m\n\u001b[0;32m    391\u001b[0m         \u001b[38;5;28mformat\u001b[39m \u001b[38;5;241m=\u001b[39m \u001b[38;5;28;01mNone\u001b[39;00m\n\u001b[0;32m    393\u001b[0m \u001b[38;5;28;01mif\u001b[39;00m \u001b[38;5;28mformat\u001b[39m \u001b[38;5;129;01mis\u001b[39;00m \u001b[38;5;129;01mnot\u001b[39;00m \u001b[38;5;28;01mNone\u001b[39;00m:\n\u001b[1;32m--> 394\u001b[0m     res \u001b[38;5;241m=\u001b[39m \u001b[43m_to_datetime_with_format\u001b[49m\u001b[43m(\u001b[49m\n\u001b[0;32m    395\u001b[0m \u001b[43m        \u001b[49m\u001b[43marg\u001b[49m\u001b[43m,\u001b[49m\u001b[43m \u001b[49m\u001b[43morig_arg\u001b[49m\u001b[43m,\u001b[49m\u001b[43m \u001b[49m\u001b[43mname\u001b[49m\u001b[43m,\u001b[49m\u001b[43m \u001b[49m\u001b[43mtz\u001b[49m\u001b[43m,\u001b[49m\u001b[43m \u001b[49m\u001b[38;5;28;43mformat\u001b[39;49m\u001b[43m,\u001b[49m\u001b[43m \u001b[49m\u001b[43mexact\u001b[49m\u001b[43m,\u001b[49m\u001b[43m \u001b[49m\u001b[43merrors\u001b[49m\u001b[43m,\u001b[49m\u001b[43m \u001b[49m\u001b[43minfer_datetime_format\u001b[49m\n\u001b[0;32m    396\u001b[0m \u001b[43m    \u001b[49m\u001b[43m)\u001b[49m\n\u001b[0;32m    397\u001b[0m     \u001b[38;5;28;01mif\u001b[39;00m res \u001b[38;5;129;01mis\u001b[39;00m \u001b[38;5;129;01mnot\u001b[39;00m \u001b[38;5;28;01mNone\u001b[39;00m:\n\u001b[0;32m    398\u001b[0m         \u001b[38;5;28;01mreturn\u001b[39;00m res\n",
      "File \u001b[1;32m~\\anaconda3\\lib\\site-packages\\pandas\\core\\tools\\datetimes.py:514\u001b[0m, in \u001b[0;36m_to_datetime_with_format\u001b[1;34m(arg, orig_arg, name, tz, fmt, exact, errors, infer_datetime_format)\u001b[0m\n\u001b[0;32m    512\u001b[0m     \u001b[38;5;28;01mreturn\u001b[39;00m DatetimeIndex\u001b[38;5;241m.\u001b[39m_simple_new(dta, name\u001b[38;5;241m=\u001b[39mname)\n\u001b[0;32m    513\u001b[0m \u001b[38;5;28;01mexcept\u001b[39;00m (\u001b[38;5;167;01mValueError\u001b[39;00m, \u001b[38;5;167;01mTypeError\u001b[39;00m):\n\u001b[1;32m--> 514\u001b[0m     \u001b[38;5;28;01mraise\u001b[39;00m err\n",
      "File \u001b[1;32m~\\anaconda3\\lib\\site-packages\\pandas\\core\\tools\\datetimes.py:501\u001b[0m, in \u001b[0;36m_to_datetime_with_format\u001b[1;34m(arg, orig_arg, name, tz, fmt, exact, errors, infer_datetime_format)\u001b[0m\n\u001b[0;32m    498\u001b[0m             \u001b[38;5;28;01mreturn\u001b[39;00m _box_as_indexlike(result, utc\u001b[38;5;241m=\u001b[39mutc, name\u001b[38;5;241m=\u001b[39mname)\n\u001b[0;32m    500\u001b[0m     \u001b[38;5;66;03m# fallback\u001b[39;00m\n\u001b[1;32m--> 501\u001b[0m     res \u001b[38;5;241m=\u001b[39m \u001b[43m_array_strptime_with_fallback\u001b[49m\u001b[43m(\u001b[49m\n\u001b[0;32m    502\u001b[0m \u001b[43m        \u001b[49m\u001b[43marg\u001b[49m\u001b[43m,\u001b[49m\u001b[43m \u001b[49m\u001b[43mname\u001b[49m\u001b[43m,\u001b[49m\u001b[43m \u001b[49m\u001b[43mtz\u001b[49m\u001b[43m,\u001b[49m\u001b[43m \u001b[49m\u001b[43mfmt\u001b[49m\u001b[43m,\u001b[49m\u001b[43m \u001b[49m\u001b[43mexact\u001b[49m\u001b[43m,\u001b[49m\u001b[43m \u001b[49m\u001b[43merrors\u001b[49m\u001b[43m,\u001b[49m\u001b[43m \u001b[49m\u001b[43minfer_datetime_format\u001b[49m\n\u001b[0;32m    503\u001b[0m \u001b[43m    \u001b[49m\u001b[43m)\u001b[49m\n\u001b[0;32m    504\u001b[0m     \u001b[38;5;28;01mreturn\u001b[39;00m res\n\u001b[0;32m    506\u001b[0m \u001b[38;5;28;01mexcept\u001b[39;00m \u001b[38;5;167;01mValueError\u001b[39;00m \u001b[38;5;28;01mas\u001b[39;00m err:\n\u001b[0;32m    507\u001b[0m     \u001b[38;5;66;03m# Fallback to try to convert datetime objects if timezone-aware\u001b[39;00m\n\u001b[0;32m    508\u001b[0m     \u001b[38;5;66;03m#  datetime objects are found without passing `utc=True`\u001b[39;00m\n",
      "File \u001b[1;32m~\\anaconda3\\lib\\site-packages\\pandas\\core\\tools\\datetimes.py:437\u001b[0m, in \u001b[0;36m_array_strptime_with_fallback\u001b[1;34m(arg, name, tz, fmt, exact, errors, infer_datetime_format)\u001b[0m\n\u001b[0;32m    434\u001b[0m utc \u001b[38;5;241m=\u001b[39m tz \u001b[38;5;241m==\u001b[39m \u001b[38;5;124m\"\u001b[39m\u001b[38;5;124mutc\u001b[39m\u001b[38;5;124m\"\u001b[39m\n\u001b[0;32m    436\u001b[0m \u001b[38;5;28;01mtry\u001b[39;00m:\n\u001b[1;32m--> 437\u001b[0m     result, timezones \u001b[38;5;241m=\u001b[39m \u001b[43marray_strptime\u001b[49m\u001b[43m(\u001b[49m\u001b[43marg\u001b[49m\u001b[43m,\u001b[49m\u001b[43m \u001b[49m\u001b[43mfmt\u001b[49m\u001b[43m,\u001b[49m\u001b[43m \u001b[49m\u001b[43mexact\u001b[49m\u001b[38;5;241;43m=\u001b[39;49m\u001b[43mexact\u001b[49m\u001b[43m,\u001b[49m\u001b[43m \u001b[49m\u001b[43merrors\u001b[49m\u001b[38;5;241;43m=\u001b[39;49m\u001b[43merrors\u001b[49m\u001b[43m)\u001b[49m\n\u001b[0;32m    438\u001b[0m     \u001b[38;5;28;01mif\u001b[39;00m \u001b[38;5;124m\"\u001b[39m\u001b[38;5;124m%\u001b[39m\u001b[38;5;124mZ\u001b[39m\u001b[38;5;124m\"\u001b[39m \u001b[38;5;129;01min\u001b[39;00m fmt \u001b[38;5;129;01mor\u001b[39;00m \u001b[38;5;124m\"\u001b[39m\u001b[38;5;124m%\u001b[39m\u001b[38;5;124mz\u001b[39m\u001b[38;5;124m\"\u001b[39m \u001b[38;5;129;01min\u001b[39;00m fmt:\n\u001b[0;32m    439\u001b[0m         \u001b[38;5;28;01mreturn\u001b[39;00m _return_parsed_timezone_results(result, timezones, tz, name)\n",
      "File \u001b[1;32m~\\anaconda3\\lib\\site-packages\\pandas\\_libs\\tslibs\\strptime.pyx:150\u001b[0m, in \u001b[0;36mpandas._libs.tslibs.strptime.array_strptime\u001b[1;34m()\u001b[0m\n",
      "\u001b[1;31mValueError\u001b[0m: time data '01/01/2021' does not match format '%d-%m-%y' (match)"
     ]
    }
   ],
   "source": [
    "asignacion_count['fecha_caso'] = pd.to_datetime(asignacion_count['fecha_caso'], format=\"%d-%m-%y\")"
   ]
  },
  {
   "cell_type": "code",
   "execution_count": 149,
   "id": "a2901234",
   "metadata": {},
   "outputs": [
    {
     "ename": "AttributeError",
     "evalue": "module 'datetime' has no attribute 'strptime'",
     "output_type": "error",
     "traceback": [
      "\u001b[1;31m---------------------------------------------------------------------------\u001b[0m",
      "\u001b[1;31mAttributeError\u001b[0m                            Traceback (most recent call last)",
      "Input \u001b[1;32mIn [149]\u001b[0m, in \u001b[0;36m<cell line: 1>\u001b[1;34m()\u001b[0m\n\u001b[1;32m----> 1\u001b[0m \u001b[38;5;28mprint\u001b[39m(\u001b[43mdatetime\u001b[49m\u001b[38;5;241;43m.\u001b[39;49m\u001b[43mstrptime\u001b[49m(fechas, \u001b[38;5;28mformat\u001b[39m\u001b[38;5;241m=\u001b[39m\u001b[38;5;124m\"\u001b[39m\u001b[38;5;132;01m%d\u001b[39;00m\u001b[38;5;124m-\u001b[39m\u001b[38;5;124m%\u001b[39m\u001b[38;5;124mm-\u001b[39m\u001b[38;5;124m%\u001b[39m\u001b[38;5;124mY\u001b[39m\u001b[38;5;124m\"\u001b[39m))\n",
      "\u001b[1;31mAttributeError\u001b[0m: module 'datetime' has no attribute 'strptime'"
     ]
    }
   ],
   "source": [
    "print(datetime.strptime(fechas, format=\"%d-%m-%Y\"))"
   ]
  },
  {
   "cell_type": "code",
   "execution_count": 22,
   "id": "0c802558",
   "metadata": {},
   "outputs": [],
   "source": [
    "df_municipios = pd.DataFrame(municipios['municipio'])"
   ]
  },
  {
   "cell_type": "code",
   "execution_count": 60,
   "id": "38cdc3af",
   "metadata": {},
   "outputs": [],
   "source": [
    "asignacion_count['municipio'] = asignacion_count['municipio'].to_string()"
   ]
  },
  {
   "cell_type": "code",
   "execution_count": 69,
   "id": "488519e0",
   "metadata": {},
   "outputs": [
    {
     "name": "stdout",
     "output_type": "stream",
     "text": [
      "       fecha_caso            municipio   0\n",
      "0      01/01/2021                Adeje   1\n",
      "1      01/01/2021             Arrecife  11\n",
      "2      01/01/2021           El Rosario   2\n",
      "3      01/01/2021  Granadilla de Abona   3\n",
      "4      01/01/2021            La Laguna  21\n",
      "...           ...                  ...  ..\n",
      "13778  31/12/2021             Valverde  19\n",
      "13779  31/12/2021    Vega de San Mateo  13\n",
      "13780  31/12/2021             Vilaflor   1\n",
      "13781  31/12/2021        Villa de Mazo   3\n",
      "13782  31/12/2021                Yaiza  29\n",
      "\n",
      "[13783 rows x 3 columns]\n"
     ]
    }
   ],
   "source": [
    "print(asignacion_count)"
   ]
  },
  {
   "cell_type": "code",
   "execution_count": 9,
   "id": "82750280",
   "metadata": {},
   "outputs": [],
   "source": [
    "asignacion_count.to_excel('covid_fin.xlsx', index=False, encoding=\"utf8\")"
   ]
  },
  {
   "cell_type": "code",
   "execution_count": 62,
   "id": "b855165c",
   "metadata": {},
   "outputs": [
    {
     "name": "stdout",
     "output_type": "stream",
     "text": [
      "Suma columnas:  (97, 2)\n",
      "Suma columnas:  (286, 4)\n",
      "Suma columnas:  (317, 6)\n",
      "Suma columnas:  (751, 8)\n",
      "Suma columnas:  (783, 10)\n",
      "Suma columnas:  (944, 12)\n",
      "Suma columnas:  (944, 14)\n",
      "Suma columnas:  (1029, 16)\n",
      "Suma columnas:  (1187, 18)\n",
      "Suma columnas:  (1242, 20)\n",
      "Suma columnas:  (1464, 22)\n",
      "Suma columnas:  (1663, 24)\n",
      "Suma columnas:  (1767, 26)\n",
      "Suma columnas:  (2117, 28)\n",
      "Suma columnas:  (2385, 30)\n",
      "Suma columnas:  (2822, 32)\n",
      "Suma columnas:  (3225, 34)\n",
      "Suma columnas:  (3326, 36)\n",
      "Suma columnas:  (3670, 38)\n",
      "Suma columnas:  (3773, 40)\n",
      "Suma columnas:  (3928, 42)\n",
      "Suma columnas:  (4247, 44)\n",
      "Suma columnas:  (4247, 46)\n",
      "Suma columnas:  (4392, 48)\n",
      "Suma columnas:  (4431, 50)\n",
      "Suma columnas:  (4761, 52)\n",
      "Suma columnas:  (4878, 54)\n",
      "Suma columnas:  (5085, 56)\n",
      "Suma columnas:  (5151, 58)\n",
      "Suma columnas:  (5400, 60)\n",
      "Suma columnas:  (5400, 62)\n",
      "Suma columnas:  (5461, 64)\n",
      "Suma columnas:  (5553, 66)\n",
      "Suma columnas:  (5735, 68)\n",
      "Suma columnas:  (6148, 70)\n",
      "Suma columnas:  (6179, 72)\n",
      "Suma columnas:  (6266, 74)\n",
      "Suma columnas:  (6343, 76)\n",
      "Suma columnas:  (6464, 78)\n",
      "Suma columnas:  (6864, 80)\n",
      "Suma columnas:  (6888, 82)\n",
      "Suma columnas:  (7067, 84)\n",
      "Suma columnas:  (7141, 86)\n",
      "Suma columnas:  (7198, 88)\n",
      "Suma columnas:  (7411, 90)\n",
      "Suma columnas:  (7478, 92)\n",
      "Suma columnas:  (7557, 94)\n",
      "Suma columnas:  (7557, 96)\n",
      "Suma columnas:  (7602, 98)\n",
      "Suma columnas:  (7620, 100)\n",
      "Suma columnas:  (7992, 102)\n",
      "Suma columnas:  (8109, 104)\n",
      "Suma columnas:  (8363, 106)\n",
      "Suma columnas:  (8580, 108)\n",
      "Suma columnas:  (8645, 110)\n",
      "Suma columnas:  (8645, 112)\n",
      "Suma columnas:  (8645, 114)\n",
      "Suma columnas:  (8827, 116)\n",
      "Suma columnas:  (8936, 118)\n",
      "Suma columnas:  (9214, 120)\n",
      "Suma columnas:  (9286, 122)\n",
      "Suma columnas:  (9286, 124)\n",
      "Suma columnas:  (9310, 126)\n",
      "Suma columnas:  (9333, 128)\n",
      "Suma columnas:  (9616, 130)\n",
      "Suma columnas:  (9794, 132)\n",
      "Suma columnas:  (9858, 134)\n",
      "Suma columnas:  (9858, 136)\n",
      "Suma columnas:  (10040, 138)\n",
      "Suma columnas:  (10205, 140)\n",
      "Suma columnas:  (10350, 142)\n",
      "Suma columnas:  (10787, 144)\n",
      "Suma columnas:  (10922, 146)\n",
      "Suma columnas:  (11068, 148)\n",
      "Suma columnas:  (11180, 150)\n",
      "Suma columnas:  (11279, 152)\n",
      "Suma columnas:  (11504, 154)\n",
      "Suma columnas:  (11569, 156)\n",
      "Suma columnas:  (11646, 158)\n",
      "Suma columnas:  (11771, 160)\n",
      "Suma columnas:  (11814, 162)\n",
      "Suma columnas:  (12005, 164)\n",
      "Suma columnas:  (12085, 166)\n",
      "Suma columnas:  (12144, 168)\n",
      "Suma columnas:  (12317, 170)\n",
      "Suma columnas:  (12317, 172)\n",
      "Suma columnas:  (12389, 174)\n",
      "Suma columnas:  (12389, 176)\n"
     ]
    }
   ],
   "source": [
    "pru = pd.DataFrame()\n",
    "for index, row in df_municipios.iterrows():\n",
    "    aux = asignacion_count[asignacion_count['municipio'] == row['municipio']]\n",
    "    aux.columns=['fecha','municipio',row['municipio']]\n",
    "    aux = aux[['fecha', row['municipio']]]\n",
    "    aux[row['municipio']] = aux[row['municipio']].astype(int)\n",
    "    #aux.reset_index(drop=False, inplace=True)\n",
    "    #aux = aux.transpose()\n",
    "    #print(aux.dtypes)\n",
    "    pru = pd.concat([pru, aux], axis = 1)\n",
    "    print(\"Suma columnas: \",pru.shape)"
   ]
  },
  {
   "cell_type": "code",
   "execution_count": 66,
   "id": "60a08c61",
   "metadata": {},
   "outputs": [],
   "source": [
    "pru = pd.DataFrame()\n",
    "\n",
    "aux = asignacion_count[asignacion_count['municipio'] == 'Agaete']\n",
    "aux.columns=['fecha','municipio','Agaete']\n",
    "aux = aux[['fecha', 'Agaete']]\n",
    "aux['Agaete'] = aux['Agaete'].astype(int)\n",
    "aux.set_index('fecha')\n",
    "pru = pd.concat([pru, aux])"
   ]
  },
  {
   "cell_type": "code",
   "execution_count": 67,
   "id": "e63074d0",
   "metadata": {},
   "outputs": [
    {
     "name": "stdout",
     "output_type": "stream",
     "text": [
      "            fecha  Agaete\n",
      "91     01/02/2022       6\n",
      "186    01/03/2022       1\n",
      "464    02/01/2022       2\n",
      "621    02/03/2022       1\n",
      "738    02/07/2021       1\n",
      "...           ...     ...\n",
      "13099  29/12/2021      12\n",
      "13279  30/05/2021       2\n",
      "13448  30/12/2021       4\n",
      "13542  31/01/2022       4\n",
      "13712  31/12/2021       1\n",
      "\n",
      "[97 rows x 2 columns]\n"
     ]
    }
   ],
   "source": [
    "print(pru)"
   ]
  },
  {
   "cell_type": "code",
   "execution_count": null,
   "id": "8cad3fe3",
   "metadata": {},
   "outputs": [],
   "source": []
  },
  {
   "cell_type": "code",
   "execution_count": null,
   "id": "eea0b56d",
   "metadata": {},
   "outputs": [],
   "source": []
  },
  {
   "cell_type": "code",
   "execution_count": 32,
   "id": "de063744",
   "metadata": {},
   "outputs": [
    {
     "data": {
      "text/plain": [
       "0         1\n",
       "1        11\n",
       "2         2\n",
       "3         3\n",
       "4        21\n",
       "         ..\n",
       "13778    19\n",
       "13779    13\n",
       "13780     1\n",
       "13781     3\n",
       "13782    29\n",
       "Name: 0, Length: 13783, dtype: int32"
      ]
     },
     "execution_count": 32,
     "metadata": {},
     "output_type": "execute_result"
    }
   ],
   "source": []
  },
  {
   "cell_type": "code",
   "execution_count": null,
   "id": "f2929662",
   "metadata": {},
   "outputs": [],
   "source": []
  }
 ],
 "metadata": {
  "kernelspec": {
   "display_name": "Python 3 (ipykernel)",
   "language": "python",
   "name": "python3"
  },
  "language_info": {
   "codemirror_mode": {
    "name": "ipython",
    "version": 3
   },
   "file_extension": ".py",
   "mimetype": "text/x-python",
   "name": "python",
   "nbconvert_exporter": "python",
   "pygments_lexer": "ipython3",
   "version": "3.9.12"
  }
 },
 "nbformat": 4,
 "nbformat_minor": 5
}
