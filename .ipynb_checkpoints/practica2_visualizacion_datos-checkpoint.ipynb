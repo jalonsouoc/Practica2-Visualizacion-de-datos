{
 "cells": [
  {
   "cell_type": "markdown",
   "id": "4174c847",
   "metadata": {},
   "source": [
    "<div style=\"width: 100%; clear: both;\">\n",
    "<div style=\"float: left; width: 50%;\">\n",
    "<img src=\"http://www.uoc.edu/portal/_resources/common/imatges/marca_UOC/UOC_Masterbrand.jpg\", align=\"left\">\n",
    "</div>\n",
    "<div style=\"float: right; width: 50%;\">\n",
    "<p style=\"margin: 0; padding-top: 22px; text-align:right;\">Visualización de Datos</p>\n",
    "<p style=\"margin: 0; text-align:right;\">Máster Universitario de Ciencia de datos </p>\n",
    "<p style=\"margin: 0; text-align:right;\">Universitat Oberta de Catalunya</p>\n",
    "    <p style=\"margin: 0; text-align:right; padding-button: 100px;\">Autor: Jorge Alonso Hernández</p>\n",
    "</div>\n",
    "</div>\n",
    "<div style=\"width:100%;\">&nbsp;</div>\n",
    "\n",
    "\n",
    "# Práctica 2: Creación de la visualización y entrega del proyecto"
   ]
  },
  {
   "cell_type": "markdown",
   "id": "023a0fce",
   "metadata": {},
   "source": [
    "Carga inicial de librerías"
   ]
  },
  {
   "cell_type": "code",
   "execution_count": 1,
   "id": "8b1da6f9",
   "metadata": {},
   "outputs": [],
   "source": [
    "#Carga de librerías\n",
    "import pandas as pd\n",
    "import numpy as np \n",
    "import itertools\n",
    "\n",
    "from datetime import datetime"
   ]
  },
  {
   "cell_type": "markdown",
   "id": "be6acb13",
   "metadata": {},
   "source": [
    "Lectura de los datos de ficheros iniciales"
   ]
  },
  {
   "cell_type": "code",
   "execution_count": 2,
   "id": "49ce3938",
   "metadata": {},
   "outputs": [],
   "source": [
    "data_covid = pd.read_csv(\"datasets/covid_canarias.csv\")\n",
    "municipios = pd.read_csv(\"datasets/municipios.csv\")\n",
    "islas = pd.read_csv(\"datasets/islas.csv\")"
   ]
  },
  {
   "cell_type": "code",
   "execution_count": 3,
   "id": "5ef02609",
   "metadata": {},
   "outputs": [
    {
     "data": {
      "text/html": [
       "<div>\n",
       "<style scoped>\n",
       "    .dataframe tbody tr th:only-of-type {\n",
       "        vertical-align: middle;\n",
       "    }\n",
       "\n",
       "    .dataframe tbody tr th {\n",
       "        vertical-align: top;\n",
       "    }\n",
       "\n",
       "    .dataframe thead th {\n",
       "        text-align: right;\n",
       "    }\n",
       "</style>\n",
       "<table border=\"1\" class=\"dataframe\">\n",
       "  <thead>\n",
       "    <tr style=\"text-align: right;\">\n",
       "      <th></th>\n",
       "      <th>fecha_datos</th>\n",
       "      <th>isla</th>\n",
       "      <th>municipio</th>\n",
       "      <th>sexo</th>\n",
       "      <th>grupo_edad</th>\n",
       "      <th>fecha_caso</th>\n",
       "      <th>fecha_fallecido</th>\n",
       "      <th>fecha_curado</th>\n",
       "      <th>estado_caso</th>\n",
       "      <th>identificacion_caso</th>\n",
       "      <th>fallecido</th>\n",
       "      <th>curado</th>\n",
       "      <th>continua_enfermo</th>\n",
       "      <th>provincia</th>\n",
       "    </tr>\n",
       "  </thead>\n",
       "  <tbody>\n",
       "    <tr>\n",
       "      <th>0</th>\n",
       "      <td>14/03/2022</td>\n",
       "      <td>TENERIFE</td>\n",
       "      <td>Adeje</td>\n",
       "      <td>Hombre</td>\n",
       "      <td>30 - 39</td>\n",
       "      <td>02/01/2022</td>\n",
       "      <td>NaN</td>\n",
       "      <td>13/01/2022</td>\n",
       "      <td>Cerrado por alta médica</td>\n",
       "      <td>Asignación</td>\n",
       "      <td>No</td>\n",
       "      <td>Sí</td>\n",
       "      <td>No</td>\n",
       "      <td>Santa Cruz de Tenerife</td>\n",
       "    </tr>\n",
       "    <tr>\n",
       "      <th>1</th>\n",
       "      <td>14/03/2022</td>\n",
       "      <td>TENERIFE</td>\n",
       "      <td>Adeje</td>\n",
       "      <td>Hombre</td>\n",
       "      <td>30 - 39</td>\n",
       "      <td>08/01/2022</td>\n",
       "      <td>NaN</td>\n",
       "      <td>19/01/2022</td>\n",
       "      <td>Cerrado por alta médica</td>\n",
       "      <td>Asignación</td>\n",
       "      <td>No</td>\n",
       "      <td>Sí</td>\n",
       "      <td>No</td>\n",
       "      <td>Santa Cruz de Tenerife</td>\n",
       "    </tr>\n",
       "    <tr>\n",
       "      <th>2</th>\n",
       "      <td>14/03/2022</td>\n",
       "      <td>TENERIFE</td>\n",
       "      <td>Adeje</td>\n",
       "      <td>Hombre</td>\n",
       "      <td>40 - 49</td>\n",
       "      <td>06/01/2022</td>\n",
       "      <td>NaN</td>\n",
       "      <td>17/01/2022</td>\n",
       "      <td>Cerrado por alta médica</td>\n",
       "      <td>Asignación</td>\n",
       "      <td>No</td>\n",
       "      <td>Sí</td>\n",
       "      <td>No</td>\n",
       "      <td>Santa Cruz de Tenerife</td>\n",
       "    </tr>\n",
       "    <tr>\n",
       "      <th>3</th>\n",
       "      <td>14/03/2022</td>\n",
       "      <td>TENERIFE</td>\n",
       "      <td>Adeje</td>\n",
       "      <td>Hombre</td>\n",
       "      <td>50 - 59</td>\n",
       "      <td>02/01/2022</td>\n",
       "      <td>NaN</td>\n",
       "      <td>13/01/2022</td>\n",
       "      <td>Cerrado por alta médica</td>\n",
       "      <td>Asignación</td>\n",
       "      <td>No</td>\n",
       "      <td>Sí</td>\n",
       "      <td>No</td>\n",
       "      <td>Santa Cruz de Tenerife</td>\n",
       "    </tr>\n",
       "    <tr>\n",
       "      <th>4</th>\n",
       "      <td>14/03/2022</td>\n",
       "      <td>TENERIFE</td>\n",
       "      <td>Adeje</td>\n",
       "      <td>Hombre</td>\n",
       "      <td>40 - 49</td>\n",
       "      <td>08/01/2022</td>\n",
       "      <td>NaN</td>\n",
       "      <td>19/01/2022</td>\n",
       "      <td>Cerrado por alta médica</td>\n",
       "      <td>Asignación</td>\n",
       "      <td>No</td>\n",
       "      <td>Sí</td>\n",
       "      <td>No</td>\n",
       "      <td>Santa Cruz de Tenerife</td>\n",
       "    </tr>\n",
       "  </tbody>\n",
       "</table>\n",
       "</div>"
      ],
      "text/plain": [
       "  fecha_datos      isla municipio    sexo grupo_edad  fecha_caso  \\\n",
       "0  14/03/2022  TENERIFE     Adeje  Hombre    30 - 39  02/01/2022   \n",
       "1  14/03/2022  TENERIFE     Adeje  Hombre    30 - 39  08/01/2022   \n",
       "2  14/03/2022  TENERIFE     Adeje  Hombre    40 - 49  06/01/2022   \n",
       "3  14/03/2022  TENERIFE     Adeje  Hombre    50 - 59  02/01/2022   \n",
       "4  14/03/2022  TENERIFE     Adeje  Hombre    40 - 49  08/01/2022   \n",
       "\n",
       "  fecha_fallecido fecha_curado              estado_caso identificacion_caso  \\\n",
       "0             NaN   13/01/2022  Cerrado por alta médica          Asignación   \n",
       "1             NaN   19/01/2022  Cerrado por alta médica          Asignación   \n",
       "2             NaN   17/01/2022  Cerrado por alta médica          Asignación   \n",
       "3             NaN   13/01/2022  Cerrado por alta médica          Asignación   \n",
       "4             NaN   19/01/2022  Cerrado por alta médica          Asignación   \n",
       "\n",
       "  fallecido curado continua_enfermo               provincia  \n",
       "0        No     Sí               No  Santa Cruz de Tenerife  \n",
       "1        No     Sí               No  Santa Cruz de Tenerife  \n",
       "2        No     Sí               No  Santa Cruz de Tenerife  \n",
       "3        No     Sí               No  Santa Cruz de Tenerife  \n",
       "4        No     Sí               No  Santa Cruz de Tenerife  "
      ]
     },
     "execution_count": 3,
     "metadata": {},
     "output_type": "execute_result"
    }
   ],
   "source": [
    "data_covid.head()"
   ]
  },
  {
   "cell_type": "code",
   "execution_count": 4,
   "id": "b7dc543e",
   "metadata": {},
   "outputs": [],
   "source": [
    "islas['isla'] = islas['isla'].str.title()\n",
    "data_covid['isla'] = data_covid['isla'].str.title()"
   ]
  },
  {
   "cell_type": "code",
   "execution_count": 5,
   "id": "ac450bbe",
   "metadata": {},
   "outputs": [],
   "source": [
    "#Obtenenmos los nombres de los municipios en el documento de casos de covid\n",
    "municipios_ori = pd.DataFrame(pd.unique(data_covid['municipio']))\n",
    "municipios_ori.columns = ['municipio']\n",
    "\n",
    "#Comprobamos los nombres de los municipios\n",
    "df_destino = municipios.loc[~municipios['municipio'].isin(pd.unique(data_covid['municipio']))]\n",
    "df_destino = pd.DataFrame(df_destino['municipio'])\n",
    "df_origen = municipios_ori.loc[~municipios_ori['municipio'].isin(municipios['municipio'])]\n",
    "\n",
    "df_origen = df_origen.sort_values(by='municipio')\n",
    "df_destino = df_destino.sort_values(by='municipio')\n",
    "\n",
    "df_origen = df_origen.reset_index()\n",
    "df_destino = df_destino.reset_index()"
   ]
  },
  {
   "cell_type": "code",
   "execution_count": 6,
   "id": "88676307",
   "metadata": {},
   "outputs": [
    {
     "name": "stdout",
     "output_type": "stream",
     "text": [
      "   index              municipio\n",
      "0     45               El Pinar\n",
      "1     81           Fuencaliente\n",
      "2     70      Icod de Los Vinos\n",
      "3      5              La Laguna\n",
      "4     24      Puerto de La Cruz\n",
      "5     87        SIN ESPECIFICAR\n",
      "6     32  San juan de La Rambla\n",
      "7     29    Santa María de Guía\n",
      "8     67            Valsequillo\n",
      "9     69               Vilaflor\n"
     ]
    }
   ],
   "source": [
    "print(df_origen)"
   ]
  },
  {
   "cell_type": "code",
   "execution_count": 7,
   "id": "569e6274",
   "metadata": {},
   "outputs": [
    {
     "name": "stdout",
     "output_type": "stream",
     "text": [
      "   index                            municipio\n",
      "0     87                El Pinar de El Hierro\n",
      "1     47             Fuencaliente de La Palma\n",
      "2     55                    Icod de los Vinos\n",
      "3     61                    Puerto de la Cruz\n",
      "4     56           San Cristóbal de La Laguna\n",
      "5     67                San Juan de la Rambla\n",
      "6     22  Santa María de Guía de Gran Canaria\n",
      "7     30          Valsequillo de Gran Canaria\n",
      "8     85                   Vilaflor de Chasna\n"
     ]
    }
   ],
   "source": [
    "print(df_destino)"
   ]
  },
  {
   "cell_type": "code",
   "execution_count": 8,
   "id": "c12a03dc",
   "metadata": {},
   "outputs": [],
   "source": [
    "#Eliminamos el valor SIN ESPECIFICAR pues es correcto que estos valores no se visualicen en el mapa \n",
    "df_origen = df_origen.drop(5).reset_index()"
   ]
  },
  {
   "cell_type": "code",
   "execution_count": 9,
   "id": "3c6e888d",
   "metadata": {},
   "outputs": [
    {
     "name": "stdout",
     "output_type": "stream",
     "text": [
      "   level_0  index              municipio\n",
      "0        0     45               El Pinar\n",
      "1        1     81           Fuencaliente\n",
      "2        2     70      Icod de Los Vinos\n",
      "3        3      5              La Laguna\n",
      "4        4     24      Puerto de La Cruz\n",
      "5        6     32  San juan de La Rambla\n",
      "6        7     29    Santa María de Guía\n",
      "7        8     67            Valsequillo\n",
      "8        9     69               Vilaflor\n"
     ]
    }
   ],
   "source": [
    "print(df_origen)"
   ]
  },
  {
   "cell_type": "code",
   "execution_count": 10,
   "id": "864d1d2c",
   "metadata": {},
   "outputs": [],
   "source": [
    "for i in range(0,len(df_origen)):\n",
    "    data_covid = data_covid.replace(df_origen['municipio'][i], df_destino['municipio'][i])\n"
   ]
  },
  {
   "cell_type": "code",
   "execution_count": 11,
   "id": "ba5d30f4",
   "metadata": {},
   "outputs": [],
   "source": [
    "asignacion = data_covid[data_covid['identificacion_caso'] == 'Asignación']\n",
    "residencia = data_covid[data_covid['identificacion_caso'] == 'Residencia']"
   ]
  },
  {
   "cell_type": "code",
   "execution_count": 12,
   "id": "45b5262c",
   "metadata": {},
   "outputs": [],
   "source": [
    "municipios = municipios.merge(islas[['geocode', 'isla', 'provincia', 'poblacion']],  left_on='geocode_isla', right_on='geocode')"
   ]
  },
  {
   "cell_type": "code",
   "execution_count": 13,
   "id": "0c802558",
   "metadata": {},
   "outputs": [],
   "source": [
    "df_municipios = pd.DataFrame(municipios['municipio'])\n",
    "df_islas = pd.DataFrame(islas['isla'])\n",
    "df_provincias = pd.DataFrame(pd.unique(islas['provincia']))\n",
    "df_provincias.columns = ['provincia']"
   ]
  },
  {
   "cell_type": "code",
   "execution_count": 14,
   "id": "048bdaa0",
   "metadata": {},
   "outputs": [],
   "source": [
    "capitales = ['Santa Cruz de Tenerife', 'Santa Cruz de La Palma', 'San Sebastián de La Gomera', 'Valverde', 'Las Palmas de Gran Canaria', 'Puerto del Rosario', 'Arrecife']\n",
    "capitales_provincia = ['Santa Cruz de Tenerife', 'Las Palmas de Gran Canaria']\n",
    "\n",
    "df_capitales = municipios.loc[municipios['municipio'].isin(capitales)]\n",
    "df_capitales = df_capitales.reset_index()\n",
    "\n",
    "df_capitales_provincia = municipios.loc[municipios['municipio'].isin(capitales_provincia)]\n",
    "df_capitales_provincia = df_capitales_provincia.reset_index()"
   ]
  },
  {
   "cell_type": "code",
   "execution_count": 15,
   "id": "78f0fc8e",
   "metadata": {},
   "outputs": [],
   "source": [
    "df_capitales = df_capitales[['municipio','isla', 'municipio','longitud_capital','latitud_capital', 'poblacion']]\n",
    "df_capitales_provincia = df_capitales[['municipio','isla', 'municipio','longitud_capital','latitud_capital']]"
   ]
  },
  {
   "cell_type": "code",
   "execution_count": 16,
   "id": "f4ebe2df",
   "metadata": {},
   "outputs": [],
   "source": [
    "def conversion(df, tipo_agrupamiento):\n",
    "    df_result = pd.DataFrame()\n",
    "    df_result_accumul = pd.DataFrame()\n",
    "        \n",
    "    if tipo_agrupamiento == 'municipios':\n",
    "        df_agrupamientos = df_municipios\n",
    "        label = 'municipio'\n",
    "    elif tipo_agrupamiento == 'islas':\n",
    "        df_agrupamientos = df_islas\n",
    "        label = 'isla'\n",
    "    elif tipo_agrupamiento == 'provincias':\n",
    "        df_agrupamientos = df_provincias\n",
    "        label = 'provincia'\n",
    "    else:\n",
    "        return None\n",
    "    \n",
    "    for index, row in df_agrupamientos.iterrows():\n",
    "        aux = df[df[label] == row[label]]\n",
    "        aux = aux.groupby(['fecha_caso',label]).size().reset_index()\n",
    "        aux.columns=['fecha', label, row[label]]\n",
    "        aux = aux[['fecha', row[label]]]\n",
    "        aux['fecha'] = pd.to_datetime(aux['fecha'], dayfirst=True,format='%d/%m/%Y', exact=True)\n",
    "        aux['fecha'] = aux['fecha'].dt.strftime('%Y/%m/%d')\n",
    "        \n",
    "        aux = aux.sort_values(by='fecha')\n",
    "        aux = aux.set_index('fecha')\n",
    "        aux_acc = aux.cumsum()\n",
    "        aux = aux.transpose()\n",
    "        aux_acc = aux_acc.transpose()\n",
    "        \n",
    "        df_result = pd.concat([df_result, aux], axis = 0)\n",
    "        df_result_accumul = pd.concat([df_result_accumul, aux_acc], axis = 0)\n",
    "    \n",
    "    \n",
    "    ## Ordenamos por fecha y cumplimentamos los NaN con el valor anterior\n",
    "    df_result_accumul = df_result_accumul.transpose()\n",
    "    df_result_accumul = df_result_accumul.sort_values(by=['fecha'])\n",
    "    df_result_accumul[0:1] = df_result_accumul[0:1].fillna(0)   \n",
    "    df_result_accumul = df_result_accumul.fillna(method=\"pad\")\n",
    "    df_result_accumul = df_result_accumul.transpose()\n",
    "    \n",
    "    #Ordenamos por fecha y cumplimentamos los NaN por 0\n",
    "    df_result = df_result.replace(np.nan, 0)\n",
    "    df_result = df_result.transpose()\n",
    "    df_result = df_result.sort_values(by=['fecha'])\n",
    "    df_result = df_result.transpose()\n",
    "    \n",
    "    df_result = df_result.reset_index()\n",
    "    df_result_accumul = df_result_accumul.reset_index()\n",
    "    \n",
    "    return df_result, df_result_accumul"
   ]
  },
  {
   "cell_type": "code",
   "execution_count": 17,
   "id": "3c4c691a",
   "metadata": {},
   "outputs": [],
   "source": [
    "data_municipios_asignacion, data_municipios_asignacion_accumul =  conversion(asignacion, 'municipios')\n",
    "data_islas_asignacion, data_islas_asignacion_accumul = conversion(asignacion, 'islas')\n",
    "data_provincias_asignacion, data_provincias_asignacion_accumul = conversion(asignacion, 'provincias')"
   ]
  },
  {
   "cell_type": "code",
   "execution_count": 18,
   "id": "1abeda7b",
   "metadata": {},
   "outputs": [],
   "source": [
    "data_municipios_residencia, data_municipios_residencia_accumul =  conversion(residencia, 'municipios')\n",
    "data_islas_residencia, data_islas_residencia_accumul = conversion(residencia, 'islas')\n",
    "data_provincias_residencia, data_provincias_residencia_accumul = conversion(residencia, 'provincias')"
   ]
  },
  {
   "cell_type": "markdown",
   "id": "5d399e95",
   "metadata": {},
   "source": [
    "Añadimos los datosw de isla y provincia a los datos de los municipios para la visualización"
   ]
  },
  {
   "cell_type": "code",
   "execution_count": 19,
   "id": "3758b77c",
   "metadata": {},
   "outputs": [],
   "source": [
    "data_municipios_asignacion = data_municipios_asignacion.merge(municipios[['municipio', 'isla', 'provincia']],  left_on='index', right_on='municipio')\n",
    "data_municipios_asignacion_accumul = data_municipios_asignacion_accumul.merge(municipios[['municipio', 'isla', 'provincia']],  left_on='index', right_on='municipio')\n",
    "\n",
    "data_municipios_residencia = data_municipios_residencia.merge(municipios[['municipio', 'isla', 'provincia']],  left_on='index', right_on='municipio')\n",
    "data_municipios_residencia_accumul = data_municipios_residencia_accumul.merge(municipios[['municipio', 'isla', 'provincia']],  left_on='index', right_on='municipio')"
   ]
  },
  {
   "cell_type": "code",
   "execution_count": 20,
   "id": "eea0b56d",
   "metadata": {},
   "outputs": [],
   "source": [
    "data_provincias_asignacion.to_excel('data/provincias_asignacion.xlsx', index=False, encoding=\"utf8\")\n",
    "data_provincias_asignacion_accumul.to_excel('data/provincias_asignacion_acc.xlsx', index=False, encoding=\"utf8\")\n",
    "data_islas_asignacion.to_excel('data/islas_asignacion.xlsx', index=False, encoding=\"utf8\")\n",
    "data_islas_asignacion_accumul.to_excel('data/islas_asignacion_acc.xlsx', index=False, encoding=\"utf8\")\n",
    "data_municipios_asignacion.to_excel('data/municipios_asignacion.xlsx', index=False, encoding=\"utf8\")\n",
    "data_municipios_asignacion_accumul.to_excel('data/municipios_asignacion_acc.xlsx', index=False, encoding=\"utf8\")"
   ]
  },
  {
   "cell_type": "code",
   "execution_count": 21,
   "id": "1fe9631f",
   "metadata": {},
   "outputs": [],
   "source": [
    "data_provincias_residencia.to_excel('data/provincias_residencia.xlsx', index=False, encoding=\"utf8\")\n",
    "data_provincias_residencia_accumul.to_excel('data/provincias_residencia_acc.xlsx', index=False, encoding=\"utf8\")\n",
    "data_islas_residencia.to_excel('data/islas_residencia.xlsx', index=False, encoding=\"utf8\")\n",
    "data_islas_residencia_accumul.to_excel('data/islas_residencia_acc.xlsx', index=False, encoding=\"utf8\")\n",
    "data_municipios_residencia.to_excel('data/municipios_residencia.xlsx', index=False, encoding=\"utf8\")\n",
    "data_municipios_residencia_accumul.to_excel('data/municipios_residencia_acc.xlsx', index=False, encoding=\"utf8\")"
   ]
  },
  {
   "cell_type": "code",
   "execution_count": 23,
   "id": "42d2a237",
   "metadata": {},
   "outputs": [],
   "source": [
    "df_capitales.to_csv('mapas/capitales.csv', index=False, sep=\",\")\n",
    "df_capitales_provincia.to_csv('mapas/capitales_provincia.csv', index=False, sep=\",\")"
   ]
  },
  {
   "cell_type": "code",
   "execution_count": null,
   "id": "9e8397ee",
   "metadata": {},
   "outputs": [],
   "source": []
  }
 ],
 "metadata": {
  "kernelspec": {
   "display_name": "Python 3 (ipykernel)",
   "language": "python",
   "name": "python3"
  },
  "language_info": {
   "codemirror_mode": {
    "name": "ipython",
    "version": 3
   },
   "file_extension": ".py",
   "mimetype": "text/x-python",
   "name": "python",
   "nbconvert_exporter": "python",
   "pygments_lexer": "ipython3",
   "version": "3.9.12"
  }
 },
 "nbformat": 4,
 "nbformat_minor": 5
}
