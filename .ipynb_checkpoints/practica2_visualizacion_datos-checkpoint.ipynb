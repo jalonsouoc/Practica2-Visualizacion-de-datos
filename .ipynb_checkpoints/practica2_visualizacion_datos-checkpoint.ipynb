{
 "cells": [
  {
   "cell_type": "markdown",
   "id": "32727824",
   "metadata": {},
   "source": [
    "<div style=\"width: 100%; clear: both;\">\n",
    "<div style=\"float: left; width: 50%;\">\n",
    "<img src=\"http://www.uoc.edu/portal/_resources/common/imatges/marca_UOC/UOC_Masterbrand.jpg\", align=\"left\">\n",
    "</div>\n",
    "<div style=\"float: right; width: 50%;\">\n",
    "<p style=\"margin: 0; padding-top: 22px; text-align:right;\">Visualización de Datos</p>\n",
    "<p style=\"margin: 0; text-align:right;\">Máster Universitario de Ciencia de datos </p>\n",
    "<p style=\"margin: 0; text-align:right;\">Universitat Oberta de Catalunya</p>\n",
    "    <p style=\"margin: 0; text-align:right; padding-button: 100px;\">Autor: Jorge Alonso Hernández</p>\n",
    "</div>\n",
    "</div>\n",
    "<div style=\"width:100%;\">&nbsp;</div>\n",
    "\n",
    "\n",
    "# Práctica 2: Creación de la visualización y entrega del proyecto"
   ]
  },
  {
   "cell_type": "code",
   "execution_count": 1,
   "id": "8b1da6f9",
   "metadata": {},
   "outputs": [],
   "source": [
    "#Carga de librerías\n",
    "import pandas as pd\n",
    "import numpy as np \n",
    "import itertools\n",
    "\n",
    "from datetime import datetime"
   ]
  },
  {
   "cell_type": "code",
   "execution_count": 12,
   "id": "49ce3938",
   "metadata": {},
   "outputs": [],
   "source": [
    "data_covid = pd.read_csv(\"datasets/covid_canarias.csv\")\n",
    "municipios = pd.read_csv(\"datasets/municipios.csv\")\n",
    "islas = pd.read_csv(\"datasets/islas.csv\")"
   ]
  },
  {
   "cell_type": "code",
   "execution_count": 3,
   "id": "5ef02609",
   "metadata": {},
   "outputs": [
    {
     "data": {
      "text/html": [
       "<div>\n",
       "<style scoped>\n",
       "    .dataframe tbody tr th:only-of-type {\n",
       "        vertical-align: middle;\n",
       "    }\n",
       "\n",
       "    .dataframe tbody tr th {\n",
       "        vertical-align: top;\n",
       "    }\n",
       "\n",
       "    .dataframe thead th {\n",
       "        text-align: right;\n",
       "    }\n",
       "</style>\n",
       "<table border=\"1\" class=\"dataframe\">\n",
       "  <thead>\n",
       "    <tr style=\"text-align: right;\">\n",
       "      <th></th>\n",
       "      <th>fecha_datos</th>\n",
       "      <th>isla</th>\n",
       "      <th>municipio</th>\n",
       "      <th>sexo</th>\n",
       "      <th>grupo_edad</th>\n",
       "      <th>fecha_caso</th>\n",
       "      <th>fecha_fallecido</th>\n",
       "      <th>fecha_curado</th>\n",
       "      <th>estado_caso</th>\n",
       "      <th>identificacion_caso</th>\n",
       "      <th>fallecido</th>\n",
       "      <th>curado</th>\n",
       "      <th>continua_enfermo</th>\n",
       "      <th>provincia</th>\n",
       "    </tr>\n",
       "  </thead>\n",
       "  <tbody>\n",
       "    <tr>\n",
       "      <th>0</th>\n",
       "      <td>14/03/2022</td>\n",
       "      <td>TENERIFE</td>\n",
       "      <td>Adeje</td>\n",
       "      <td>Hombre</td>\n",
       "      <td>30 - 39</td>\n",
       "      <td>02/01/2022</td>\n",
       "      <td>NaN</td>\n",
       "      <td>13/01/2022</td>\n",
       "      <td>Cerrado por alta médica</td>\n",
       "      <td>Asignación</td>\n",
       "      <td>No</td>\n",
       "      <td>Sí</td>\n",
       "      <td>No</td>\n",
       "      <td>Santa Cruz de Tenerife</td>\n",
       "    </tr>\n",
       "    <tr>\n",
       "      <th>1</th>\n",
       "      <td>14/03/2022</td>\n",
       "      <td>TENERIFE</td>\n",
       "      <td>Adeje</td>\n",
       "      <td>Hombre</td>\n",
       "      <td>30 - 39</td>\n",
       "      <td>08/01/2022</td>\n",
       "      <td>NaN</td>\n",
       "      <td>19/01/2022</td>\n",
       "      <td>Cerrado por alta médica</td>\n",
       "      <td>Asignación</td>\n",
       "      <td>No</td>\n",
       "      <td>Sí</td>\n",
       "      <td>No</td>\n",
       "      <td>Santa Cruz de Tenerife</td>\n",
       "    </tr>\n",
       "    <tr>\n",
       "      <th>2</th>\n",
       "      <td>14/03/2022</td>\n",
       "      <td>TENERIFE</td>\n",
       "      <td>Adeje</td>\n",
       "      <td>Hombre</td>\n",
       "      <td>40 - 49</td>\n",
       "      <td>06/01/2022</td>\n",
       "      <td>NaN</td>\n",
       "      <td>17/01/2022</td>\n",
       "      <td>Cerrado por alta médica</td>\n",
       "      <td>Asignación</td>\n",
       "      <td>No</td>\n",
       "      <td>Sí</td>\n",
       "      <td>No</td>\n",
       "      <td>Santa Cruz de Tenerife</td>\n",
       "    </tr>\n",
       "    <tr>\n",
       "      <th>3</th>\n",
       "      <td>14/03/2022</td>\n",
       "      <td>TENERIFE</td>\n",
       "      <td>Adeje</td>\n",
       "      <td>Hombre</td>\n",
       "      <td>50 - 59</td>\n",
       "      <td>02/01/2022</td>\n",
       "      <td>NaN</td>\n",
       "      <td>13/01/2022</td>\n",
       "      <td>Cerrado por alta médica</td>\n",
       "      <td>Asignación</td>\n",
       "      <td>No</td>\n",
       "      <td>Sí</td>\n",
       "      <td>No</td>\n",
       "      <td>Santa Cruz de Tenerife</td>\n",
       "    </tr>\n",
       "    <tr>\n",
       "      <th>4</th>\n",
       "      <td>14/03/2022</td>\n",
       "      <td>TENERIFE</td>\n",
       "      <td>Adeje</td>\n",
       "      <td>Hombre</td>\n",
       "      <td>40 - 49</td>\n",
       "      <td>08/01/2022</td>\n",
       "      <td>NaN</td>\n",
       "      <td>19/01/2022</td>\n",
       "      <td>Cerrado por alta médica</td>\n",
       "      <td>Asignación</td>\n",
       "      <td>No</td>\n",
       "      <td>Sí</td>\n",
       "      <td>No</td>\n",
       "      <td>Santa Cruz de Tenerife</td>\n",
       "    </tr>\n",
       "  </tbody>\n",
       "</table>\n",
       "</div>"
      ],
      "text/plain": [
       "  fecha_datos      isla municipio    sexo grupo_edad  fecha_caso  \\\n",
       "0  14/03/2022  TENERIFE     Adeje  Hombre    30 - 39  02/01/2022   \n",
       "1  14/03/2022  TENERIFE     Adeje  Hombre    30 - 39  08/01/2022   \n",
       "2  14/03/2022  TENERIFE     Adeje  Hombre    40 - 49  06/01/2022   \n",
       "3  14/03/2022  TENERIFE     Adeje  Hombre    50 - 59  02/01/2022   \n",
       "4  14/03/2022  TENERIFE     Adeje  Hombre    40 - 49  08/01/2022   \n",
       "\n",
       "  fecha_fallecido fecha_curado              estado_caso identificacion_caso  \\\n",
       "0             NaN   13/01/2022  Cerrado por alta médica          Asignación   \n",
       "1             NaN   19/01/2022  Cerrado por alta médica          Asignación   \n",
       "2             NaN   17/01/2022  Cerrado por alta médica          Asignación   \n",
       "3             NaN   13/01/2022  Cerrado por alta médica          Asignación   \n",
       "4             NaN   19/01/2022  Cerrado por alta médica          Asignación   \n",
       "\n",
       "  fallecido curado continua_enfermo               provincia  \n",
       "0        No     Sí               No  Santa Cruz de Tenerife  \n",
       "1        No     Sí               No  Santa Cruz de Tenerife  \n",
       "2        No     Sí               No  Santa Cruz de Tenerife  \n",
       "3        No     Sí               No  Santa Cruz de Tenerife  \n",
       "4        No     Sí               No  Santa Cruz de Tenerife  "
      ]
     },
     "execution_count": 3,
     "metadata": {},
     "output_type": "execute_result"
    }
   ],
   "source": [
    "data_covid.head()"
   ]
  },
  {
   "cell_type": "code",
   "execution_count": 4,
   "id": "ba5d30f4",
   "metadata": {},
   "outputs": [],
   "source": [
    "asignacion = data_covid[data_covid['identificacion_caso'] == 'Asignación']\n",
    "residencia = data_covid[data_covid['identificacion_caso'] == 'Residencia']"
   ]
  },
  {
   "cell_type": "code",
   "execution_count": 5,
   "id": "2dbc02f4",
   "metadata": {},
   "outputs": [],
   "source": [
    "asignacion_count = asignacion.groupby(['fecha_caso','municipio']).size().reset_index()\n",
    "residencia_count = residencia.groupby(['fecha_caso', 'municipio']).size().reset_index()"
   ]
  },
  {
   "cell_type": "code",
   "execution_count": 65,
   "id": "0c802558",
   "metadata": {},
   "outputs": [],
   "source": [
    "df_municipios = pd.DataFrame(municipios['municipio'])\n",
    "df_islas = pd.DataFrame(islas['isla'])\n",
    "df_provincias = pd.DataFrame(pd.unique(islas['provincia']))\n",
    "df_provincias.columns = ['provincia']"
   ]
  },
  {
   "cell_type": "code",
   "execution_count": 68,
   "id": "53e2deae",
   "metadata": {},
   "outputs": [],
   "source": [
    "def conversion(df, tipo_agrupamiento):\n",
    "    df_result = pd.DataFrame()\n",
    "        \n",
    "    if tipo_agrupamiento == 'municipios':\n",
    "        df_agrupamientos = df_municipios\n",
    "        label = 'municipio'\n",
    "    elif tipo_agrupamiento == 'islas':\n",
    "        df_agrupamientos = df_islas\n",
    "        label = 'isla'\n",
    "    elif tipo_agrupamiento == 'provincias':\n",
    "        df_agrupamientos = df_provincias\n",
    "        label = 'provincia'\n",
    "    else:\n",
    "        return None\n",
    "\n",
    "    for index, row in df_agrupamientos.iterrows():\n",
    "        aux = df[df[label] == row[label]]\n",
    "        aux = aux.groupby(['fecha_caso',label]).size().reset_index()\n",
    "        aux.columns=['fecha', label, row[label]]\n",
    "        aux = aux[['fecha', row[label]]]\n",
    "        aux = aux.set_index('fecha')\n",
    "        aux = aux.transpose()\n",
    "        \n",
    "        df_result = pd.concat([df_result, aux], axis = 0)\n",
    "    \n",
    "    df_result = df_result.replace(np.nan, 0)\n",
    "    df_result = df_result.reset_index()\n",
    "    return df_result"
   ]
  },
  {
   "cell_type": "code",
   "execution_count": 86,
   "id": "05cbd907",
   "metadata": {},
   "outputs": [],
   "source": [
    "def conversionV2(df, tipo_agrupamiento):\n",
    "    df_result = pd.DataFrame()\n",
    "    df_result_accumul = pd.DataFrame()\n",
    "        \n",
    "    if tipo_agrupamiento == 'municipios':\n",
    "        df_agrupamientos = df_municipios\n",
    "        label = 'municipio'\n",
    "    elif tipo_agrupamiento == 'islas':\n",
    "        df_agrupamientos = df_islas\n",
    "        label = 'isla'\n",
    "    elif tipo_agrupamiento == 'provincias':\n",
    "        df_agrupamientos = df_provincias\n",
    "        label = 'provincia'\n",
    "    else:\n",
    "        return None\n",
    "\n",
    "    for index, row in df_agrupamientos.iterrows():\n",
    "        aux = df[df[label] == row[label]]\n",
    "        aux = aux.groupby(['fecha_caso',label]).size().reset_index()\n",
    "        aux.columns=['fecha', label, row[label]]\n",
    "        aux = aux[['fecha', row[label]]]\n",
    "        aux = aux.set_index('fecha')\n",
    "        \n",
    "        aux_acc = aux.cumsum()\n",
    "        aux = aux.transpose()\n",
    "        aux_acc = aux_acc.transpose()\n",
    "        \n",
    "        df_result = pd.concat([df_result, aux], axis = 0)\n",
    "        df_result_accumul = pd.concat([df_result_accumul, aux_acc], axis = 0)\n",
    "    \n",
    "    df_result = df_result.replace(np.nan, 0)\n",
    "    df_result = df_result.reset_index()\n",
    "    df_result_accumul = df_result_accumul.reset_index()\n",
    "    return df_result, df_result_accumul"
   ]
  },
  {
   "cell_type": "code",
   "execution_count": 69,
   "id": "53e7ecc5",
   "metadata": {},
   "outputs": [],
   "source": [
    "data_municipios = conversion(asignacion, 'municipios')"
   ]
  },
  {
   "cell_type": "code",
   "execution_count": null,
   "id": "3fd71cf9",
   "metadata": {},
   "outputs": [],
   "source": []
  },
  {
   "cell_type": "code",
   "execution_count": 70,
   "id": "25937cdc",
   "metadata": {},
   "outputs": [],
   "source": [
    "data_islas = conversion(asignacion, 'islas')"
   ]
  },
  {
   "cell_type": "code",
   "execution_count": 71,
   "id": "8ba8ee38",
   "metadata": {},
   "outputs": [],
   "source": [
    "data_provincias = conversion(asignacion, 'provincias')"
   ]
  },
  {
   "cell_type": "code",
   "execution_count": 87,
   "id": "6a1d89b2",
   "metadata": {},
   "outputs": [],
   "source": [
    "data_provincias, data_provincias_accumul = conversionV2(asignacion, 'provincias')"
   ]
  },
  {
   "cell_type": "code",
   "execution_count": 90,
   "id": "6811faac",
   "metadata": {},
   "outputs": [
    {
     "name": "stdout",
     "output_type": "stream",
     "text": [
      "fecha                   index  01/01/2021  01/01/2022  01/02/2021  01/02/2022  \\\n",
      "0      Santa Cruz de Tenerife          67         760          55         509   \n",
      "1                  Las Palmas          77        1101         189         761   \n",
      "\n",
      "fecha  01/03/2021  01/03/2022  01/04/2021  01/05/2021  01/06/2021  ...  \\\n",
      "0              75         327          90          80          84  ...   \n",
      "1              92         517         147          48          43  ...   \n",
      "\n",
      "fecha  30/11/2021  30/12/2021  31/01/2021  31/01/2022  31/03/2021  31/05/2021  \\\n",
      "0             144        2728          20         631         110          48   \n",
      "1             234        2002         136         734         135          29   \n",
      "\n",
      "fecha  31/07/2021  31/08/2021  31/10/2021  31/12/2021  \n",
      "0             339          65          25        1840  \n",
      "1             324          92          31        1593  \n",
      "\n",
      "[2 rows x 438 columns]\n"
     ]
    }
   ],
   "source": [
    "print(data_provincias)"
   ]
  },
  {
   "cell_type": "code",
   "execution_count": 91,
   "id": "8f4a3227",
   "metadata": {},
   "outputs": [
    {
     "name": "stdout",
     "output_type": "stream",
     "text": [
      "fecha                   index  01/01/2021  01/01/2022  01/02/2021  01/02/2022  \\\n",
      "0      Santa Cruz de Tenerife          67         760          55         509   \n",
      "1                  Las Palmas          77        1101         189         761   \n",
      "\n",
      "fecha  01/03/2021  01/03/2022  01/04/2021  01/05/2021  01/06/2021  ...  \\\n",
      "0              75         327          90          80          84  ...   \n",
      "1              92         517         147          48          43  ...   \n",
      "\n",
      "fecha  30/11/2021  30/12/2021  31/01/2021  31/01/2022  31/03/2021  31/05/2021  \\\n",
      "0             144        2728          20         631         110          48   \n",
      "1             234        2002         136         734         135          29   \n",
      "\n",
      "fecha  31/07/2021  31/08/2021  31/10/2021  31/12/2021  \n",
      "0             339          65          25        1840  \n",
      "1             324          92          31        1593  \n",
      "\n",
      "[2 rows x 438 columns]\n"
     ]
    }
   ],
   "source": [
    "print(a)"
   ]
  },
  {
   "cell_type": "code",
   "execution_count": 20,
   "id": "b855165c",
   "metadata": {},
   "outputs": [],
   "source": [
    "pru = pd.DataFrame()\n",
    "for index, row in df_municipios.iterrows():\n",
    "    aux = asignacion_count[asignacion_count['municipio'] == row['municipio']]\n",
    "    aux.columns=['fecha','municipio',row['municipio']]\n",
    "    aux = aux[['fecha', row['municipio']]]\n",
    "    aux[row['municipio']] = aux[row['municipio']].astype(int)\n",
    "    aux = aux.set_index('fecha')\n",
    "    aux = aux.transpose()\n",
    "\n",
    "    #print(aux.dtypes)\n",
    "    pru = pd.concat([pru, aux])"
   ]
  },
  {
   "cell_type": "code",
   "execution_count": 66,
   "id": "60a08c61",
   "metadata": {},
   "outputs": [],
   "source": [
    "pru = pd.DataFrame()\n",
    "\n",
    "aux = asignacion_count[asignacion_count['municipio'] == 'Agaete']\n",
    "aux.columns=['fecha','municipio','Agaete']\n",
    "aux = aux[['fecha', 'Agaete']]\n",
    "aux['Agaete'] = aux['Agaete'].astype(int)\n",
    "aux.set_index('fecha')\n",
    "pru = pd.concat([pru, aux])"
   ]
  },
  {
   "cell_type": "code",
   "execution_count": 21,
   "id": "e63074d0",
   "metadata": {},
   "outputs": [
    {
     "name": "stdout",
     "output_type": "stream",
     "text": [
      "fecha                    index  01/02/2022  01/03/2022  02/01/2022  \\\n",
      "0                       Agaete         6.0         1.0         2.0   \n",
      "1                      Agüimes         4.0         6.0         7.0   \n",
      "2                      Antigua         0.0         0.0         1.0   \n",
      "3                     Arrecife        44.0        35.0       213.0   \n",
      "4                     Artenara         0.0         0.0         0.0   \n",
      "..                         ...         ...         ...         ...   \n",
      "83                Vallehermoso         1.0         0.0         0.0   \n",
      "84     La Victoria de Acentejo         1.0         4.0         6.0   \n",
      "85          Vilaflor de Chasna         0.0         0.0         0.0   \n",
      "86               Villa de Mazo         1.0         1.0         4.0   \n",
      "87       El Pinar de El Hierro         0.0         0.0         0.0   \n",
      "\n",
      "fecha  02/03/2022  02/07/2021  02/10/2021  03/01/2022  03/02/2022  03/03/2022  \\\n",
      "0             1.0         1.0         1.0        12.0         2.0         3.0   \n",
      "1             6.0         0.0         0.0        28.0         9.0         0.0   \n",
      "2             0.0         0.0         0.0         0.0         0.0         0.0   \n",
      "3            64.0         9.0         5.0       256.0        33.0        67.0   \n",
      "4             0.0         0.0         0.0         0.0         1.0         1.0   \n",
      "..            ...         ...         ...         ...         ...         ...   \n",
      "83            0.0         0.0         0.0         4.0         2.0         0.0   \n",
      "84            3.0         0.0         0.0        31.0         1.0         5.0   \n",
      "85            0.0         0.0         0.0         0.0         0.0         0.0   \n",
      "86            4.0         0.0         0.0         1.0         0.0         7.0   \n",
      "87            0.0         0.0         0.0         0.0         0.0         0.0   \n",
      "\n",
      "fecha  ...  30/09/2021  30/10/2021  31/01/2021  31/05/2021  31/07/2021  \\\n",
      "0      ...         0.0         0.0         0.0         0.0         0.0   \n",
      "1      ...         0.0         0.0         0.0         0.0         0.0   \n",
      "2      ...         0.0         0.0         0.0         0.0         0.0   \n",
      "3      ...         6.0         6.0        33.0         7.0         5.0   \n",
      "4      ...         0.0         0.0         0.0         0.0         0.0   \n",
      "..     ...         ...         ...         ...         ...         ...   \n",
      "83     ...         0.0         0.0         0.0         0.0         0.0   \n",
      "84     ...         0.0         0.0         0.0         0.0         0.0   \n",
      "85     ...         0.0         0.0         0.0         0.0         0.0   \n",
      "86     ...         0.0         0.0         0.0         0.0         0.0   \n",
      "87     ...         0.0         0.0         0.0         0.0         0.0   \n",
      "\n",
      "fecha  31/08/2021  31/10/2021  07/03/2021  28/02/2021  10/10/2021  \n",
      "0             0.0         0.0         0.0         0.0         0.0  \n",
      "1             0.0         0.0         0.0         0.0         0.0  \n",
      "2             0.0         0.0         0.0         0.0         0.0  \n",
      "3            11.0         3.0         0.0         0.0         0.0  \n",
      "4             0.0         0.0         0.0         0.0         0.0  \n",
      "..            ...         ...         ...         ...         ...  \n",
      "83            0.0         0.0         0.0         0.0         0.0  \n",
      "84            0.0         0.0         0.0         0.0         0.0  \n",
      "85            0.0         0.0         0.0         0.0         0.0  \n",
      "86            0.0         0.0         0.0         1.0         0.0  \n",
      "87            0.0         0.0         0.0         0.0         0.0  \n",
      "\n",
      "[88 rows x 438 columns]\n"
     ]
    }
   ],
   "source": [
    "pru = pru.replace(np.nan, 0)\n",
    "pru = pru.reset_index()\n",
    "print(pru)"
   ]
  },
  {
   "cell_type": "code",
   "execution_count": 10,
   "id": "8cad3fe3",
   "metadata": {},
   "outputs": [],
   "source": [
    "pru.to_excel('covid_fin.xlsx', index=False, encoding=\"utf8\")"
   ]
  },
  {
   "cell_type": "code",
   "execution_count": 92,
   "id": "eea0b56d",
   "metadata": {},
   "outputs": [],
   "source": [
    "data_provincias.to_excel('data/provincias_asignacion.xlsx', index=False, encoding=\"utf8\")\n",
    "data_provincias_accumul.to_excel('data/provincias_asignacion_acc.xlsx', index=False, encoding=\"utf8\")"
   ]
  }
 ],
 "metadata": {
  "kernelspec": {
   "display_name": "Python 3 (ipykernel)",
   "language": "python",
   "name": "python3"
  },
  "language_info": {
   "codemirror_mode": {
    "name": "ipython",
    "version": 3
   },
   "file_extension": ".py",
   "mimetype": "text/x-python",
   "name": "python",
   "nbconvert_exporter": "python",
   "pygments_lexer": "ipython3",
   "version": "3.9.12"
  }
 },
 "nbformat": 4,
 "nbformat_minor": 5
}
