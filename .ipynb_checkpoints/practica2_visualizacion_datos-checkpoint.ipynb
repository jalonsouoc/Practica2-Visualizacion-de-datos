{
 "cells": [
  {
   "cell_type": "markdown",
   "id": "4174c847",
   "metadata": {},
   "source": [
    "<div style=\"width: 100%; clear: both;\">\n",
    "<div style=\"float: left; width: 50%;\">\n",
    "<img src=\"http://www.uoc.edu/portal/_resources/common/imatges/marca_UOC/UOC_Masterbrand.jpg\", align=\"left\">\n",
    "</div>\n",
    "<div style=\"float: right; width: 50%;\">\n",
    "<p style=\"margin: 0; padding-top: 22px; text-align:right;\">Visualización de Datos</p>\n",
    "<p style=\"margin: 0; text-align:right;\">Máster Universitario de Ciencia de datos </p>\n",
    "<p style=\"margin: 0; text-align:right;\">Universitat Oberta de Catalunya</p>\n",
    "    <p style=\"margin: 0; text-align:right; padding-button: 100px;\">Autor: Jorge Alonso Hernández</p>\n",
    "</div>\n",
    "</div>\n",
    "<div style=\"width:100%;\">&nbsp;</div>\n",
    "\n",
    "\n",
    "# Práctica 2: Creación de la visualización y entrega del proyecto"
   ]
  },
  {
   "cell_type": "markdown",
   "id": "19362f2c",
   "metadata": {},
   "source": [
    "Carga inicial de librerías"
   ]
  },
  {
   "cell_type": "code",
   "execution_count": 1,
   "id": "8b1da6f9",
   "metadata": {},
   "outputs": [],
   "source": [
    "#Carga de librerías\n",
    "import pandas as pd\n",
    "import numpy as np \n",
    "import itertools\n",
    "\n",
    "from datetime import datetime"
   ]
  },
  {
   "cell_type": "markdown",
   "id": "ea0752ee",
   "metadata": {},
   "source": [
    "Lectura de los datos de ficheros iniciales"
   ]
  },
  {
   "cell_type": "code",
   "execution_count": 2,
   "id": "49ce3938",
   "metadata": {},
   "outputs": [],
   "source": [
    "data_covid = pd.read_csv(\"datasets/covid_canarias.csv\")\n",
    "municipios = pd.read_csv(\"datasets/municipios.csv\")\n",
    "islas = pd.read_csv(\"datasets/islas.csv\")"
   ]
  },
  {
   "cell_type": "markdown",
   "id": "0cd4972f",
   "metadata": {},
   "source": [
    "Visualizamos una muestra de los datos"
   ]
  },
  {
   "cell_type": "code",
   "execution_count": 3,
   "id": "5ef02609",
   "metadata": {},
   "outputs": [
    {
     "data": {
      "text/html": [
       "<div>\n",
       "<style scoped>\n",
       "    .dataframe tbody tr th:only-of-type {\n",
       "        vertical-align: middle;\n",
       "    }\n",
       "\n",
       "    .dataframe tbody tr th {\n",
       "        vertical-align: top;\n",
       "    }\n",
       "\n",
       "    .dataframe thead th {\n",
       "        text-align: right;\n",
       "    }\n",
       "</style>\n",
       "<table border=\"1\" class=\"dataframe\">\n",
       "  <thead>\n",
       "    <tr style=\"text-align: right;\">\n",
       "      <th></th>\n",
       "      <th>fecha_datos</th>\n",
       "      <th>isla</th>\n",
       "      <th>municipio</th>\n",
       "      <th>sexo</th>\n",
       "      <th>grupo_edad</th>\n",
       "      <th>fecha_caso</th>\n",
       "      <th>fecha_fallecido</th>\n",
       "      <th>fecha_curado</th>\n",
       "      <th>estado_caso</th>\n",
       "      <th>identificacion_caso</th>\n",
       "      <th>fallecido</th>\n",
       "      <th>curado</th>\n",
       "      <th>continua_enfermo</th>\n",
       "      <th>provincia</th>\n",
       "    </tr>\n",
       "  </thead>\n",
       "  <tbody>\n",
       "    <tr>\n",
       "      <th>0</th>\n",
       "      <td>14/03/2022</td>\n",
       "      <td>TENERIFE</td>\n",
       "      <td>Adeje</td>\n",
       "      <td>Hombre</td>\n",
       "      <td>30 - 39</td>\n",
       "      <td>02/01/2022</td>\n",
       "      <td>NaN</td>\n",
       "      <td>13/01/2022</td>\n",
       "      <td>Cerrado por alta médica</td>\n",
       "      <td>Asignación</td>\n",
       "      <td>No</td>\n",
       "      <td>Sí</td>\n",
       "      <td>No</td>\n",
       "      <td>Santa Cruz de Tenerife</td>\n",
       "    </tr>\n",
       "    <tr>\n",
       "      <th>1</th>\n",
       "      <td>14/03/2022</td>\n",
       "      <td>TENERIFE</td>\n",
       "      <td>Adeje</td>\n",
       "      <td>Hombre</td>\n",
       "      <td>30 - 39</td>\n",
       "      <td>08/01/2022</td>\n",
       "      <td>NaN</td>\n",
       "      <td>19/01/2022</td>\n",
       "      <td>Cerrado por alta médica</td>\n",
       "      <td>Asignación</td>\n",
       "      <td>No</td>\n",
       "      <td>Sí</td>\n",
       "      <td>No</td>\n",
       "      <td>Santa Cruz de Tenerife</td>\n",
       "    </tr>\n",
       "    <tr>\n",
       "      <th>2</th>\n",
       "      <td>14/03/2022</td>\n",
       "      <td>TENERIFE</td>\n",
       "      <td>Adeje</td>\n",
       "      <td>Hombre</td>\n",
       "      <td>40 - 49</td>\n",
       "      <td>06/01/2022</td>\n",
       "      <td>NaN</td>\n",
       "      <td>17/01/2022</td>\n",
       "      <td>Cerrado por alta médica</td>\n",
       "      <td>Asignación</td>\n",
       "      <td>No</td>\n",
       "      <td>Sí</td>\n",
       "      <td>No</td>\n",
       "      <td>Santa Cruz de Tenerife</td>\n",
       "    </tr>\n",
       "    <tr>\n",
       "      <th>3</th>\n",
       "      <td>14/03/2022</td>\n",
       "      <td>TENERIFE</td>\n",
       "      <td>Adeje</td>\n",
       "      <td>Hombre</td>\n",
       "      <td>50 - 59</td>\n",
       "      <td>02/01/2022</td>\n",
       "      <td>NaN</td>\n",
       "      <td>13/01/2022</td>\n",
       "      <td>Cerrado por alta médica</td>\n",
       "      <td>Asignación</td>\n",
       "      <td>No</td>\n",
       "      <td>Sí</td>\n",
       "      <td>No</td>\n",
       "      <td>Santa Cruz de Tenerife</td>\n",
       "    </tr>\n",
       "    <tr>\n",
       "      <th>4</th>\n",
       "      <td>14/03/2022</td>\n",
       "      <td>TENERIFE</td>\n",
       "      <td>Adeje</td>\n",
       "      <td>Hombre</td>\n",
       "      <td>40 - 49</td>\n",
       "      <td>08/01/2022</td>\n",
       "      <td>NaN</td>\n",
       "      <td>19/01/2022</td>\n",
       "      <td>Cerrado por alta médica</td>\n",
       "      <td>Asignación</td>\n",
       "      <td>No</td>\n",
       "      <td>Sí</td>\n",
       "      <td>No</td>\n",
       "      <td>Santa Cruz de Tenerife</td>\n",
       "    </tr>\n",
       "  </tbody>\n",
       "</table>\n",
       "</div>"
      ],
      "text/plain": [
       "  fecha_datos      isla municipio    sexo grupo_edad  fecha_caso  \\\n",
       "0  14/03/2022  TENERIFE     Adeje  Hombre    30 - 39  02/01/2022   \n",
       "1  14/03/2022  TENERIFE     Adeje  Hombre    30 - 39  08/01/2022   \n",
       "2  14/03/2022  TENERIFE     Adeje  Hombre    40 - 49  06/01/2022   \n",
       "3  14/03/2022  TENERIFE     Adeje  Hombre    50 - 59  02/01/2022   \n",
       "4  14/03/2022  TENERIFE     Adeje  Hombre    40 - 49  08/01/2022   \n",
       "\n",
       "  fecha_fallecido fecha_curado              estado_caso identificacion_caso  \\\n",
       "0             NaN   13/01/2022  Cerrado por alta médica          Asignación   \n",
       "1             NaN   19/01/2022  Cerrado por alta médica          Asignación   \n",
       "2             NaN   17/01/2022  Cerrado por alta médica          Asignación   \n",
       "3             NaN   13/01/2022  Cerrado por alta médica          Asignación   \n",
       "4             NaN   19/01/2022  Cerrado por alta médica          Asignación   \n",
       "\n",
       "  fallecido curado continua_enfermo               provincia  \n",
       "0        No     Sí               No  Santa Cruz de Tenerife  \n",
       "1        No     Sí               No  Santa Cruz de Tenerife  \n",
       "2        No     Sí               No  Santa Cruz de Tenerife  \n",
       "3        No     Sí               No  Santa Cruz de Tenerife  \n",
       "4        No     Sí               No  Santa Cruz de Tenerife  "
      ]
     },
     "execution_count": 3,
     "metadata": {},
     "output_type": "execute_result"
    }
   ],
   "source": [
    "data_covid.head()"
   ]
  },
  {
   "cell_type": "markdown",
   "id": "ce152546",
   "metadata": {},
   "source": [
    "Realizamos una transformación en los datos de forma que convertiremos los nombres de las islas en mayúsculas al formato real con cada inicial en mayúsculas sólo."
   ]
  },
  {
   "cell_type": "code",
   "execution_count": 4,
   "id": "226e8833",
   "metadata": {},
   "outputs": [],
   "source": [
    "islas['isla'] = islas['isla'].str.title()\n",
    "data_covid['isla'] = data_covid['isla'].str.title()"
   ]
  },
  {
   "cell_type": "markdown",
   "id": "c10dcd01",
   "metadata": {},
   "source": [
    "Realizaremos una transformación también en los datos de los municipios ya que podemos ver que existe una incoherencia entre los ficheros con los datos de covid y el de los municipios de forma que adaptaremos los nombres de los municipios a los que existen en el fichero de municipios."
   ]
  },
  {
   "cell_type": "code",
   "execution_count": 5,
   "id": "ac450bbe",
   "metadata": {},
   "outputs": [],
   "source": [
    "#Obtenenmos los nombres de los municipios en el documento de casos de covid\n",
    "municipios_ori = pd.DataFrame(pd.unique(data_covid['municipio']))\n",
    "municipios_ori.columns = ['municipio']\n",
    "\n",
    "#Comprobamos los nombres de los municipios\n",
    "df_destino = municipios.loc[~municipios['municipio'].isin(pd.unique(data_covid['municipio']))]\n",
    "df_destino = pd.DataFrame(df_destino['municipio'])\n",
    "df_origen = municipios_ori.loc[~municipios_ori['municipio'].isin(municipios['municipio'])]\n",
    "\n",
    "df_origen = df_origen.sort_values(by='municipio')\n",
    "df_destino = df_destino.sort_values(by='municipio')\n",
    "\n",
    "df_origen = df_origen.reset_index()\n",
    "df_destino = df_destino.reset_index()"
   ]
  },
  {
   "cell_type": "code",
   "execution_count": 6,
   "id": "88676307",
   "metadata": {},
   "outputs": [
    {
     "name": "stdout",
     "output_type": "stream",
     "text": [
      "   index              municipio\n",
      "0     45               El Pinar\n",
      "1     81           Fuencaliente\n",
      "2     70      Icod de Los Vinos\n",
      "3      5              La Laguna\n",
      "4     24      Puerto de La Cruz\n",
      "5     87        SIN ESPECIFICAR\n",
      "6     32  San juan de La Rambla\n",
      "7     29    Santa María de Guía\n",
      "8     67            Valsequillo\n",
      "9     69               Vilaflor\n"
     ]
    }
   ],
   "source": [
    "print(df_origen)"
   ]
  },
  {
   "cell_type": "code",
   "execution_count": 7,
   "id": "569e6274",
   "metadata": {},
   "outputs": [
    {
     "name": "stdout",
     "output_type": "stream",
     "text": [
      "   index                            municipio\n",
      "0     87                El Pinar de El Hierro\n",
      "1     47             Fuencaliente de La Palma\n",
      "2     55                    Icod de los Vinos\n",
      "3     61                    Puerto de la Cruz\n",
      "4     56           San Cristóbal de La Laguna\n",
      "5     67                San Juan de la Rambla\n",
      "6     22  Santa María de Guía de Gran Canaria\n",
      "7     30          Valsequillo de Gran Canaria\n",
      "8     85                   Vilaflor de Chasna\n"
     ]
    }
   ],
   "source": [
    "print(df_destino)"
   ]
  },
  {
   "cell_type": "code",
   "execution_count": 8,
   "id": "c12a03dc",
   "metadata": {},
   "outputs": [],
   "source": [
    "#Eliminamos el valor SIN ESPECIFICAR pues es correcto que estos valores no se visualicen en el mapa \n",
    "df_origen = df_origen.drop(5).reset_index()"
   ]
  },
  {
   "cell_type": "code",
   "execution_count": 9,
   "id": "3c6e888d",
   "metadata": {},
   "outputs": [
    {
     "name": "stdout",
     "output_type": "stream",
     "text": [
      "   level_0  index              municipio\n",
      "0        0     45               El Pinar\n",
      "1        1     81           Fuencaliente\n",
      "2        2     70      Icod de Los Vinos\n",
      "3        3      5              La Laguna\n",
      "4        4     24      Puerto de La Cruz\n",
      "5        6     32  San juan de La Rambla\n",
      "6        7     29    Santa María de Guía\n",
      "7        8     67            Valsequillo\n",
      "8        9     69               Vilaflor\n"
     ]
    }
   ],
   "source": [
    "print(df_origen)"
   ]
  },
  {
   "cell_type": "code",
   "execution_count": 10,
   "id": "864d1d2c",
   "metadata": {},
   "outputs": [],
   "source": [
    "for i in range(0,len(df_origen)):\n",
    "    data_covid = data_covid.replace(df_origen['municipio'][i], df_destino['municipio'][i])\n"
   ]
  },
  {
   "cell_type": "markdown",
   "id": "d67d0cd1",
   "metadata": {},
   "source": [
    "Una vez realizadas las transformaciones de los datos inicializaremos la obtención de los conjuntos de datos que nos van a permitir visualizar los resultados. Inicialmente realizamos una separación entre los casos registrados en función del lugar en el que se ha realizado la asignación del caso y los casos en función del lugar de residencia del paciente."
   ]
  },
  {
   "cell_type": "code",
   "execution_count": 11,
   "id": "ba5d30f4",
   "metadata": {},
   "outputs": [],
   "source": [
    "asignacion = data_covid[data_covid['identificacion_caso'] == 'Asignación']\n",
    "residencia = data_covid[data_covid['identificacion_caso'] == 'Residencia']"
   ]
  },
  {
   "cell_type": "code",
   "execution_count": 12,
   "id": "d2bb67a0",
   "metadata": {},
   "outputs": [
    {
     "data": {
      "text/html": [
       "<div>\n",
       "<style scoped>\n",
       "    .dataframe tbody tr th:only-of-type {\n",
       "        vertical-align: middle;\n",
       "    }\n",
       "\n",
       "    .dataframe tbody tr th {\n",
       "        vertical-align: top;\n",
       "    }\n",
       "\n",
       "    .dataframe thead th {\n",
       "        text-align: right;\n",
       "    }\n",
       "</style>\n",
       "<table border=\"1\" class=\"dataframe\">\n",
       "  <thead>\n",
       "    <tr style=\"text-align: right;\">\n",
       "      <th></th>\n",
       "      <th>fecha_datos</th>\n",
       "      <th>isla</th>\n",
       "      <th>municipio</th>\n",
       "      <th>sexo</th>\n",
       "      <th>grupo_edad</th>\n",
       "      <th>fecha_caso</th>\n",
       "      <th>fecha_fallecido</th>\n",
       "      <th>fecha_curado</th>\n",
       "      <th>estado_caso</th>\n",
       "      <th>identificacion_caso</th>\n",
       "      <th>fallecido</th>\n",
       "      <th>curado</th>\n",
       "      <th>continua_enfermo</th>\n",
       "      <th>provincia</th>\n",
       "    </tr>\n",
       "  </thead>\n",
       "  <tbody>\n",
       "    <tr>\n",
       "      <th>0</th>\n",
       "      <td>14/03/2022</td>\n",
       "      <td>Tenerife</td>\n",
       "      <td>Adeje</td>\n",
       "      <td>Hombre</td>\n",
       "      <td>30 - 39</td>\n",
       "      <td>02/01/2022</td>\n",
       "      <td>NaN</td>\n",
       "      <td>13/01/2022</td>\n",
       "      <td>Cerrado por alta médica</td>\n",
       "      <td>Asignación</td>\n",
       "      <td>No</td>\n",
       "      <td>Sí</td>\n",
       "      <td>No</td>\n",
       "      <td>Santa Cruz de Tenerife</td>\n",
       "    </tr>\n",
       "    <tr>\n",
       "      <th>1</th>\n",
       "      <td>14/03/2022</td>\n",
       "      <td>Tenerife</td>\n",
       "      <td>Adeje</td>\n",
       "      <td>Hombre</td>\n",
       "      <td>30 - 39</td>\n",
       "      <td>08/01/2022</td>\n",
       "      <td>NaN</td>\n",
       "      <td>19/01/2022</td>\n",
       "      <td>Cerrado por alta médica</td>\n",
       "      <td>Asignación</td>\n",
       "      <td>No</td>\n",
       "      <td>Sí</td>\n",
       "      <td>No</td>\n",
       "      <td>Santa Cruz de Tenerife</td>\n",
       "    </tr>\n",
       "    <tr>\n",
       "      <th>2</th>\n",
       "      <td>14/03/2022</td>\n",
       "      <td>Tenerife</td>\n",
       "      <td>Adeje</td>\n",
       "      <td>Hombre</td>\n",
       "      <td>40 - 49</td>\n",
       "      <td>06/01/2022</td>\n",
       "      <td>NaN</td>\n",
       "      <td>17/01/2022</td>\n",
       "      <td>Cerrado por alta médica</td>\n",
       "      <td>Asignación</td>\n",
       "      <td>No</td>\n",
       "      <td>Sí</td>\n",
       "      <td>No</td>\n",
       "      <td>Santa Cruz de Tenerife</td>\n",
       "    </tr>\n",
       "    <tr>\n",
       "      <th>3</th>\n",
       "      <td>14/03/2022</td>\n",
       "      <td>Tenerife</td>\n",
       "      <td>Adeje</td>\n",
       "      <td>Hombre</td>\n",
       "      <td>50 - 59</td>\n",
       "      <td>02/01/2022</td>\n",
       "      <td>NaN</td>\n",
       "      <td>13/01/2022</td>\n",
       "      <td>Cerrado por alta médica</td>\n",
       "      <td>Asignación</td>\n",
       "      <td>No</td>\n",
       "      <td>Sí</td>\n",
       "      <td>No</td>\n",
       "      <td>Santa Cruz de Tenerife</td>\n",
       "    </tr>\n",
       "    <tr>\n",
       "      <th>4</th>\n",
       "      <td>14/03/2022</td>\n",
       "      <td>Tenerife</td>\n",
       "      <td>Adeje</td>\n",
       "      <td>Hombre</td>\n",
       "      <td>40 - 49</td>\n",
       "      <td>08/01/2022</td>\n",
       "      <td>NaN</td>\n",
       "      <td>19/01/2022</td>\n",
       "      <td>Cerrado por alta médica</td>\n",
       "      <td>Asignación</td>\n",
       "      <td>No</td>\n",
       "      <td>Sí</td>\n",
       "      <td>No</td>\n",
       "      <td>Santa Cruz de Tenerife</td>\n",
       "    </tr>\n",
       "  </tbody>\n",
       "</table>\n",
       "</div>"
      ],
      "text/plain": [
       "  fecha_datos      isla municipio    sexo grupo_edad  fecha_caso  \\\n",
       "0  14/03/2022  Tenerife     Adeje  Hombre    30 - 39  02/01/2022   \n",
       "1  14/03/2022  Tenerife     Adeje  Hombre    30 - 39  08/01/2022   \n",
       "2  14/03/2022  Tenerife     Adeje  Hombre    40 - 49  06/01/2022   \n",
       "3  14/03/2022  Tenerife     Adeje  Hombre    50 - 59  02/01/2022   \n",
       "4  14/03/2022  Tenerife     Adeje  Hombre    40 - 49  08/01/2022   \n",
       "\n",
       "  fecha_fallecido fecha_curado              estado_caso identificacion_caso  \\\n",
       "0             NaN   13/01/2022  Cerrado por alta médica          Asignación   \n",
       "1             NaN   19/01/2022  Cerrado por alta médica          Asignación   \n",
       "2             NaN   17/01/2022  Cerrado por alta médica          Asignación   \n",
       "3             NaN   13/01/2022  Cerrado por alta médica          Asignación   \n",
       "4             NaN   19/01/2022  Cerrado por alta médica          Asignación   \n",
       "\n",
       "  fallecido curado continua_enfermo               provincia  \n",
       "0        No     Sí               No  Santa Cruz de Tenerife  \n",
       "1        No     Sí               No  Santa Cruz de Tenerife  \n",
       "2        No     Sí               No  Santa Cruz de Tenerife  \n",
       "3        No     Sí               No  Santa Cruz de Tenerife  \n",
       "4        No     Sí               No  Santa Cruz de Tenerife  "
      ]
     },
     "execution_count": 12,
     "metadata": {},
     "output_type": "execute_result"
    }
   ],
   "source": [
    "asignacion.head()"
   ]
  },
  {
   "cell_type": "code",
   "execution_count": 13,
   "id": "4901eaa9",
   "metadata": {},
   "outputs": [
    {
     "data": {
      "text/html": [
       "<div>\n",
       "<style scoped>\n",
       "    .dataframe tbody tr th:only-of-type {\n",
       "        vertical-align: middle;\n",
       "    }\n",
       "\n",
       "    .dataframe tbody tr th {\n",
       "        vertical-align: top;\n",
       "    }\n",
       "\n",
       "    .dataframe thead th {\n",
       "        text-align: right;\n",
       "    }\n",
       "</style>\n",
       "<table border=\"1\" class=\"dataframe\">\n",
       "  <thead>\n",
       "    <tr style=\"text-align: right;\">\n",
       "      <th></th>\n",
       "      <th>fecha_datos</th>\n",
       "      <th>isla</th>\n",
       "      <th>municipio</th>\n",
       "      <th>sexo</th>\n",
       "      <th>grupo_edad</th>\n",
       "      <th>fecha_caso</th>\n",
       "      <th>fecha_fallecido</th>\n",
       "      <th>fecha_curado</th>\n",
       "      <th>estado_caso</th>\n",
       "      <th>identificacion_caso</th>\n",
       "      <th>fallecido</th>\n",
       "      <th>curado</th>\n",
       "      <th>continua_enfermo</th>\n",
       "      <th>provincia</th>\n",
       "    </tr>\n",
       "  </thead>\n",
       "  <tbody>\n",
       "    <tr>\n",
       "      <th>282989</th>\n",
       "      <td>14/03/2022</td>\n",
       "      <td>Tenerife</td>\n",
       "      <td>Adeje</td>\n",
       "      <td>Mujer</td>\n",
       "      <td>20 - 29</td>\n",
       "      <td>02/01/2022</td>\n",
       "      <td>NaN</td>\n",
       "      <td>13/01/2022</td>\n",
       "      <td>Cerrado por alta médica</td>\n",
       "      <td>Residencia</td>\n",
       "      <td>No</td>\n",
       "      <td>Sí</td>\n",
       "      <td>No</td>\n",
       "      <td>Santa Cruz de Tenerife</td>\n",
       "    </tr>\n",
       "    <tr>\n",
       "      <th>282990</th>\n",
       "      <td>14/03/2022</td>\n",
       "      <td>Tenerife</td>\n",
       "      <td>SIN ESPECIFICAR</td>\n",
       "      <td>Mujer</td>\n",
       "      <td>20 - 29</td>\n",
       "      <td>02/01/2022</td>\n",
       "      <td>NaN</td>\n",
       "      <td>13/01/2022</td>\n",
       "      <td>Cerrado por alta médica</td>\n",
       "      <td>Residencia</td>\n",
       "      <td>No</td>\n",
       "      <td>Sí</td>\n",
       "      <td>No</td>\n",
       "      <td>Santa Cruz de Tenerife</td>\n",
       "    </tr>\n",
       "    <tr>\n",
       "      <th>282991</th>\n",
       "      <td>14/03/2022</td>\n",
       "      <td>Tenerife</td>\n",
       "      <td>Adeje</td>\n",
       "      <td>Mujer</td>\n",
       "      <td>10 - 19</td>\n",
       "      <td>08/01/2022</td>\n",
       "      <td>NaN</td>\n",
       "      <td>19/01/2022</td>\n",
       "      <td>Cerrado por alta médica</td>\n",
       "      <td>Residencia</td>\n",
       "      <td>No</td>\n",
       "      <td>Sí</td>\n",
       "      <td>No</td>\n",
       "      <td>Santa Cruz de Tenerife</td>\n",
       "    </tr>\n",
       "    <tr>\n",
       "      <th>282992</th>\n",
       "      <td>14/03/2022</td>\n",
       "      <td>Tenerife</td>\n",
       "      <td>SIN ESPECIFICAR</td>\n",
       "      <td>Hombre</td>\n",
       "      <td>30 - 39</td>\n",
       "      <td>02/01/2022</td>\n",
       "      <td>NaN</td>\n",
       "      <td>13/01/2022</td>\n",
       "      <td>Cerrado por alta médica</td>\n",
       "      <td>Residencia</td>\n",
       "      <td>No</td>\n",
       "      <td>Sí</td>\n",
       "      <td>No</td>\n",
       "      <td>Santa Cruz de Tenerife</td>\n",
       "    </tr>\n",
       "    <tr>\n",
       "      <th>282993</th>\n",
       "      <td>14/03/2022</td>\n",
       "      <td>Tenerife</td>\n",
       "      <td>Adeje</td>\n",
       "      <td>Hombre</td>\n",
       "      <td>30 - 39</td>\n",
       "      <td>08/01/2022</td>\n",
       "      <td>NaN</td>\n",
       "      <td>19/01/2022</td>\n",
       "      <td>Cerrado por alta médica</td>\n",
       "      <td>Residencia</td>\n",
       "      <td>No</td>\n",
       "      <td>Sí</td>\n",
       "      <td>No</td>\n",
       "      <td>Santa Cruz de Tenerife</td>\n",
       "    </tr>\n",
       "  </tbody>\n",
       "</table>\n",
       "</div>"
      ],
      "text/plain": [
       "       fecha_datos      isla        municipio    sexo grupo_edad  fecha_caso  \\\n",
       "282989  14/03/2022  Tenerife            Adeje   Mujer    20 - 29  02/01/2022   \n",
       "282990  14/03/2022  Tenerife  SIN ESPECIFICAR   Mujer    20 - 29  02/01/2022   \n",
       "282991  14/03/2022  Tenerife            Adeje   Mujer    10 - 19  08/01/2022   \n",
       "282992  14/03/2022  Tenerife  SIN ESPECIFICAR  Hombre    30 - 39  02/01/2022   \n",
       "282993  14/03/2022  Tenerife            Adeje  Hombre    30 - 39  08/01/2022   \n",
       "\n",
       "       fecha_fallecido fecha_curado              estado_caso  \\\n",
       "282989             NaN   13/01/2022  Cerrado por alta médica   \n",
       "282990             NaN   13/01/2022  Cerrado por alta médica   \n",
       "282991             NaN   19/01/2022  Cerrado por alta médica   \n",
       "282992             NaN   13/01/2022  Cerrado por alta médica   \n",
       "282993             NaN   19/01/2022  Cerrado por alta médica   \n",
       "\n",
       "       identificacion_caso fallecido curado continua_enfermo  \\\n",
       "282989          Residencia        No     Sí               No   \n",
       "282990          Residencia        No     Sí               No   \n",
       "282991          Residencia        No     Sí               No   \n",
       "282992          Residencia        No     Sí               No   \n",
       "282993          Residencia        No     Sí               No   \n",
       "\n",
       "                     provincia  \n",
       "282989  Santa Cruz de Tenerife  \n",
       "282990  Santa Cruz de Tenerife  \n",
       "282991  Santa Cruz de Tenerife  \n",
       "282992  Santa Cruz de Tenerife  \n",
       "282993  Santa Cruz de Tenerife  "
      ]
     },
     "execution_count": 13,
     "metadata": {},
     "output_type": "execute_result"
    }
   ],
   "source": [
    "residencia.head()"
   ]
  },
  {
   "cell_type": "markdown",
   "id": "653d06af",
   "metadata": {},
   "source": [
    "Obtenemos los datos de los municipios, islas y provincias por separado de forma que nos ayuden a obtener los datos en función de cada una de estas categorías."
   ]
  },
  {
   "cell_type": "code",
   "execution_count": 14,
   "id": "a0aac290",
   "metadata": {},
   "outputs": [],
   "source": [
    "municipios = municipios.merge(islas[['geocode', 'isla', 'provincia', 'poblacion']],  left_on='geocode_isla', right_on='geocode')"
   ]
  },
  {
   "cell_type": "code",
   "execution_count": 15,
   "id": "0c802558",
   "metadata": {},
   "outputs": [],
   "source": [
    "df_municipios = pd.DataFrame(municipios['municipio'])\n",
    "df_islas = pd.DataFrame(islas['isla'])\n",
    "df_provincias = pd.DataFrame(pd.unique(islas['provincia']))\n",
    "df_provincias.columns = ['provincia']"
   ]
  },
  {
   "cell_type": "code",
   "execution_count": 16,
   "id": "167b3a14",
   "metadata": {},
   "outputs": [
    {
     "data": {
      "text/html": [
       "<div>\n",
       "<style scoped>\n",
       "    .dataframe tbody tr th:only-of-type {\n",
       "        vertical-align: middle;\n",
       "    }\n",
       "\n",
       "    .dataframe tbody tr th {\n",
       "        vertical-align: top;\n",
       "    }\n",
       "\n",
       "    .dataframe thead th {\n",
       "        text-align: right;\n",
       "    }\n",
       "</style>\n",
       "<table border=\"1\" class=\"dataframe\">\n",
       "  <thead>\n",
       "    <tr style=\"text-align: right;\">\n",
       "      <th></th>\n",
       "      <th>municipio</th>\n",
       "    </tr>\n",
       "  </thead>\n",
       "  <tbody>\n",
       "    <tr>\n",
       "      <th>0</th>\n",
       "      <td>Agaete</td>\n",
       "    </tr>\n",
       "    <tr>\n",
       "      <th>1</th>\n",
       "      <td>Agüimes</td>\n",
       "    </tr>\n",
       "    <tr>\n",
       "      <th>2</th>\n",
       "      <td>Artenara</td>\n",
       "    </tr>\n",
       "    <tr>\n",
       "      <th>3</th>\n",
       "      <td>Arucas</td>\n",
       "    </tr>\n",
       "    <tr>\n",
       "      <th>4</th>\n",
       "      <td>Firgas</td>\n",
       "    </tr>\n",
       "    <tr>\n",
       "      <th>...</th>\n",
       "      <td>...</td>\n",
       "    </tr>\n",
       "    <tr>\n",
       "      <th>83</th>\n",
       "      <td>Tijarafe</td>\n",
       "    </tr>\n",
       "    <tr>\n",
       "      <th>84</th>\n",
       "      <td>Villa de Mazo</td>\n",
       "    </tr>\n",
       "    <tr>\n",
       "      <th>85</th>\n",
       "      <td>Frontera</td>\n",
       "    </tr>\n",
       "    <tr>\n",
       "      <th>86</th>\n",
       "      <td>Valverde</td>\n",
       "    </tr>\n",
       "    <tr>\n",
       "      <th>87</th>\n",
       "      <td>El Pinar de El Hierro</td>\n",
       "    </tr>\n",
       "  </tbody>\n",
       "</table>\n",
       "<p>88 rows × 1 columns</p>\n",
       "</div>"
      ],
      "text/plain": [
       "                municipio\n",
       "0                  Agaete\n",
       "1                 Agüimes\n",
       "2                Artenara\n",
       "3                  Arucas\n",
       "4                  Firgas\n",
       "..                    ...\n",
       "83               Tijarafe\n",
       "84          Villa de Mazo\n",
       "85               Frontera\n",
       "86               Valverde\n",
       "87  El Pinar de El Hierro\n",
       "\n",
       "[88 rows x 1 columns]"
      ]
     },
     "execution_count": 16,
     "metadata": {},
     "output_type": "execute_result"
    }
   ],
   "source": [
    "df_municipios"
   ]
  },
  {
   "cell_type": "code",
   "execution_count": 17,
   "id": "2e75be1f",
   "metadata": {},
   "outputs": [
    {
     "data": {
      "text/html": [
       "<div>\n",
       "<style scoped>\n",
       "    .dataframe tbody tr th:only-of-type {\n",
       "        vertical-align: middle;\n",
       "    }\n",
       "\n",
       "    .dataframe tbody tr th {\n",
       "        vertical-align: top;\n",
       "    }\n",
       "\n",
       "    .dataframe thead th {\n",
       "        text-align: right;\n",
       "    }\n",
       "</style>\n",
       "<table border=\"1\" class=\"dataframe\">\n",
       "  <thead>\n",
       "    <tr style=\"text-align: right;\">\n",
       "      <th></th>\n",
       "      <th>isla</th>\n",
       "    </tr>\n",
       "  </thead>\n",
       "  <tbody>\n",
       "    <tr>\n",
       "      <th>0</th>\n",
       "      <td>El Hierro</td>\n",
       "    </tr>\n",
       "    <tr>\n",
       "      <th>1</th>\n",
       "      <td>Fuerteventura</td>\n",
       "    </tr>\n",
       "    <tr>\n",
       "      <th>2</th>\n",
       "      <td>Gran Canaria</td>\n",
       "    </tr>\n",
       "    <tr>\n",
       "      <th>3</th>\n",
       "      <td>La Gomera</td>\n",
       "    </tr>\n",
       "    <tr>\n",
       "      <th>4</th>\n",
       "      <td>La Palma</td>\n",
       "    </tr>\n",
       "    <tr>\n",
       "      <th>5</th>\n",
       "      <td>Lanzarote</td>\n",
       "    </tr>\n",
       "    <tr>\n",
       "      <th>6</th>\n",
       "      <td>Tenerife</td>\n",
       "    </tr>\n",
       "  </tbody>\n",
       "</table>\n",
       "</div>"
      ],
      "text/plain": [
       "            isla\n",
       "0      El Hierro\n",
       "1  Fuerteventura\n",
       "2   Gran Canaria\n",
       "3      La Gomera\n",
       "4       La Palma\n",
       "5      Lanzarote\n",
       "6       Tenerife"
      ]
     },
     "execution_count": 17,
     "metadata": {},
     "output_type": "execute_result"
    }
   ],
   "source": [
    "df_islas"
   ]
  },
  {
   "cell_type": "code",
   "execution_count": 18,
   "id": "1a258a87",
   "metadata": {},
   "outputs": [
    {
     "data": {
      "text/html": [
       "<div>\n",
       "<style scoped>\n",
       "    .dataframe tbody tr th:only-of-type {\n",
       "        vertical-align: middle;\n",
       "    }\n",
       "\n",
       "    .dataframe tbody tr th {\n",
       "        vertical-align: top;\n",
       "    }\n",
       "\n",
       "    .dataframe thead th {\n",
       "        text-align: right;\n",
       "    }\n",
       "</style>\n",
       "<table border=\"1\" class=\"dataframe\">\n",
       "  <thead>\n",
       "    <tr style=\"text-align: right;\">\n",
       "      <th></th>\n",
       "      <th>provincia</th>\n",
       "    </tr>\n",
       "  </thead>\n",
       "  <tbody>\n",
       "    <tr>\n",
       "      <th>0</th>\n",
       "      <td>Santa Cruz de Tenerife</td>\n",
       "    </tr>\n",
       "    <tr>\n",
       "      <th>1</th>\n",
       "      <td>Las Palmas</td>\n",
       "    </tr>\n",
       "  </tbody>\n",
       "</table>\n",
       "</div>"
      ],
      "text/plain": [
       "                provincia\n",
       "0  Santa Cruz de Tenerife\n",
       "1              Las Palmas"
      ]
     },
     "execution_count": 18,
     "metadata": {},
     "output_type": "execute_result"
    }
   ],
   "source": [
    "df_provincias"
   ]
  },
  {
   "cell_type": "markdown",
   "id": "e81b6c4f",
   "metadata": {},
   "source": [
    "También obtenemos los datos referentes a las capitales de las islas y de las provincias para la visualización de estas en el mapa."
   ]
  },
  {
   "cell_type": "code",
   "execution_count": 19,
   "id": "048bdaa0",
   "metadata": {},
   "outputs": [],
   "source": [
    "capitales = ['Santa Cruz de Tenerife', 'Santa Cruz de La Palma', 'San Sebastián de La Gomera', 'Valverde', 'Las Palmas de Gran Canaria', 'Puerto del Rosario', 'Arrecife']\n",
    "capitales_provincia = ['Santa Cruz de Tenerife', 'Las Palmas de Gran Canaria']\n",
    "\n",
    "df_capitales = municipios.loc[municipios['municipio'].isin(capitales)]\n",
    "df_capitales = df_capitales.reset_index()\n",
    "\n",
    "df_capitales_provincia = municipios.loc[municipios['municipio'].isin(capitales_provincia)]\n",
    "df_capitales_provincia = df_capitales_provincia.reset_index()"
   ]
  },
  {
   "cell_type": "code",
   "execution_count": 20,
   "id": "78f0fc8e",
   "metadata": {},
   "outputs": [],
   "source": [
    "df_capitales = df_capitales[['municipio','isla', 'provincia','longitud_capital','latitud_capital', 'poblacion']]\n",
    "df_capitales_provincia = df_capitales_provincia[['municipio','isla', 'provincia','longitud_capital','latitud_capital']]"
   ]
  },
  {
   "cell_type": "code",
   "execution_count": 21,
   "id": "566a6b29",
   "metadata": {},
   "outputs": [
    {
     "data": {
      "text/html": [
       "<div>\n",
       "<style scoped>\n",
       "    .dataframe tbody tr th:only-of-type {\n",
       "        vertical-align: middle;\n",
       "    }\n",
       "\n",
       "    .dataframe tbody tr th {\n",
       "        vertical-align: top;\n",
       "    }\n",
       "\n",
       "    .dataframe thead th {\n",
       "        text-align: right;\n",
       "    }\n",
       "</style>\n",
       "<table border=\"1\" class=\"dataframe\">\n",
       "  <thead>\n",
       "    <tr style=\"text-align: right;\">\n",
       "      <th></th>\n",
       "      <th>municipio</th>\n",
       "      <th>isla</th>\n",
       "      <th>provincia</th>\n",
       "      <th>longitud_capital</th>\n",
       "      <th>latitud_capital</th>\n",
       "      <th>poblacion</th>\n",
       "    </tr>\n",
       "  </thead>\n",
       "  <tbody>\n",
       "    <tr>\n",
       "      <th>0</th>\n",
       "      <td>Las Palmas de Gran Canaria</td>\n",
       "      <td>Gran Canaria</td>\n",
       "      <td>Las Palmas</td>\n",
       "      <td>-15.428533</td>\n",
       "      <td>28.125058</td>\n",
       "      <td>855521</td>\n",
       "    </tr>\n",
       "    <tr>\n",
       "      <th>1</th>\n",
       "      <td>Puerto del Rosario</td>\n",
       "      <td>Fuerteventura</td>\n",
       "      <td>Las Palmas</td>\n",
       "      <td>-13.859694</td>\n",
       "      <td>28.498774</td>\n",
       "      <td>119732</td>\n",
       "    </tr>\n",
       "    <tr>\n",
       "      <th>2</th>\n",
       "      <td>Arrecife</td>\n",
       "      <td>Lanzarote</td>\n",
       "      <td>Las Palmas</td>\n",
       "      <td>-13.546719</td>\n",
       "      <td>28.959235</td>\n",
       "      <td>155812</td>\n",
       "    </tr>\n",
       "    <tr>\n",
       "      <th>3</th>\n",
       "      <td>Santa Cruz de Tenerife</td>\n",
       "      <td>Tenerife</td>\n",
       "      <td>Santa Cruz de Tenerife</td>\n",
       "      <td>-16.254634</td>\n",
       "      <td>28.469805</td>\n",
       "      <td>928604</td>\n",
       "    </tr>\n",
       "    <tr>\n",
       "      <th>4</th>\n",
       "      <td>San Sebastián de La Gomera</td>\n",
       "      <td>La Gomera</td>\n",
       "      <td>Santa Cruz de Tenerife</td>\n",
       "      <td>-17.109706</td>\n",
       "      <td>28.090378</td>\n",
       "      <td>21678</td>\n",
       "    </tr>\n",
       "    <tr>\n",
       "      <th>5</th>\n",
       "      <td>Santa Cruz de La Palma</td>\n",
       "      <td>La Palma</td>\n",
       "      <td>Santa Cruz de Tenerife</td>\n",
       "      <td>-17.764744</td>\n",
       "      <td>28.683243</td>\n",
       "      <td>83458</td>\n",
       "    </tr>\n",
       "    <tr>\n",
       "      <th>6</th>\n",
       "      <td>Valverde</td>\n",
       "      <td>El Hierro</td>\n",
       "      <td>Santa Cruz de Tenerife</td>\n",
       "      <td>-17.914964</td>\n",
       "      <td>27.806884</td>\n",
       "      <td>11147</td>\n",
       "    </tr>\n",
       "  </tbody>\n",
       "</table>\n",
       "</div>"
      ],
      "text/plain": [
       "                    municipio           isla               provincia  \\\n",
       "0  Las Palmas de Gran Canaria   Gran Canaria              Las Palmas   \n",
       "1          Puerto del Rosario  Fuerteventura              Las Palmas   \n",
       "2                    Arrecife      Lanzarote              Las Palmas   \n",
       "3      Santa Cruz de Tenerife       Tenerife  Santa Cruz de Tenerife   \n",
       "4  San Sebastián de La Gomera      La Gomera  Santa Cruz de Tenerife   \n",
       "5      Santa Cruz de La Palma       La Palma  Santa Cruz de Tenerife   \n",
       "6                    Valverde      El Hierro  Santa Cruz de Tenerife   \n",
       "\n",
       "   longitud_capital  latitud_capital  poblacion  \n",
       "0        -15.428533        28.125058     855521  \n",
       "1        -13.859694        28.498774     119732  \n",
       "2        -13.546719        28.959235     155812  \n",
       "3        -16.254634        28.469805     928604  \n",
       "4        -17.109706        28.090378      21678  \n",
       "5        -17.764744        28.683243      83458  \n",
       "6        -17.914964        27.806884      11147  "
      ]
     },
     "execution_count": 21,
     "metadata": {},
     "output_type": "execute_result"
    }
   ],
   "source": [
    "df_capitales"
   ]
  },
  {
   "cell_type": "code",
   "execution_count": 22,
   "id": "9df46264",
   "metadata": {},
   "outputs": [
    {
     "data": {
      "text/html": [
       "<div>\n",
       "<style scoped>\n",
       "    .dataframe tbody tr th:only-of-type {\n",
       "        vertical-align: middle;\n",
       "    }\n",
       "\n",
       "    .dataframe tbody tr th {\n",
       "        vertical-align: top;\n",
       "    }\n",
       "\n",
       "    .dataframe thead th {\n",
       "        text-align: right;\n",
       "    }\n",
       "</style>\n",
       "<table border=\"1\" class=\"dataframe\">\n",
       "  <thead>\n",
       "    <tr style=\"text-align: right;\">\n",
       "      <th></th>\n",
       "      <th>municipio</th>\n",
       "      <th>isla</th>\n",
       "      <th>provincia</th>\n",
       "      <th>longitud_capital</th>\n",
       "      <th>latitud_capital</th>\n",
       "    </tr>\n",
       "  </thead>\n",
       "  <tbody>\n",
       "    <tr>\n",
       "      <th>0</th>\n",
       "      <td>Las Palmas de Gran Canaria</td>\n",
       "      <td>Gran Canaria</td>\n",
       "      <td>Las Palmas</td>\n",
       "      <td>-15.428533</td>\n",
       "      <td>28.125058</td>\n",
       "    </tr>\n",
       "    <tr>\n",
       "      <th>1</th>\n",
       "      <td>Santa Cruz de Tenerife</td>\n",
       "      <td>Tenerife</td>\n",
       "      <td>Santa Cruz de Tenerife</td>\n",
       "      <td>-16.254634</td>\n",
       "      <td>28.469805</td>\n",
       "    </tr>\n",
       "  </tbody>\n",
       "</table>\n",
       "</div>"
      ],
      "text/plain": [
       "                    municipio          isla               provincia  \\\n",
       "0  Las Palmas de Gran Canaria  Gran Canaria              Las Palmas   \n",
       "1      Santa Cruz de Tenerife      Tenerife  Santa Cruz de Tenerife   \n",
       "\n",
       "   longitud_capital  latitud_capital  \n",
       "0        -15.428533        28.125058  \n",
       "1        -16.254634        28.469805  "
      ]
     },
     "execution_count": 22,
     "metadata": {},
     "output_type": "execute_result"
    }
   ],
   "source": [
    "df_capitales_provincia"
   ]
  },
  {
   "cell_type": "markdown",
   "id": "ff6057ec",
   "metadata": {},
   "source": [
    "Realizaremos ahora la obtención de los datos finales, se obtendrán por un lado los datos de los nuevos casos de cada uno de los días y a la vez se realizará un conteo de los datos de casos que se van acumulando día a día de forma que se tenga un registro total. Para ello realizamos una función que se va a encargar de realizar el conteo de los casos en función de la fecha y del tipo de agrupamiento que puede ser por municipios, islas o provincias. Una vez realizado el conteo por fecha y tipo de agrupación se irá recorriendo el dataframe resultante y se irán trasponiendo los datos de forma que se obtenga una columna de dataframe por fecha con sus resultados asociados."
   ]
  },
  {
   "cell_type": "code",
   "execution_count": 92,
   "id": "f4ebe2df",
   "metadata": {},
   "outputs": [],
   "source": [
    "def conversion(df, tipo_agrupamiento):\n",
    "    # Dataframes resultantes\n",
    "    df_result = pd.DataFrame()\n",
    "    df_result_accumul = pd.DataFrame()\n",
    "        \n",
    "    if tipo_agrupamiento == 'municipios':\n",
    "        df_agrupamientos = df_municipios\n",
    "        label = 'municipio'\n",
    "    elif tipo_agrupamiento == 'islas':\n",
    "        df_agrupamientos = df_islas\n",
    "        label = 'isla'\n",
    "    elif tipo_agrupamiento == 'provincias':\n",
    "        df_agrupamientos = df_provincias\n",
    "        label = 'provincia'\n",
    "    else:\n",
    "        return None\n",
    "    \n",
    "    # El método irá recorriendo cada uno de los municipios/islas/provincias y trasponiendo las filas por columnas para obtener el formato deseado\n",
    "    for index, row in df_agrupamientos.iterrows():\n",
    "        aux = df[df[label] == row[label]]\n",
    "        aux = aux.groupby(['fecha_caso',label]).size().reset_index()\n",
    "        aux.columns=['fecha', label, row[label]]\n",
    "        aux = aux[['fecha', row[label]]]\n",
    "        aux['fecha'] = pd.to_datetime(aux['fecha'], dayfirst=True,format='%d/%m/%Y', exact=True)\n",
    "        #aux['fecha'] = aux['fecha'].dt.strftime('%Y/%m/%d') #Para poder odernar correctamente\n",
    "        \n",
    "        #Ordenamos los resultados\n",
    "        aux = aux.sort_values(by='fecha')\n",
    "        aux = aux.set_index('fecha')\n",
    "        aux_acc = aux.cumsum()\n",
    "        aux = aux.transpose()\n",
    "        aux_acc = aux_acc.transpose()\n",
    "        \n",
    "        df_result = pd.concat([df_result, aux], axis = 0)\n",
    "        df_result_accumul = pd.concat([df_result_accumul, aux_acc], axis = 0)\n",
    "    \n",
    "    #Se realiza una segunda ordenación ya que el método concat de pandas añade al finalRealizamos la obtención de los datos empleando el método definido, obtenemos en primer lugar los datos en función de la asignación del caso. las columnas que no están en un dataframe con valor Nan\n",
    "    \n",
    "    # Ordenamos por fecha y cumplimentamos los NaN con el valor anterior, para poder ordenar por fecha tenemos que resetear los índices y estabelcer la fecha como índice de nuevo\n",
    "    df_result_accumul = df_result_accumul.transpose()\n",
    "    df_result_accumul = df_result_accumul.reset_index()  \n",
    "    df_result_accumul = df_result_accumul.sort_values(by=['fecha']) # Se ordena de nuevo para que las fechas que se han añadido con valor NaN\n",
    "    df_result_accumul['fecha'] = df_result_accumul['fecha'].dt.strftime('%d/%m/%Y')\n",
    "    df_result_accumul = df_result_accumul.set_index('fecha')\n",
    "    df_result_accumul[0:1] = df_result_accumul[0:1].fillna(0) # Si los valores NaN están al incio se cumplimentan con 0\n",
    "    df_result_accumul = df_result_accumul.fillna(method=\"pad\")# Asignamos el valor inmediatamente anterior a los NaN\n",
    "\n",
    "    df_result_accumul = df_result_accumul.transpose()\n",
    "    \n",
    "    #Ordenamos por fecha y cumplimentamos los NaN por 0, Para poder ordenar por fechas ya que da problemas se hace reseteando y estableciendo de nuevo los índices\n",
    "    df_result = df_result.replace(np.nan, 0)\n",
    "    df_result = df_result.transpose()\n",
    "    df_result = df_result.reset_index()  \n",
    "    df_result = df_result.sort_values(by=['fecha'])\n",
    "    df_result['fecha'] = df_result['fecha'].dt.strftime('%d/%m/%Y')\n",
    "    df_result = df_result.set_index('fecha')\n",
    "    df_result = df_result.transpose()\n",
    "    \n",
    "    df_result = df_result.reset_index()\n",
    "    df_result_accumul = df_result_accumul.reset_index()\n",
    "    \n",
    "    return df_result, df_result_accumul"
   ]
  },
  {
   "cell_type": "markdown",
   "id": "c46c732e",
   "metadata": {},
   "source": [
    "Realizamos la obtención de los datos empleando el método definido, obtenemos en primer lugar los datos en función de la asignación del caso."
   ]
  },
  {
   "cell_type": "code",
   "execution_count": 93,
   "id": "3c4c691a",
   "metadata": {},
   "outputs": [
    {
     "ename": "AttributeError",
     "evalue": "Can only use .dt accessor with datetimelike values",
     "output_type": "error",
     "traceback": [
      "\u001b[1;31m---------------------------------------------------------------------------\u001b[0m",
      "\u001b[1;31mAttributeError\u001b[0m                            Traceback (most recent call last)",
      "Input \u001b[1;32mIn [93]\u001b[0m, in \u001b[0;36m<cell line: 1>\u001b[1;34m()\u001b[0m\n\u001b[1;32m----> 1\u001b[0m data_municipios_asignacion, data_municipios_asignacion_accumul \u001b[38;5;241m=\u001b[39m  \u001b[43mconversion\u001b[49m\u001b[43m(\u001b[49m\u001b[43masignacion\u001b[49m\u001b[43m,\u001b[49m\u001b[43m \u001b[49m\u001b[38;5;124;43m'\u001b[39;49m\u001b[38;5;124;43mmunicipios\u001b[39;49m\u001b[38;5;124;43m'\u001b[39;49m\u001b[43m)\u001b[49m\n\u001b[0;32m      2\u001b[0m data_islas_asignacion, data_islas_asignacion_accumul \u001b[38;5;241m=\u001b[39m conversion(asignacion, \u001b[38;5;124m'\u001b[39m\u001b[38;5;124mislas\u001b[39m\u001b[38;5;124m'\u001b[39m)\n\u001b[0;32m      3\u001b[0m data_provincias_asignacion, data_provincias_asignacion_accumul \u001b[38;5;241m=\u001b[39m conversion(asignacion, \u001b[38;5;124m'\u001b[39m\u001b[38;5;124mprovincias\u001b[39m\u001b[38;5;124m'\u001b[39m)\n",
      "Input \u001b[1;32mIn [92]\u001b[0m, in \u001b[0;36mconversion\u001b[1;34m(df, tipo_agrupamiento)\u001b[0m\n\u001b[0;32m     41\u001b[0m df_result_accumul \u001b[38;5;241m=\u001b[39m df_result_accumul\u001b[38;5;241m.\u001b[39mreset_index()  \n\u001b[0;32m     42\u001b[0m df_result_accumul \u001b[38;5;241m=\u001b[39m df_result_accumul\u001b[38;5;241m.\u001b[39msort_values(by\u001b[38;5;241m=\u001b[39m[\u001b[38;5;124m'\u001b[39m\u001b[38;5;124mfecha\u001b[39m\u001b[38;5;124m'\u001b[39m]) \u001b[38;5;66;03m# Se ordena de nuevo para que las fechas que se han añadido con valor NaN\u001b[39;00m\n\u001b[1;32m---> 43\u001b[0m df_result_accumul[\u001b[38;5;124m'\u001b[39m\u001b[38;5;124mfecha\u001b[39m\u001b[38;5;124m'\u001b[39m] \u001b[38;5;241m=\u001b[39m \u001b[43mdf_result_accumul\u001b[49m\u001b[43m[\u001b[49m\u001b[38;5;124;43m'\u001b[39;49m\u001b[38;5;124;43mfecha\u001b[39;49m\u001b[38;5;124;43m'\u001b[39;49m\u001b[43m]\u001b[49m\u001b[38;5;241;43m.\u001b[39;49m\u001b[43mdt\u001b[49m\u001b[38;5;241m.\u001b[39mstrftime(\u001b[38;5;124m'\u001b[39m\u001b[38;5;132;01m%d\u001b[39;00m\u001b[38;5;124m/\u001b[39m\u001b[38;5;124m%\u001b[39m\u001b[38;5;124mm/\u001b[39m\u001b[38;5;124m%\u001b[39m\u001b[38;5;124mY\u001b[39m\u001b[38;5;124m'\u001b[39m)\n\u001b[0;32m     44\u001b[0m df_result_accumul \u001b[38;5;241m=\u001b[39m df_result_accumul\u001b[38;5;241m.\u001b[39mset_index(\u001b[38;5;124m'\u001b[39m\u001b[38;5;124mfecha\u001b[39m\u001b[38;5;124m'\u001b[39m)\n\u001b[0;32m     45\u001b[0m df_result_accumul[\u001b[38;5;241m0\u001b[39m:\u001b[38;5;241m1\u001b[39m] \u001b[38;5;241m=\u001b[39m df_result_accumul[\u001b[38;5;241m0\u001b[39m:\u001b[38;5;241m1\u001b[39m]\u001b[38;5;241m.\u001b[39mfillna(\u001b[38;5;241m0\u001b[39m) \u001b[38;5;66;03m# Si los valores NaN están al incio se cumplimentan con 0\u001b[39;00m\n",
      "File \u001b[1;32m~\\anaconda3\\lib\\site-packages\\pandas\\core\\generic.py:5575\u001b[0m, in \u001b[0;36mNDFrame.__getattr__\u001b[1;34m(self, name)\u001b[0m\n\u001b[0;32m   5568\u001b[0m \u001b[38;5;28;01mif\u001b[39;00m (\n\u001b[0;32m   5569\u001b[0m     name \u001b[38;5;129;01mnot\u001b[39;00m \u001b[38;5;129;01min\u001b[39;00m \u001b[38;5;28mself\u001b[39m\u001b[38;5;241m.\u001b[39m_internal_names_set\n\u001b[0;32m   5570\u001b[0m     \u001b[38;5;129;01mand\u001b[39;00m name \u001b[38;5;129;01mnot\u001b[39;00m \u001b[38;5;129;01min\u001b[39;00m \u001b[38;5;28mself\u001b[39m\u001b[38;5;241m.\u001b[39m_metadata\n\u001b[0;32m   5571\u001b[0m     \u001b[38;5;129;01mand\u001b[39;00m name \u001b[38;5;129;01mnot\u001b[39;00m \u001b[38;5;129;01min\u001b[39;00m \u001b[38;5;28mself\u001b[39m\u001b[38;5;241m.\u001b[39m_accessors\n\u001b[0;32m   5572\u001b[0m     \u001b[38;5;129;01mand\u001b[39;00m \u001b[38;5;28mself\u001b[39m\u001b[38;5;241m.\u001b[39m_info_axis\u001b[38;5;241m.\u001b[39m_can_hold_identifiers_and_holds_name(name)\n\u001b[0;32m   5573\u001b[0m ):\n\u001b[0;32m   5574\u001b[0m     \u001b[38;5;28;01mreturn\u001b[39;00m \u001b[38;5;28mself\u001b[39m[name]\n\u001b[1;32m-> 5575\u001b[0m \u001b[38;5;28;01mreturn\u001b[39;00m \u001b[38;5;28;43mobject\u001b[39;49m\u001b[38;5;241;43m.\u001b[39;49m\u001b[38;5;21;43m__getattribute__\u001b[39;49m\u001b[43m(\u001b[49m\u001b[38;5;28;43mself\u001b[39;49m\u001b[43m,\u001b[49m\u001b[43m \u001b[49m\u001b[43mname\u001b[49m\u001b[43m)\u001b[49m\n",
      "File \u001b[1;32m~\\anaconda3\\lib\\site-packages\\pandas\\core\\accessor.py:182\u001b[0m, in \u001b[0;36mCachedAccessor.__get__\u001b[1;34m(self, obj, cls)\u001b[0m\n\u001b[0;32m    179\u001b[0m \u001b[38;5;28;01mif\u001b[39;00m obj \u001b[38;5;129;01mis\u001b[39;00m \u001b[38;5;28;01mNone\u001b[39;00m:\n\u001b[0;32m    180\u001b[0m     \u001b[38;5;66;03m# we're accessing the attribute of the class, i.e., Dataset.geo\u001b[39;00m\n\u001b[0;32m    181\u001b[0m     \u001b[38;5;28;01mreturn\u001b[39;00m \u001b[38;5;28mself\u001b[39m\u001b[38;5;241m.\u001b[39m_accessor\n\u001b[1;32m--> 182\u001b[0m accessor_obj \u001b[38;5;241m=\u001b[39m \u001b[38;5;28;43mself\u001b[39;49m\u001b[38;5;241;43m.\u001b[39;49m\u001b[43m_accessor\u001b[49m\u001b[43m(\u001b[49m\u001b[43mobj\u001b[49m\u001b[43m)\u001b[49m\n\u001b[0;32m    183\u001b[0m \u001b[38;5;66;03m# Replace the property with the accessor object. Inspired by:\u001b[39;00m\n\u001b[0;32m    184\u001b[0m \u001b[38;5;66;03m# https://www.pydanny.com/cached-property.html\u001b[39;00m\n\u001b[0;32m    185\u001b[0m \u001b[38;5;66;03m# We need to use object.__setattr__ because we overwrite __setattr__ on\u001b[39;00m\n\u001b[0;32m    186\u001b[0m \u001b[38;5;66;03m# NDFrame\u001b[39;00m\n\u001b[0;32m    187\u001b[0m \u001b[38;5;28mobject\u001b[39m\u001b[38;5;241m.\u001b[39m\u001b[38;5;21m__setattr__\u001b[39m(obj, \u001b[38;5;28mself\u001b[39m\u001b[38;5;241m.\u001b[39m_name, accessor_obj)\n",
      "File \u001b[1;32m~\\anaconda3\\lib\\site-packages\\pandas\\core\\indexes\\accessors.py:509\u001b[0m, in \u001b[0;36mCombinedDatetimelikeProperties.__new__\u001b[1;34m(cls, data)\u001b[0m\n\u001b[0;32m    506\u001b[0m \u001b[38;5;28;01melif\u001b[39;00m is_period_dtype(data\u001b[38;5;241m.\u001b[39mdtype):\n\u001b[0;32m    507\u001b[0m     \u001b[38;5;28;01mreturn\u001b[39;00m PeriodProperties(data, orig)\n\u001b[1;32m--> 509\u001b[0m \u001b[38;5;28;01mraise\u001b[39;00m \u001b[38;5;167;01mAttributeError\u001b[39;00m(\u001b[38;5;124m\"\u001b[39m\u001b[38;5;124mCan only use .dt accessor with datetimelike values\u001b[39m\u001b[38;5;124m\"\u001b[39m)\n",
      "\u001b[1;31mAttributeError\u001b[0m: Can only use .dt accessor with datetimelike values"
     ]
    }
   ],
   "source": [
    "data_municipios_asignacion, data_municipios_asignacion_accumul =  conversion(asignacion, 'municipios')\n",
    "data_islas_asignacion, data_islas_asignacion_accumul = conversion(asignacion, 'islas')\n",
    "data_provincias_asignacion, data_provincias_asignacion_accumul = conversion(asignacion, 'provincias')"
   ]
  },
  {
   "cell_type": "markdown",
   "id": "9a77e2d1",
   "metadata": {},
   "source": [
    "Obtenemos los datos en función de la residencia del paciente."
   ]
  },
  {
   "cell_type": "code",
   "execution_count": null,
   "id": "1abeda7b",
   "metadata": {},
   "outputs": [],
   "source": [
    "data_municipios_residencia, data_municipios_residencia_accumul =  conversion(residencia, 'municipios')\n",
    "data_islas_residencia, data_islas_residencia_accumul = conversion(residencia, 'islas')\n",
    "data_provincias_residencia, data_provincias_residencia_accumul = conversion(residencia, 'provincias')"
   ]
  },
  {
   "cell_type": "markdown",
   "id": "f35911e2",
   "metadata": {},
   "source": [
    "Añadimos los datos de isla y provincia a los datos de los municipios para la visualización."
   ]
  },
  {
   "cell_type": "code",
   "execution_count": null,
   "id": "f627fb79",
   "metadata": {},
   "outputs": [],
   "source": [
    "data_municipios_asignacion = data_municipios_asignacion.merge(municipios[['municipio', 'isla', 'provincia']],  left_on='index', right_on='municipio')\n",
    "data_municipios_asignacion_accumul = data_municipios_asignacion_accumul.merge(municipios[['municipio', 'isla', 'provincia']],  left_on='index', right_on='municipio')\n",
    "\n",
    "data_municipios_residencia = data_municipios_residencia.merge(municipios[['municipio', 'isla', 'provincia']],  left_on='index', right_on='municipio')\n",
    "data_municipios_residencia_accumul = data_municipios_residencia_accumul.merge(municipios[['municipio', 'isla', 'provincia']],  left_on='index', right_on='municipio')"
   ]
  },
  {
   "cell_type": "markdown",
   "id": "d104b543",
   "metadata": {},
   "source": [
    "Realizamos la visualización de los datos obtenidos y que serán visualizados. en primer lugar, los datos en función de la asignación del caso."
   ]
  },
  {
   "cell_type": "markdown",
   "id": "4f18fd3d",
   "metadata": {},
   "source": [
    "Datos por municipios."
   ]
  },
  {
   "cell_type": "code",
   "execution_count": null,
   "id": "92ad9601",
   "metadata": {},
   "outputs": [],
   "source": [
    "#Datos por día\n",
    "data_municipios_asignacion"
   ]
  },
  {
   "cell_type": "code",
   "execution_count": null,
   "id": "abb35294",
   "metadata": {},
   "outputs": [],
   "source": [
    "#Datos acumulados\n",
    "data_municipios_asignacion_accumul"
   ]
  },
  {
   "cell_type": "markdown",
   "id": "f9d80f02",
   "metadata": {},
   "source": [
    "Datos por islas."
   ]
  },
  {
   "cell_type": "code",
   "execution_count": null,
   "id": "8e23edcb",
   "metadata": {},
   "outputs": [],
   "source": [
    "#Datos por día\n",
    "data_islas_asignacion"
   ]
  },
  {
   "cell_type": "code",
   "execution_count": null,
   "id": "a6ca57eb",
   "metadata": {},
   "outputs": [],
   "source": [
    "#Datos acumulados\n",
    "data_islas_asignacion_accumul"
   ]
  },
  {
   "cell_type": "markdown",
   "id": "4e797dde",
   "metadata": {},
   "source": [
    "Datos por provincias."
   ]
  },
  {
   "cell_type": "code",
   "execution_count": null,
   "id": "c3db811e",
   "metadata": {},
   "outputs": [],
   "source": [
    "#Datos por día\n",
    "data_provincias_asignacion"
   ]
  },
  {
   "cell_type": "code",
   "execution_count": null,
   "id": "7609ec2b",
   "metadata": {},
   "outputs": [],
   "source": [
    "#Datos p\n",
    "data_provincias_asignacion_accumul"
   ]
  },
  {
   "cell_type": "markdown",
   "id": "584af198",
   "metadata": {},
   "source": [
    "Visualizamos los datos obtenidos en función de la residencia del paciente"
   ]
  },
  {
   "cell_type": "markdown",
   "id": "8700bcd6",
   "metadata": {},
   "source": [
    "Datos por municipios."
   ]
  },
  {
   "cell_type": "code",
   "execution_count": null,
   "id": "52f7af47",
   "metadata": {},
   "outputs": [],
   "source": [
    "#Datos por día\n",
    "data_municipios_residencia"
   ]
  },
  {
   "cell_type": "code",
   "execution_count": null,
   "id": "7dd009d5",
   "metadata": {},
   "outputs": [],
   "source": [
    "#Datos acumulados\n",
    "data_municipios_residencia_accumul"
   ]
  },
  {
   "cell_type": "markdown",
   "id": "e765e810",
   "metadata": {},
   "source": [
    "Datos por islas."
   ]
  },
  {
   "cell_type": "code",
   "execution_count": null,
   "id": "6e389d7b",
   "metadata": {},
   "outputs": [],
   "source": [
    "#Datos por día\n",
    "data_islas_residencia"
   ]
  },
  {
   "cell_type": "code",
   "execution_count": null,
   "id": "0ec8291b",
   "metadata": {},
   "outputs": [],
   "source": [
    "#Datos acumulados\n",
    "data_islas_residencia_accumul"
   ]
  },
  {
   "cell_type": "markdown",
   "id": "a4702177",
   "metadata": {},
   "source": [
    "Datos por provincias."
   ]
  },
  {
   "cell_type": "code",
   "execution_count": null,
   "id": "6615eae6",
   "metadata": {},
   "outputs": [],
   "source": [
    "#Datos por día\n",
    "data_provincias_residencia"
   ]
  },
  {
   "cell_type": "code",
   "execution_count": null,
   "id": "9ba51f7a",
   "metadata": {},
   "outputs": [],
   "source": [
    "#Datos acumulados\n",
    "data_provincias_residencia_accumul"
   ]
  },
  {
   "cell_type": "markdown",
   "id": "da85806e",
   "metadata": {},
   "source": [
    "Una vez obtenidos los datos realizamos la escritura en formato Excel para realizar la subida a la plataforma de Flourish."
   ]
  },
  {
   "cell_type": "markdown",
   "id": "92a89928",
   "metadata": {},
   "source": [
    "Escritura de los datos en función de la asignación del caso."
   ]
  },
  {
   "cell_type": "code",
   "execution_count": 94,
   "id": "eea0b56d",
   "metadata": {},
   "outputs": [],
   "source": [
    "data_provincias_asignacion.to_excel('data/asignacion/provincias_asignacion.xlsx', index=False, encoding=\"utf8\")\n",
    "data_provincias_asignacion_accumul.to_excel('data/asignacion/provincias_asignacion_acc.xlsx', index=False, encoding=\"utf8\")\n",
    "data_islas_asignacion.to_excel('data/asignacion/islas_asignacion.xlsx', index=False, encoding=\"utf8\")\n",
    "data_islas_asignacion_accumul.to_excel('data/asignacion/islas_asignacion_acc.xlsx', index=False, encoding=\"utf8\")\n",
    "data_municipios_asignacion.to_excel('data/asignacion/municipios_asignacion.xlsx', index=False, encoding=\"utf8\")\n",
    "data_municipios_asignacion_accumul.to_excel('data/asignacion/municipios_asignacion_acc.xlsx', index=False, encoding=\"utf8\")"
   ]
  },
  {
   "cell_type": "markdown",
   "id": "fe47c4c2",
   "metadata": {},
   "source": [
    "Escritura de los datos en función de la residencia del paciente."
   ]
  },
  {
   "cell_type": "code",
   "execution_count": 95,
   "id": "1fe9631f",
   "metadata": {},
   "outputs": [],
   "source": [
    "data_provincias_residencia.to_excel('data/residencia/provincias_residencia.xlsx', index=False, encoding=\"utf8\")\n",
    "data_provincias_residencia_accumul.to_excel('data/residencia/provincias_residencia_acc.xlsx', index=False, encoding=\"utf8\")\n",
    "data_islas_residencia.to_excel('data/residencia/islas_residencia.xlsx', index=False, encoding=\"utf8\")\n",
    "data_islas_residencia_accumul.to_excel('data/residencia/islas_residencia_acc.xlsx', index=False, encoding=\"utf8\")\n",
    "data_municipios_residencia.to_excel('data/residencia/municipios_residencia.xlsx', index=False, encoding=\"utf8\")\n",
    "data_municipios_residencia_accumul.to_excel('data/residencia/municipios_residencia_acc.xlsx', index=False, encoding=\"utf8\")"
   ]
  },
  {
   "cell_type": "markdown",
   "id": "76a46724",
   "metadata": {},
   "source": [
    "Por último realizamos la escritura de los datos de las capitales."
   ]
  },
  {
   "cell_type": "code",
   "execution_count": 96,
   "id": "42d2a237",
   "metadata": {},
   "outputs": [],
   "source": [
    "df_capitales.to_csv('mapas/capitales.csv', index=False, sep=\",\")\n",
    "df_capitales_provincia.to_csv('mapas/capitales_provincia.csv', index=False, sep=\",\")"
   ]
  },
  {
   "cell_type": "code",
   "execution_count": null,
   "id": "e5f1b3b5",
   "metadata": {},
   "outputs": [],
   "source": []
  },
  {
   "cell_type": "code",
   "execution_count": null,
   "id": "2186b5dd",
   "metadata": {},
   "outputs": [],
   "source": []
  }
 ],
 "metadata": {
  "kernelspec": {
   "display_name": "Python 3 (ipykernel)",
   "language": "python",
   "name": "python3"
  },
  "language_info": {
   "codemirror_mode": {
    "name": "ipython",
    "version": 3
   },
   "file_extension": ".py",
   "mimetype": "text/x-python",
   "name": "python",
   "nbconvert_exporter": "python",
   "pygments_lexer": "ipython3",
   "version": "3.9.12"
  }
 },
 "nbformat": 4,
 "nbformat_minor": 5
}
